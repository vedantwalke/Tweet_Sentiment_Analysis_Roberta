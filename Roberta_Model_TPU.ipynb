{
  "nbformat": 4,
  "nbformat_minor": 0,
  "metadata": {
    "colab": {
      "name": "Full_Training_Partial_Prediction.ipynb",
      "provenance": [],
      "collapsed_sections": []
    },
    "kernelspec": {
      "name": "python3",
      "display_name": "Python 3"
    },
    "accelerator": "TPU"
  },
  "cells": [
    {
      "cell_type": "code",
      "metadata": {
        "id": "-HKQheZvEwmG",
        "colab_type": "code",
        "outputId": "9b5f233b-c0ee-446c-cf78-ddb1f9b5c583",
        "colab": {
          "base_uri": "https://localhost:8080/",
          "height": 122
        }
      },
      "source": [
        "## 1.1 Importing Drive\n",
        "from google.colab import drive\n",
        "drive.mount('/content/drive')"
      ],
      "execution_count": 0,
      "outputs": [
        {
          "output_type": "stream",
          "text": [
            "Go to this URL in a browser: https://accounts.google.com/o/oauth2/auth?client_id=947318989803-6bn6qk8qdgf4n4g3pfee6491hc0brc4i.apps.googleusercontent.com&redirect_uri=urn%3aietf%3awg%3aoauth%3a2.0%3aoob&response_type=code&scope=email%20https%3a%2f%2fwww.googleapis.com%2fauth%2fdocs.test%20https%3a%2f%2fwww.googleapis.com%2fauth%2fdrive%20https%3a%2f%2fwww.googleapis.com%2fauth%2fdrive.photos.readonly%20https%3a%2f%2fwww.googleapis.com%2fauth%2fpeopleapi.readonly\n",
            "\n",
            "Enter your authorization code:\n",
            "··········\n",
            "Mounted at /content/drive\n"
          ],
          "name": "stdout"
        }
      ]
    },
    {
      "cell_type": "code",
      "metadata": {
        "id": "X_d1FRYwE4kX",
        "colab_type": "code",
        "outputId": "264c4866-ac79-41fd-b883-a0abb4a35ae4",
        "colab": {
          "base_uri": "https://localhost:8080/",
          "height": 34
        }
      },
      "source": [
        "cd \"/content/drive/My Drive/Colab Notebooks\""
      ],
      "execution_count": 0,
      "outputs": [
        {
          "output_type": "stream",
          "text": [
            "/content/drive/My Drive/Colab Notebooks\n"
          ],
          "name": "stdout"
        }
      ]
    },
    {
      "cell_type": "code",
      "metadata": {
        "id": "2Kz-QTcWFHd3",
        "colab_type": "code",
        "outputId": "cc8d00c0-41b7-447b-bd1e-16f499419343",
        "colab": {
          "base_uri": "https://localhost:8080/",
          "height": 561
        }
      },
      "source": [
        "pip install transformers"
      ],
      "execution_count": 0,
      "outputs": [
        {
          "output_type": "stream",
          "text": [
            "Collecting transformers\n",
            "\u001b[?25l  Downloading https://files.pythonhosted.org/packages/12/b5/ac41e3e95205ebf53439e4dd087c58e9fd371fd8e3724f2b9b4cdb8282e5/transformers-2.10.0-py3-none-any.whl (660kB)\n",
            "\u001b[K     |████████████████████████████████| 665kB 3.4MB/s \n",
            "\u001b[?25hCollecting sentencepiece\n",
            "\u001b[?25l  Downloading https://files.pythonhosted.org/packages/d4/a4/d0a884c4300004a78cca907a6ff9a5e9fe4f090f5d95ab341c53d28cbc58/sentencepiece-0.1.91-cp36-cp36m-manylinux1_x86_64.whl (1.1MB)\n",
            "\u001b[K     |████████████████████████████████| 1.1MB 16.0MB/s \n",
            "\u001b[?25hRequirement already satisfied: filelock in /usr/local/lib/python3.6/dist-packages (from transformers) (3.0.12)\n",
            "Collecting tokenizers==0.7.0\n",
            "\u001b[?25l  Downloading https://files.pythonhosted.org/packages/14/e5/a26eb4716523808bb0a799fcfdceb6ebf77a18169d9591b2f46a9adb87d9/tokenizers-0.7.0-cp36-cp36m-manylinux1_x86_64.whl (3.8MB)\n",
            "\u001b[K     |████████████████████████████████| 3.8MB 25.9MB/s \n",
            "\u001b[?25hCollecting sacremoses\n",
            "\u001b[?25l  Downloading https://files.pythonhosted.org/packages/7d/34/09d19aff26edcc8eb2a01bed8e98f13a1537005d31e95233fd48216eed10/sacremoses-0.0.43.tar.gz (883kB)\n",
            "\u001b[K     |████████████████████████████████| 890kB 39.6MB/s \n",
            "\u001b[?25hRequirement already satisfied: regex!=2019.12.17 in /usr/local/lib/python3.6/dist-packages (from transformers) (2019.12.20)\n",
            "Requirement already satisfied: requests in /usr/local/lib/python3.6/dist-packages (from transformers) (2.23.0)\n",
            "Requirement already satisfied: dataclasses; python_version < \"3.7\" in /usr/local/lib/python3.6/dist-packages (from transformers) (0.7)\n",
            "Requirement already satisfied: numpy in /usr/local/lib/python3.6/dist-packages (from transformers) (1.18.4)\n",
            "Requirement already satisfied: tqdm>=4.27 in /usr/local/lib/python3.6/dist-packages (from transformers) (4.41.1)\n",
            "Requirement already satisfied: six in /usr/local/lib/python3.6/dist-packages (from sacremoses->transformers) (1.12.0)\n",
            "Requirement already satisfied: click in /usr/local/lib/python3.6/dist-packages (from sacremoses->transformers) (7.1.2)\n",
            "Requirement already satisfied: joblib in /usr/local/lib/python3.6/dist-packages (from sacremoses->transformers) (0.15.1)\n",
            "Requirement already satisfied: urllib3!=1.25.0,!=1.25.1,<1.26,>=1.21.1 in /usr/local/lib/python3.6/dist-packages (from requests->transformers) (1.24.3)\n",
            "Requirement already satisfied: chardet<4,>=3.0.2 in /usr/local/lib/python3.6/dist-packages (from requests->transformers) (3.0.4)\n",
            "Requirement already satisfied: certifi>=2017.4.17 in /usr/local/lib/python3.6/dist-packages (from requests->transformers) (2020.4.5.1)\n",
            "Requirement already satisfied: idna<3,>=2.5 in /usr/local/lib/python3.6/dist-packages (from requests->transformers) (2.9)\n",
            "Building wheels for collected packages: sacremoses\n",
            "  Building wheel for sacremoses (setup.py) ... \u001b[?25l\u001b[?25hdone\n",
            "  Created wheel for sacremoses: filename=sacremoses-0.0.43-cp36-none-any.whl size=893260 sha256=da9e91177ad14aa241600d967f8b0da9bbba3155b4b9c37574191b228efbd395\n",
            "  Stored in directory: /root/.cache/pip/wheels/29/3c/fd/7ce5c3f0666dab31a50123635e6fb5e19ceb42ce38d4e58f45\n",
            "Successfully built sacremoses\n",
            "Installing collected packages: sentencepiece, tokenizers, sacremoses, transformers\n",
            "Successfully installed sacremoses-0.0.43 sentencepiece-0.1.91 tokenizers-0.7.0 transformers-2.10.0\n"
          ],
          "name": "stdout"
        }
      ]
    },
    {
      "cell_type": "code",
      "metadata": {
        "id": "8Hy3oLo2FJ4c",
        "colab_type": "code",
        "outputId": "5a71b03d-ed97-4d98-b4f4-0e71baedb480",
        "colab": {
          "base_uri": "https://localhost:8080/",
          "height": 34
        }
      },
      "source": [
        "## Import all libraries\n",
        "import numpy as np\n",
        "import pandas as pd\n",
        "import tensorflow as tf\n",
        "from tensorflow.keras import layers\n",
        "from tensorflow.keras.layers import Dense,Input,Embedding\n",
        "from tensorflow.keras.models import Model\n",
        "from tensorflow.keras.models import load_model\n",
        "import keras.backend as K\n",
        "from transformers import *\n",
        "import tokenizers\n",
        "from tokenizers import ByteLevelBPETokenizer\n",
        "import os\n",
        "from sklearn.model_selection import StratifiedKFold\n",
        "from sklearn.preprocessing import LabelEncoder"
      ],
      "execution_count": 0,
      "outputs": [
        {
          "output_type": "stream",
          "text": [
            "Using TensorFlow backend.\n"
          ],
          "name": "stderr"
        }
      ]
    },
    {
      "cell_type": "code",
      "metadata": {
        "id": "-Wi4xjnaFL2f",
        "colab_type": "code",
        "outputId": "ce2fcb03-e817-4caf-dc9b-a0788d869588",
        "colab": {
          "base_uri": "https://localhost:8080/",
          "height": 714
        }
      },
      "source": [
        "# For Running the code in TPU.\n",
        "resolver = tf.distribute.cluster_resolver.TPUClusterResolver(tpu='grpc://' + os.environ['COLAB_TPU_ADDR'])\n",
        "tf.config.experimental_connect_to_cluster(resolver)\n",
        "# This is the TPU initialization code that has to be at the beginning.\n",
        "tf.tpu.experimental.initialize_tpu_system(resolver)\n",
        "strategy = tf.distribute.experimental.TPUStrategy(resolver)"
      ],
      "execution_count": 0,
      "outputs": [
        {
          "output_type": "stream",
          "text": [
            "INFO:absl:Entering into master device scope: /job:worker/replica:0/task:0/device:CPU:0\n"
          ],
          "name": "stderr"
        },
        {
          "output_type": "stream",
          "text": [
            "INFO:tensorflow:Initializing the TPU system: grpc://10.33.47.234:8470\n"
          ],
          "name": "stdout"
        },
        {
          "output_type": "stream",
          "text": [
            "INFO:tensorflow:Initializing the TPU system: grpc://10.33.47.234:8470\n"
          ],
          "name": "stderr"
        },
        {
          "output_type": "stream",
          "text": [
            "INFO:tensorflow:Clearing out eager caches\n"
          ],
          "name": "stdout"
        },
        {
          "output_type": "stream",
          "text": [
            "INFO:tensorflow:Clearing out eager caches\n"
          ],
          "name": "stderr"
        },
        {
          "output_type": "stream",
          "text": [
            "INFO:tensorflow:Finished initializing TPU system.\n"
          ],
          "name": "stdout"
        },
        {
          "output_type": "stream",
          "text": [
            "INFO:tensorflow:Finished initializing TPU system.\n"
          ],
          "name": "stderr"
        },
        {
          "output_type": "stream",
          "text": [
            "INFO:tensorflow:Found TPU system:\n"
          ],
          "name": "stdout"
        },
        {
          "output_type": "stream",
          "text": [
            "INFO:tensorflow:Found TPU system:\n"
          ],
          "name": "stderr"
        },
        {
          "output_type": "stream",
          "text": [
            "INFO:tensorflow:*** Num TPU Cores: 8\n"
          ],
          "name": "stdout"
        },
        {
          "output_type": "stream",
          "text": [
            "INFO:tensorflow:*** Num TPU Cores: 8\n"
          ],
          "name": "stderr"
        },
        {
          "output_type": "stream",
          "text": [
            "INFO:tensorflow:*** Num TPU Workers: 1\n"
          ],
          "name": "stdout"
        },
        {
          "output_type": "stream",
          "text": [
            "INFO:tensorflow:*** Num TPU Workers: 1\n"
          ],
          "name": "stderr"
        },
        {
          "output_type": "stream",
          "text": [
            "INFO:tensorflow:*** Num TPU Cores Per Worker: 8\n"
          ],
          "name": "stdout"
        },
        {
          "output_type": "stream",
          "text": [
            "INFO:tensorflow:*** Num TPU Cores Per Worker: 8\n"
          ],
          "name": "stderr"
        },
        {
          "output_type": "stream",
          "text": [
            "INFO:tensorflow:*** Available Device: _DeviceAttributes(/job:localhost/replica:0/task:0/device:CPU:0, CPU, 0, 0)\n"
          ],
          "name": "stdout"
        },
        {
          "output_type": "stream",
          "text": [
            "INFO:tensorflow:*** Available Device: _DeviceAttributes(/job:localhost/replica:0/task:0/device:CPU:0, CPU, 0, 0)\n"
          ],
          "name": "stderr"
        },
        {
          "output_type": "stream",
          "text": [
            "INFO:tensorflow:*** Available Device: _DeviceAttributes(/job:localhost/replica:0/task:0/device:XLA_CPU:0, XLA_CPU, 0, 0)\n"
          ],
          "name": "stdout"
        },
        {
          "output_type": "stream",
          "text": [
            "INFO:tensorflow:*** Available Device: _DeviceAttributes(/job:localhost/replica:0/task:0/device:XLA_CPU:0, XLA_CPU, 0, 0)\n"
          ],
          "name": "stderr"
        },
        {
          "output_type": "stream",
          "text": [
            "INFO:tensorflow:*** Available Device: _DeviceAttributes(/job:worker/replica:0/task:0/device:CPU:0, CPU, 0, 0)\n"
          ],
          "name": "stdout"
        },
        {
          "output_type": "stream",
          "text": [
            "INFO:tensorflow:*** Available Device: _DeviceAttributes(/job:worker/replica:0/task:0/device:CPU:0, CPU, 0, 0)\n"
          ],
          "name": "stderr"
        },
        {
          "output_type": "stream",
          "text": [
            "INFO:tensorflow:*** Available Device: _DeviceAttributes(/job:worker/replica:0/task:0/device:TPU:0, TPU, 0, 0)\n"
          ],
          "name": "stdout"
        },
        {
          "output_type": "stream",
          "text": [
            "INFO:tensorflow:*** Available Device: _DeviceAttributes(/job:worker/replica:0/task:0/device:TPU:0, TPU, 0, 0)\n"
          ],
          "name": "stderr"
        },
        {
          "output_type": "stream",
          "text": [
            "INFO:tensorflow:*** Available Device: _DeviceAttributes(/job:worker/replica:0/task:0/device:TPU:1, TPU, 0, 0)\n"
          ],
          "name": "stdout"
        },
        {
          "output_type": "stream",
          "text": [
            "INFO:tensorflow:*** Available Device: _DeviceAttributes(/job:worker/replica:0/task:0/device:TPU:1, TPU, 0, 0)\n"
          ],
          "name": "stderr"
        },
        {
          "output_type": "stream",
          "text": [
            "INFO:tensorflow:*** Available Device: _DeviceAttributes(/job:worker/replica:0/task:0/device:TPU:2, TPU, 0, 0)\n"
          ],
          "name": "stdout"
        },
        {
          "output_type": "stream",
          "text": [
            "INFO:tensorflow:*** Available Device: _DeviceAttributes(/job:worker/replica:0/task:0/device:TPU:2, TPU, 0, 0)\n"
          ],
          "name": "stderr"
        },
        {
          "output_type": "stream",
          "text": [
            "INFO:tensorflow:*** Available Device: _DeviceAttributes(/job:worker/replica:0/task:0/device:TPU:3, TPU, 0, 0)\n"
          ],
          "name": "stdout"
        },
        {
          "output_type": "stream",
          "text": [
            "INFO:tensorflow:*** Available Device: _DeviceAttributes(/job:worker/replica:0/task:0/device:TPU:3, TPU, 0, 0)\n"
          ],
          "name": "stderr"
        },
        {
          "output_type": "stream",
          "text": [
            "INFO:tensorflow:*** Available Device: _DeviceAttributes(/job:worker/replica:0/task:0/device:TPU:4, TPU, 0, 0)\n"
          ],
          "name": "stdout"
        },
        {
          "output_type": "stream",
          "text": [
            "INFO:tensorflow:*** Available Device: _DeviceAttributes(/job:worker/replica:0/task:0/device:TPU:4, TPU, 0, 0)\n"
          ],
          "name": "stderr"
        },
        {
          "output_type": "stream",
          "text": [
            "INFO:tensorflow:*** Available Device: _DeviceAttributes(/job:worker/replica:0/task:0/device:TPU:5, TPU, 0, 0)\n"
          ],
          "name": "stdout"
        },
        {
          "output_type": "stream",
          "text": [
            "INFO:tensorflow:*** Available Device: _DeviceAttributes(/job:worker/replica:0/task:0/device:TPU:5, TPU, 0, 0)\n"
          ],
          "name": "stderr"
        },
        {
          "output_type": "stream",
          "text": [
            "INFO:tensorflow:*** Available Device: _DeviceAttributes(/job:worker/replica:0/task:0/device:TPU:6, TPU, 0, 0)\n"
          ],
          "name": "stdout"
        },
        {
          "output_type": "stream",
          "text": [
            "INFO:tensorflow:*** Available Device: _DeviceAttributes(/job:worker/replica:0/task:0/device:TPU:6, TPU, 0, 0)\n"
          ],
          "name": "stderr"
        },
        {
          "output_type": "stream",
          "text": [
            "INFO:tensorflow:*** Available Device: _DeviceAttributes(/job:worker/replica:0/task:0/device:TPU:7, TPU, 0, 0)\n"
          ],
          "name": "stdout"
        },
        {
          "output_type": "stream",
          "text": [
            "INFO:tensorflow:*** Available Device: _DeviceAttributes(/job:worker/replica:0/task:0/device:TPU:7, TPU, 0, 0)\n"
          ],
          "name": "stderr"
        },
        {
          "output_type": "stream",
          "text": [
            "INFO:tensorflow:*** Available Device: _DeviceAttributes(/job:worker/replica:0/task:0/device:TPU_SYSTEM:0, TPU_SYSTEM, 0, 0)\n"
          ],
          "name": "stdout"
        },
        {
          "output_type": "stream",
          "text": [
            "INFO:tensorflow:*** Available Device: _DeviceAttributes(/job:worker/replica:0/task:0/device:TPU_SYSTEM:0, TPU_SYSTEM, 0, 0)\n"
          ],
          "name": "stderr"
        },
        {
          "output_type": "stream",
          "text": [
            "INFO:tensorflow:*** Available Device: _DeviceAttributes(/job:worker/replica:0/task:0/device:XLA_CPU:0, XLA_CPU, 0, 0)\n"
          ],
          "name": "stdout"
        },
        {
          "output_type": "stream",
          "text": [
            "INFO:tensorflow:*** Available Device: _DeviceAttributes(/job:worker/replica:0/task:0/device:XLA_CPU:0, XLA_CPU, 0, 0)\n"
          ],
          "name": "stderr"
        }
      ]
    },
    {
      "cell_type": "code",
      "metadata": {
        "id": "xD9heTKNsFNM",
        "colab_type": "code",
        "colab": {}
      },
      "source": [
        "# tf.tpu.experimental.initialize_tpu_system(resolver)"
      ],
      "execution_count": 0,
      "outputs": []
    },
    {
      "cell_type": "code",
      "metadata": {
        "id": "E2__xKbaFSCA",
        "colab_type": "code",
        "colab": {}
      },
      "source": [
        "## Importing the dataset.\n",
        "train = pd.read_csv('/content/drive/My Drive/Colab Notebooks/Tweet_Sentiment_Extraction/Input Dataset/train.csv', keep_default_na=False)\n",
        "test = pd.read_csv('/content/drive/My Drive/Colab Notebooks/Tweet_Sentiment_Extraction/Input Dataset/test.csv', keep_default_na=False)"
      ],
      "execution_count": 0,
      "outputs": []
    },
    {
      "cell_type": "code",
      "metadata": {
        "id": "rQrLW2A7FVqY",
        "colab_type": "code",
        "colab": {}
      },
      "source": [
        "#Config\n",
        "Max_length = 180"
      ],
      "execution_count": 0,
      "outputs": []
    },
    {
      "cell_type": "code",
      "metadata": {
        "id": "8Lw74lOcFX36",
        "colab_type": "code",
        "colab": {}
      },
      "source": [
        "##All functions \n",
        "## function returning overlap between two id vectors\n",
        "def list_in(a, b):\n",
        "  y_seq = np.zeros((len(b)),dtype='int32')\n",
        "  for i in range(0,len(b) - len(a) + 1):\n",
        "    if b[i:i + len(a)] == a:\n",
        "      y_seq[i:i+len(a)] = 1\n",
        "      if b[i-1] == \" \":\n",
        "        y_seq[i-1] = 1\n",
        "      break\n",
        "  return y_seq\n",
        "def jaccard(str1, str2): \n",
        "    a = set(str1.lower().split()) \n",
        "    b = set(str2.lower().split())\n",
        "    if (len(a)==0) & (len(b)==0): return 0.5\n",
        "    c = a.intersection(b)\n",
        "    return float(len(c)) / (len(a) + len(b) - len(c))"
      ],
      "execution_count": 0,
      "outputs": []
    },
    {
      "cell_type": "code",
      "metadata": {
        "id": "AI-58AnAFa8b",
        "colab_type": "code",
        "colab": {}
      },
      "source": [
        "### Making Dataset for training on complete dataset(preprocessing for roberta)\n",
        "## Defining the tokenizer.\n",
        "tokenizer = tokenizers.ByteLevelBPETokenizer(\n",
        "    vocab_file = \"/content/drive/My Drive/Colab Notebooks/Tweet_Sentiment_Extraction/RoBerta_Model/vocab-roberta-base.json\" ,\n",
        "    merges_file = \"/content/drive/My Drive/Colab Notebooks/Tweet_Sentiment_Extraction/RoBerta_Model/merges-roberta-base.txt\",\n",
        "    lowercase=True,\n",
        "    add_prefix_space=True)"
      ],
      "execution_count": 0,
      "outputs": []
    },
    {
      "cell_type": "code",
      "metadata": {
        "id": "GDCc1P1Ev6Ya",
        "colab_type": "code",
        "colab": {}
      },
      "source": [
        "obs = train.shape[0]\n",
        "input_tokens = np.ones((obs,Max_length),dtype='int32')\n",
        "mask = np.zeros((obs,Max_length),dtype='int32')\n",
        "seg = np.zeros((obs,Max_length),dtype='int32')\n",
        "st_vec = np.zeros((obs,Max_length),dtype='int32')\n",
        "end_vec = np.zeros((obs,Max_length),dtype='int32') \n",
        "\n",
        "for i in range(0,obs):\n",
        "  ## Overlap character-wise.\n",
        "  overlap_char = list_in(\" \".join(train.selected_text.values[i].split()),\" \"+\" \".join(train.text.values[i].split()))\n",
        "\n",
        "  ## Encoding the tweet\n",
        "  tweet_ex = tokenizer.encode(\" \"+\" \".join(train.text.values[i].split()))\n",
        "\n",
        "  ## Tweet ids \n",
        "  tweet_ex_ids = tweet_ex.ids\n",
        "  input_tokens[i,0:len(tweet_ex_ids)+5] = [0]+tweet_ex_ids+[2,2]+tokenizer.encode(train.sentiment.values[i]).ids + [2]\n",
        "  mask[i,0:len(tweet_ex_ids)+5] = 1\n",
        "\n",
        "  ## Tweet Offsets\n",
        "  tweet_ex_off = tweet_ex.offsets\n",
        "\n",
        "  ## Encoding selected part of tweet \n",
        "  selected_text_tweet = tokenizer.encode(\" \"+\" \".join(train.selected_text.values[i].split()))\n",
        "\n",
        "  tokens = []\n",
        "  for j,(a,b) in enumerate(tweet_ex_off):\n",
        "    if sum( overlap_char[a:b] ) > 0:\n",
        "      tokens.append(j)\n",
        "\n",
        "  ## Start Vector and End Vector\n",
        "  if len(tokens)>0:\n",
        "    st_vec[i,tokens[0]+1] = 1\n",
        "    end_vec[i,tokens[-1]+1] = 1"
      ],
      "execution_count": 0,
      "outputs": []
    },
    {
      "cell_type": "code",
      "metadata": {
        "id": "he39E5XS91Ce",
        "colab_type": "code",
        "colab": {}
      },
      "source": [
        "obs1 = test.shape[0]\n",
        "input_tokens_test = np.ones((obs1,Max_length),dtype='int32')\n",
        "mask_test = np.zeros((obs1,Max_length),dtype='int32')\n",
        "seg_test = np.zeros((obs1,Max_length),dtype='int32')\n",
        "\n",
        "for i in range(0,obs1):\n",
        "  ## Encoding the tweet\n",
        "  tweet_ex_test = tokenizer.encode(\" \"+\" \".join(test.text.values[i].split()))\n",
        "\n",
        "  ## Tweet ids \n",
        "  tweet_ex_ids_test = tweet_ex_test.ids\n",
        "  input_tokens_test[i,0:len(tweet_ex_ids_test)+5] = [0]+tweet_ex_ids_test+[2,2]+tokenizer.encode(test.sentiment.values[i]).ids + [2]\n",
        "  mask_test[i,0:len(tweet_ex_ids_test)+5] = 1"
      ],
      "execution_count": 0,
      "outputs": []
    },
    {
      "cell_type": "code",
      "metadata": {
        "id": "xCwFEK0UTVy5",
        "colab_type": "code",
        "colab": {}
      },
      "source": [
        "# sentiment_id = {'positive': 1313, 'negative': 2430, 'neutral': 7974}\n",
        "# MAX_LEN = Max_length\n",
        "# ct = train.shape[0]\n",
        "# input_ids = np.ones((ct,MAX_LEN),dtype='int32')\n",
        "# attention_mask = np.zeros((ct,MAX_LEN),dtype='int32')\n",
        "# token_type_ids = np.zeros((ct,MAX_LEN),dtype='int32')\n",
        "# start_tokens = np.zeros((ct,MAX_LEN),dtype='int32')\n",
        "# end_tokens = np.zeros((ct,MAX_LEN),dtype='int32')\n",
        "\n",
        "# for k in range(train.shape[0]):\n",
        "    \n",
        "#     # FIND OVERLAP\n",
        "#     text1 = \" \"+\" \".join(train.loc[k,'text'].split())\n",
        "#     text2 = \" \".join(train.loc[k,'selected_text'].split())\n",
        "#     idx = text1.find(text2)\n",
        "#     chars = np.zeros((len(text1)))\n",
        "#     chars[idx:idx+len(text2)]=1\n",
        "#     if text1[idx-1]==' ': chars[idx-1] = 1 \n",
        "#     enc = tokenizer.encode(text1) \n",
        "        \n",
        "#     # ID_OFFSETS\n",
        "#     offsets = []; idx=0\n",
        "#     for t in enc.ids:\n",
        "#         w = tokenizer.decode([t])\n",
        "#         offsets.append((idx,idx+len(w)))\n",
        "#         idx += len(w)\n",
        "    \n",
        "#     # START END TOKENS\n",
        "#     toks = []\n",
        "#     for i,(a,b) in enumerate(offsets):\n",
        "#         sm = np.sum(chars[a:b])\n",
        "#         if sm>0: toks.append(i) \n",
        "        \n",
        "#     s_tok = sentiment_id[train.loc[k,'sentiment']]\n",
        "#     input_ids[k,:len(enc.ids)+5] = [0] + enc.ids + [2,2] + [s_tok] + [2]\n",
        "#     attention_mask[k,:len(enc.ids)+5] = 1\n",
        "#     if len(toks)>0:\n",
        "#         start_tokens[k,toks[0]+1] = 1\n",
        "#         end_tokens[k,toks[-1]+1] = 1"
      ],
      "execution_count": 0,
      "outputs": []
    },
    {
      "cell_type": "code",
      "metadata": {
        "id": "XjS39evSTi7H",
        "colab_type": "code",
        "colab": {}
      },
      "source": [
        "# flag = 0\n",
        "# for i in range(0,len(input_tokens)):\n",
        "#   if np.array_equal(token_type_ids[i],seg[i]) == False :\n",
        "#     # print(start_tokens[i],'\\n',st_vec[i],'\\n',train.text.values[i],'\\n',train.selected_text.values[i])\n",
        "#     flag += 1\n",
        "# print(flag)"
      ],
      "execution_count": 0,
      "outputs": []
    },
    {
      "cell_type": "code",
      "metadata": {
        "id": "hPOPqB9X1Dku",
        "colab_type": "code",
        "colab": {}
      },
      "source": [
        "# for i in range(0,1):\n",
        "#   print( input_tokens[i],'\\n',mask[i],'\\n',seg[i],'\\n',st_vec[i],'\\n',end_vec[i],'\\n',train.text.values[i],'\\n',train.selected_text.values[i],'\\n',tokenizer.encode(train.text.values[i]).tokens,'\\n',tokenizer.encode(train.selected_text.values[i]).tokens,'\\n',tokens,'\\n',tweet_ex_off )"
      ],
      "execution_count": 0,
      "outputs": []
    },
    {
      "cell_type": "code",
      "metadata": {
        "id": "pz71rM2piyku",
        "colab_type": "code",
        "colab": {}
      },
      "source": [
        "## Model Building(MODEL_1)(Sentiment used in tokens)\n",
        "def Create_Model():\n",
        "  token_inputs = Input((Max_length,), dtype=tf.int32, name='token_inputs')\n",
        "  mask_inputs = Input((Max_length,), dtype=tf.int32, name='mask_inputs')\n",
        "  seg_inputs = Input((Max_length,), dtype=tf.int32, name='seg_inputs')\n",
        "  # sentiment_input = Input((Max_length,2,),dtype=tf.float32,name='sentiment_inputs')\n",
        "\n",
        "  config = BertConfig.from_pretrained(\"/content/drive/My Drive/Colab Notebooks/Tweet_Sentiment_Extraction/RoBerta_Model/config-roberta-base.json\") \n",
        "  model = TFRobertaModel.from_pretrained(\"/content/drive/My Drive/Colab Notebooks/Tweet_Sentiment_Extraction/RoBerta_Model/pretrained-roberta-base.h5\",config=config )\n",
        "\n",
        "  pool_output,seq_out = model([token_inputs, mask_inputs, seg_inputs])\n",
        "  # x1 = tf.keras.layers.concatenate([pool_output,sentiment_input])\n",
        "  x1 = tf.keras.layers.Dropout(0.1)(pool_output) \n",
        "  x1 = tf.keras.layers.Conv1D(32, 2,padding='same',activation = 'relu')(x1)\n",
        "  # x1 = tf.keras.layers.LeakyReLU()(x1)\n",
        "  x1 = tf.keras.layers.Conv1D(16,2,padding='same',activation='relu')(x1)\n",
        "  x1 = tf.keras.layers.Dense(1)(x1)\n",
        "  x1 = tf.keras.layers.Flatten()(x1)\n",
        "  x1 = tf.keras.layers.Activation('softmax')(x1)\n",
        "\n",
        "  # x2 = tf.keras.layers.concatenate([pool_output,sentiment_input])\n",
        "  x2 = tf.keras.layers.Dropout(0.1)(pool_output) \n",
        "  x2 = tf.keras.layers.Conv1D(32, 2, padding='same',activation='relu')(x2)\n",
        "  # x2 = tf.keras.layers.LeakyReLU(0.1)(x2) \n",
        "  x2 = tf.keras.layers.Conv1D(16,2,padding='same',activation='relu')(x2)\n",
        "  x2 = tf.keras.layers.Dense(1)(x2)\n",
        "  x2 = tf.keras.layers.Flatten()(x2)\n",
        "  x2 = tf.keras.layers.Activation('softmax')(x2)\n",
        "\n",
        "  bert_model1 = Model([token_inputs, mask_inputs, seg_inputs],[x1,x2])\n",
        "  return bert_model1"
      ],
      "execution_count": 0,
      "outputs": []
    },
    {
      "cell_type": "code",
      "metadata": {
        "id": "YtRHLwGEBJu3",
        "colab_type": "code",
        "colab": {}
      },
      "source": [
        "# def train_fn(tokens,mask,seg,start_vec,end_vec,sentiment,tokens_test,mask_test,seg_test,start_vec_test,end_vec_test,sentiment_test,fold): \n",
        "#     tokens_tr = []\n",
        "#     mask_tr = []\n",
        "#     seg_tr = []\n",
        "#     start_vec_tr = []\n",
        "#     end_vec_tr = []\n",
        "#     sentiment_tr = []\n",
        "#     for i in range(0,len(tokens)):\n",
        "#       #if sentiment.iloc[i] != \"neutral\":\n",
        "#       if sentiment[i] != \"neutral\":\n",
        "#         tokens_tr.append(tokens[i])\n",
        "#         mask_tr.append(mask[i]) \n",
        "#         seg_tr.append(seg[i])\n",
        "#         start_vec_tr.append(start_vec[i])\n",
        "#         end_vec_tr.append(end_vec[i])\n",
        "#     tokens_tr = np.asarray(tokens_tr, dtype=np.int32) \n",
        "#     mask_tr = np.asarray(mask_tr, dtype=np.int32) \n",
        "#     seg_tr = np.asarray(seg_tr, dtype=np.int32) \n",
        "#     start_vec_tr = np.asarray(start_vec_tr, dtype=np.int32) \n",
        "#     end_vec_tr = np.asarray(end_vec_tr, dtype=np.int32) \n",
        "\n",
        "#     tokens_tst = []\n",
        "#     mask_tst = []\n",
        "#     seg_tst = []\n",
        "#     start_vec_tst = []\n",
        "#     end_vec_tst = []\n",
        "#     for i in range(0,len(tokens_test)):\n",
        "#       if sentiment_test[i] != \"neutral\":\n",
        "#         tokens_tst.append(tokens[i])\n",
        "#         mask_tst.append(mask[i]) \n",
        "#         seg_tst.append(seg[i])\n",
        "#         start_vec_tst.append(start_vec[i])\n",
        "#         end_vec_tst.append(end_vec[i])\n",
        "#     tokens_tst = np.asarray(tokens_tst, dtype=np.int32) \n",
        "#     mask_tst = np.asarray(mask_tst, dtype=np.int32) \n",
        "#     seg_tst = np.asarray(seg_tst, dtype=np.int32) \n",
        "#     start_vec_tst = np.asarray(start_vec_tst, dtype=np.int32) \n",
        "#     end_vec_tst = np.asarray(end_vec_tst, dtype=np.int32) \n",
        "\n",
        "#     optimizer = tf.keras.optimizers.Adam(learning_rate=3e-5)\n",
        "\n",
        "#     if fold > 0:\n",
        "#       tf.tpu.experimental.initialize_tpu_system(resolver)\n",
        "\n",
        "#     with strategy.scope():\n",
        "#       bert_model1 = Create_Model()\n",
        "#       #bert_model2.compile(optimizer=optimizer,loss = \"binary_crossentropy\")\n",
        "#       bert_model1.compile(optimizer=optimizer,loss = \"binary_crossentropy\")\n",
        "    \n",
        "#     # bert_model1 = Create_Model()\n",
        "#     # #bert_model2.compile(optimizer=optimizer,loss = \"binary_crossentropy\")\n",
        "#     # bert_model1.compile(optimizer=optimizer,loss = \"binary_crossentropy\")\n",
        "\n",
        "#     def scheduler(epoch):\n",
        "#       return 3e-5 * 0.2**epoch\n",
        "#     DISPLAY = 1\n",
        "#     # K.clear_session()\n",
        "#     reduce_lr = tf.keras.callbacks.LearningRateScheduler(scheduler)\n",
        "\n",
        "#     # bert_model2.fit([tokens_tr,mask_tr,seg_tr,sentiment_tr],[start_vec_tr,end_vec_tr],epochs=5,batch_size =8,verbose=DISPLAY,callbacks=[reduce_lr,cp_callback])\n",
        "#   #For Roberta Model\n",
        "#     bert_model1.fit([tokens_tr,mask_tr,seg_tr],[start_vec_tr,end_vec_tr],epochs=5,batch_size =8,verbose=DISPLAY,callbacks=[reduce_lr,cp_callback],\n",
        "#                       validation_data = ([tokens_tst,mask_tst,seg_tst],[start_vec_tst,end_vec_tst]))\n",
        "#     return bert_model1"
      ],
      "execution_count": 0,
      "outputs": []
    },
    {
      "cell_type": "code",
      "metadata": {
        "id": "dOVNW6iSL4W7",
        "colab_type": "code",
        "colab": {}
      },
      "source": [
        "def train_fn(tokens,mask,seg,start_vec,end_vec,sentiment,tokens_test,mask_test,seg_test,start_vec_test,end_vec_test,sentiment_test,fold): \n",
        "    # tokens_tr = []\n",
        "    # mask_tr = []\n",
        "    # seg_tr = []\n",
        "    # start_vec_tr = []\n",
        "    # end_vec_tr = []\n",
        "    # sentiment_tr = []\n",
        "    # for i in range(0,len(tokens)):\n",
        "    #   #if sentiment.iloc[i] != \"neutral\":\n",
        "    #   if sentiment[i] != \"neutral\":\n",
        "    #     tokens_tr.append(tokens[i])\n",
        "    #     mask_tr.append(mask[i]) \n",
        "    #     seg_tr.append(seg[i])\n",
        "    #     start_vec_tr.append(start_vec[i])\n",
        "    #     end_vec_tr.append(end_vec[i])\n",
        "    # tokens_tr = np.asarray(tokens_tr, dtype=np.int32) \n",
        "    # mask_tr = np.asarray(mask_tr, dtype=np.int32) \n",
        "    # seg_tr = np.asarray(seg_tr, dtype=np.int32) \n",
        "    # start_vec_tr = np.asarray(start_vec_tr, dtype=np.int32) \n",
        "    # end_vec_tr = np.asarray(end_vec_tr, dtype=np.int32) \n",
        "\n",
        "    # tokens_tst = []\n",
        "    # mask_tst = []\n",
        "    # seg_tst = []\n",
        "    # start_vec_tst = []\n",
        "    # end_vec_tst = []\n",
        "    # for i in range(0,len(tokens_test)):\n",
        "    #   if sentiment_test[i] != \"neutral\":\n",
        "    #     tokens_tst.append(tokens[i])\n",
        "    #     mask_tst.append(mask[i]) \n",
        "    #     seg_tst.append(seg[i])\n",
        "    #     start_vec_tst.append(start_vec[i])\n",
        "    #     end_vec_tst.append(end_vec[i])\n",
        "    # tokens_tst = np.asarray(tokens_tst, dtype=np.int32) \n",
        "    # mask_tst = np.asarray(mask_tst, dtype=np.int32) \n",
        "    # seg_tst = np.asarray(seg_tst, dtype=np.int32) \n",
        "    # start_vec_tst = np.asarray(start_vec_tst, dtype=np.int32) \n",
        "    # end_vec_tst = np.asarray(end_vec_tst, dtype=np.int32) \n",
        "\n",
        "    optimizer = tf.keras.optimizers.Adam(learning_rate=3e-5)\n",
        "\n",
        "    if fold > 0:\n",
        "      tf.tpu.experimental.initialize_tpu_system(resolver)\n",
        "\n",
        "    with strategy.scope():\n",
        "      bert_model1 = Create_Model()\n",
        "      #bert_model2.compile(optimizer=optimizer,loss = \"binary_crossentropy\")\n",
        "      bert_model1.compile(optimizer=optimizer,loss = \"binary_crossentropy\")\n",
        "    \n",
        "    # bert_model1 = Create_Model()\n",
        "    # #bert_model2.compile(optimizer=optimizer,loss = \"binary_crossentropy\")\n",
        "    # bert_model1.compile(optimizer=optimizer,loss = \"binary_crossentropy\")\n",
        "\n",
        "    def scheduler(epoch):\n",
        "      return 3e-5 * 0.2**epoch\n",
        "    DISPLAY = 1\n",
        "    # K.clear_session()\n",
        "    reduce_lr = tf.keras.callbacks.LearningRateScheduler(scheduler)\n",
        "\n",
        "    # bert_model2.fit([tokens_tr,mask_tr,seg_tr,sentiment_tr],[start_vec_tr,end_vec_tr],epochs=5,batch_size =8,verbose=DISPLAY,callbacks=[reduce_lr,cp_callback])\n",
        "  #For Roberta Model\n",
        "    bert_model1.fit([tokens,mask,seg],[start_vec,end_vec],epochs=5,batch_size =8,verbose=DISPLAY,callbacks=[reduce_lr,cp_callback],\n",
        "                      validation_data = ([tokens_test,mask_test,seg_test],[start_vec_test,end_vec_test]))\n",
        "    return bert_model1"
      ],
      "execution_count": 0,
      "outputs": []
    },
    {
      "cell_type": "code",
      "metadata": {
        "id": "4rKcbwGMBjix",
        "colab_type": "code",
        "colab": {}
      },
      "source": [
        "## When submitting on kaggle\n",
        "def prediction_fn(tokens_test,mask_test,seg_test,sentiment,text):\n",
        "  tokens_tst = []\n",
        "  mask_tst = []\n",
        "  seg_tst = []\n",
        "  txt = []\n",
        "  for i in range(0,len(tokens_test)):\n",
        "    if sentiment[i] != \"neutral\":\n",
        "      tokens_tst.append(tokens_test[i])\n",
        "      mask_tst.append(mask_test[i]) \n",
        "      seg_tst.append(seg_test[i])\n",
        "      txt.append(text[i])\n",
        "  tokens_tst = np.asarray(tokens_tst, dtype=np.int32) \n",
        "  mask_tst = np.asarray(mask_tst, dtype=np.int32) \n",
        "  seg_tst = np.asarray(seg_tst, dtype=np.int32)  \n",
        "\n",
        "  #prediction = bert_model2.predict([tokens_tst,mask_tst,seg_tst,sentiment_tr],verbose=1)\n",
        "  prediction = bert_model1.predict([tokens_tst,mask_tst,seg_tst],verbose=1)\n",
        "\n",
        "  prediction1 =[]\n",
        "  for i in range(0,len(prediction[0])):\n",
        "    a = np.argmax(prediction[0][i])\n",
        "    b = np.argmax(prediction[1][i])\n",
        "    if b>=a:\n",
        "      #predict1 = tokenizer.decode(tokens_tst[i][a:b+1])\n",
        "      text1 = \" \"+\" \".join(txt[i].split())\n",
        "      enc = tokenizer.encode(text1)\n",
        "      predict1 = tokenizer.decode(enc.ids[a-1:b])\n",
        "    else:\n",
        "      predict1 = txt[i]\n",
        "    prediction1.append(predict1)\n",
        "  return {'prediction_string':prediction1,\n",
        "          'prediction':prediction} "
      ],
      "execution_count": 0,
      "outputs": []
    },
    {
      "cell_type": "code",
      "metadata": {
        "id": "imjdY3jCByrz",
        "colab_type": "code",
        "colab": {}
      },
      "source": [
        "def evaluation(prediction_string,test_text,sentiment,text):\n",
        "  flag = 0\n",
        "  total_prediction_string = []\n",
        "  for i in range(0,len(test_text)):\n",
        "    if sentiment[i] == 'neutral':\n",
        "      total_prediction_string.append(text[i])\n",
        "      # print(i,test_text[i])\n",
        "    if sentiment[i] != 'neutral':\n",
        "      total_prediction_string.append(prediction_string[flag])\n",
        "      # print(i,prediction_string[flag])\n",
        "      flag+=1\n",
        "  jaccard_metric = []\n",
        "  for i in range(0,len(total_prediction_string)):\n",
        "    jaccard_metric.append(jaccard(total_prediction_string[i],test_text[i]))\n",
        "  return sum(jaccard_metric)/len(jaccard_metric)"
      ],
      "execution_count": 0,
      "outputs": []
    },
    {
      "cell_type": "code",
      "metadata": {
        "id": "ICTiPVRYB3u2",
        "colab_type": "code",
        "outputId": "5da7180b-c204-4846-b1c4-c3faeb120798",
        "colab": {
          "base_uri": "https://localhost:8080/",
          "height": 1000
        }
      },
      "source": [
        "version = 'v26'\n",
        "skf = StratifiedKFold(n_splits=5,shuffle=True,random_state=777)\n",
        "skf.get_n_splits(input_tokens, train.sentiment.values)\n",
        "jaccard_overall = []\n",
        "for fold,(train_index, test_index) in enumerate(skf.split(input_tokens, train.sentiment.values)):\n",
        "  print('#'*25)\n",
        "  print('### FOLD %i'%(fold+1))\n",
        "  print('#'*25)\n",
        "  tokens_tr,tokens_test = input_tokens[train_index,],input_tokens[test_index,]\n",
        "  mask_tr,mask_test = mask[train_index,],mask[test_index,]\n",
        "  seg_tr,seg_test = seg[train_index,],seg[test_index,]\n",
        "  y_start,y_start_test = st_vec[train_index,],st_vec[test_index,]\n",
        "  y_end,y_end_test = end_vec[train_index,],end_vec[test_index,]\n",
        "  sentiment, sentiment_test = train.sentiment.values[train_index,],train.sentiment.values[test_index,]\n",
        "  # K.clear_session()\n",
        "  checkpoint_path = \"/content/drive/My Drive/Colab Notebooks/Tweet_Sentiment_Extraction/k_fold/\"\n",
        "  cp_callback = tf.keras.callbacks.ModelCheckpoint(checkpoint_path + '%s-roberta-%i.h5'%(version,fold),evaluate='val_loss',save_best_only=True,save_freq='epoch',\n",
        "                                                 save_weights_only= True,mode='auto',\n",
        "                                                 verbose=1)\n",
        "  # bert_model1 = Create_Model()\n",
        "  bert_model1 = train_fn(tokens_tr,mask_tr,seg_tr,y_start,y_end,sentiment,tokens_test,mask_test,seg_test,\n",
        "                          y_start_test,y_end_test,sentiment_test,fold)\n",
        "  bert_model1.load_weights(checkpoint_path + '%s-roberta-%i.h5'%(version,fold))\n",
        "  prediction_string = prediction_fn(tokens_test,mask_test,seg_test,sentiment_test,train.text.values[test_index,])[\"prediction_string\"]\n",
        "  jaccard_value = evaluation(prediction_string,train.selected_text.values[test_index,],sentiment_test,train.text.values[test_index,])\n",
        "  jaccard_overall.append(jaccard_value)\n",
        "  print(jaccard_value)\n",
        "  # if fold == 0:\n",
        "  #   break\n",
        "print(sum(jaccard_overall)/len(jaccard_overall))"
      ],
      "execution_count": 0,
      "outputs": [
        {
          "output_type": "stream",
          "text": [
            "#########################\n",
            "### FOLD 1\n",
            "#########################\n",
            "Epoch 1/5\n",
            "WARNING:tensorflow:Gradients do not exist for variables ['tf_roberta_model/roberta/pooler/dense/kernel:0', 'tf_roberta_model/roberta/pooler/dense/bias:0'] when minimizing the loss.\n"
          ],
          "name": "stdout"
        },
        {
          "output_type": "stream",
          "text": [
            "WARNING:tensorflow:Gradients do not exist for variables ['tf_roberta_model/roberta/pooler/dense/kernel:0', 'tf_roberta_model/roberta/pooler/dense/bias:0'] when minimizing the loss.\n"
          ],
          "name": "stderr"
        },
        {
          "output_type": "stream",
          "text": [
            "WARNING:tensorflow:Gradients do not exist for variables ['tf_roberta_model/roberta/pooler/dense/kernel:0', 'tf_roberta_model/roberta/pooler/dense/bias:0'] when minimizing the loss.\n"
          ],
          "name": "stdout"
        },
        {
          "output_type": "stream",
          "text": [
            "WARNING:tensorflow:Gradients do not exist for variables ['tf_roberta_model/roberta/pooler/dense/kernel:0', 'tf_roberta_model/roberta/pooler/dense/bias:0'] when minimizing the loss.\n"
          ],
          "name": "stderr"
        },
        {
          "output_type": "stream",
          "text": [
            "WARNING:tensorflow:Gradients do not exist for variables ['tf_roberta_model/roberta/pooler/dense/kernel:0', 'tf_roberta_model/roberta/pooler/dense/bias:0'] when minimizing the loss.\n"
          ],
          "name": "stdout"
        },
        {
          "output_type": "stream",
          "text": [
            "WARNING:tensorflow:Gradients do not exist for variables ['tf_roberta_model/roberta/pooler/dense/kernel:0', 'tf_roberta_model/roberta/pooler/dense/bias:0'] when minimizing the loss.\n"
          ],
          "name": "stderr"
        },
        {
          "output_type": "stream",
          "text": [
            "WARNING:tensorflow:Gradients do not exist for variables ['tf_roberta_model/roberta/pooler/dense/kernel:0', 'tf_roberta_model/roberta/pooler/dense/bias:0'] when minimizing the loss.\n"
          ],
          "name": "stdout"
        },
        {
          "output_type": "stream",
          "text": [
            "WARNING:tensorflow:Gradients do not exist for variables ['tf_roberta_model/roberta/pooler/dense/kernel:0', 'tf_roberta_model/roberta/pooler/dense/bias:0'] when minimizing the loss.\n"
          ],
          "name": "stderr"
        },
        {
          "output_type": "stream",
          "text": [
            "2749/2749 [==============================] - ETA: 0s - activation_8_loss: 0.0091 - activation_7_loss: 0.0091 - loss: 0.0182\n",
            "Epoch 00001: val_loss improved from inf to 0.01553, saving model to /content/drive/My Drive/Colab Notebooks/Tweet_Sentiment_Extraction/k_fold/v25-roberta-0.h5\n",
            "2749/2749 [==============================] - 296s 108ms/step - activation_8_loss: 0.0091 - activation_7_loss: 0.0091 - loss: 0.0182 - val_activation_8_loss: 0.0078 - val_activation_7_loss: 0.0077 - val_loss: 0.0155 - lr: 3.0000e-05\n",
            "Epoch 2/5\n",
            "2749/2749 [==============================] - ETA: 0s - activation_8_loss: 0.0071 - activation_7_loss: 0.0072 - loss: 0.0142\n",
            "Epoch 00002: val_loss improved from 0.01553 to 0.01465, saving model to /content/drive/My Drive/Colab Notebooks/Tweet_Sentiment_Extraction/k_fold/v25-roberta-0.h5\n",
            "2749/2749 [==============================] - 289s 105ms/step - activation_8_loss: 0.0071 - activation_7_loss: 0.0072 - loss: 0.0142 - val_activation_8_loss: 0.0074 - val_activation_7_loss: 0.0073 - val_loss: 0.0147 - lr: 6.0000e-06\n",
            "Epoch 3/5\n",
            "2749/2749 [==============================] - ETA: 0s - activation_8_loss: 0.0065 - activation_7_loss: 0.0067 - loss: 0.0132\n",
            "Epoch 00003: val_loss did not improve from 0.01465\n",
            "2749/2749 [==============================] - 288s 105ms/step - activation_8_loss: 0.0065 - activation_7_loss: 0.0067 - loss: 0.0132 - val_activation_8_loss: 0.0074 - val_activation_7_loss: 0.0073 - val_loss: 0.0147 - lr: 1.2000e-06\n",
            "Epoch 4/5\n",
            "2749/2749 [==============================] - ETA: 0s - activation_8_loss: 0.0064 - activation_7_loss: 0.0065 - loss: 0.0129\n",
            "Epoch 00004: val_loss did not improve from 0.01465\n",
            "2749/2749 [==============================] - 287s 105ms/step - activation_8_loss: 0.0064 - activation_7_loss: 0.0065 - loss: 0.0129 - val_activation_8_loss: 0.0075 - val_activation_7_loss: 0.0074 - val_loss: 0.0149 - lr: 2.4000e-07\n",
            "Epoch 5/5\n",
            "2749/2749 [==============================] - ETA: 0s - activation_8_loss: 0.0063 - activation_7_loss: 0.0065 - loss: 0.0128\n",
            "Epoch 00005: val_loss did not improve from 0.01465\n",
            "2749/2749 [==============================] - 294s 107ms/step - activation_8_loss: 0.0063 - activation_7_loss: 0.0065 - loss: 0.0128 - val_activation_8_loss: 0.0075 - val_activation_7_loss: 0.0073 - val_loss: 0.0148 - lr: 4.8000e-08\n",
            "103/103 [==============================] - 7s 65ms/step\n",
            "0.7015996185780392\n",
            "#########################\n",
            "### FOLD 2\n",
            "#########################\n",
            "WARNING:tensorflow:TPU system grpc://10.33.47.234:8470 has already been initialized. Reinitializing the TPU can cause previously created variables on TPU to be lost.\n"
          ],
          "name": "stdout"
        },
        {
          "output_type": "stream",
          "text": [
            "WARNING:tensorflow:TPU system grpc://10.33.47.234:8470 has already been initialized. Reinitializing the TPU can cause previously created variables on TPU to be lost.\n"
          ],
          "name": "stderr"
        },
        {
          "output_type": "stream",
          "text": [
            "INFO:tensorflow:Initializing the TPU system: grpc://10.33.47.234:8470\n"
          ],
          "name": "stdout"
        },
        {
          "output_type": "stream",
          "text": [
            "INFO:tensorflow:Initializing the TPU system: grpc://10.33.47.234:8470\n"
          ],
          "name": "stderr"
        },
        {
          "output_type": "stream",
          "text": [
            "INFO:tensorflow:Clearing out eager caches\n"
          ],
          "name": "stdout"
        },
        {
          "output_type": "stream",
          "text": [
            "INFO:tensorflow:Clearing out eager caches\n"
          ],
          "name": "stderr"
        },
        {
          "output_type": "stream",
          "text": [
            "INFO:tensorflow:Finished initializing TPU system.\n"
          ],
          "name": "stdout"
        },
        {
          "output_type": "stream",
          "text": [
            "INFO:tensorflow:Finished initializing TPU system.\n"
          ],
          "name": "stderr"
        },
        {
          "output_type": "stream",
          "text": [
            "Epoch 1/5\n",
            "WARNING:tensorflow:Gradients do not exist for variables ['tf_roberta_model_1/roberta/pooler/dense/kernel:0', 'tf_roberta_model_1/roberta/pooler/dense/bias:0'] when minimizing the loss.\n"
          ],
          "name": "stdout"
        },
        {
          "output_type": "stream",
          "text": [
            "WARNING:tensorflow:Gradients do not exist for variables ['tf_roberta_model_1/roberta/pooler/dense/kernel:0', 'tf_roberta_model_1/roberta/pooler/dense/bias:0'] when minimizing the loss.\n"
          ],
          "name": "stderr"
        },
        {
          "output_type": "stream",
          "text": [
            "WARNING:tensorflow:Gradients do not exist for variables ['tf_roberta_model_1/roberta/pooler/dense/kernel:0', 'tf_roberta_model_1/roberta/pooler/dense/bias:0'] when minimizing the loss.\n"
          ],
          "name": "stdout"
        },
        {
          "output_type": "stream",
          "text": [
            "WARNING:tensorflow:Gradients do not exist for variables ['tf_roberta_model_1/roberta/pooler/dense/kernel:0', 'tf_roberta_model_1/roberta/pooler/dense/bias:0'] when minimizing the loss.\n"
          ],
          "name": "stderr"
        },
        {
          "output_type": "stream",
          "text": [
            "WARNING:tensorflow:Gradients do not exist for variables ['tf_roberta_model_1/roberta/pooler/dense/kernel:0', 'tf_roberta_model_1/roberta/pooler/dense/bias:0'] when minimizing the loss.\n"
          ],
          "name": "stdout"
        },
        {
          "output_type": "stream",
          "text": [
            "WARNING:tensorflow:Gradients do not exist for variables ['tf_roberta_model_1/roberta/pooler/dense/kernel:0', 'tf_roberta_model_1/roberta/pooler/dense/bias:0'] when minimizing the loss.\n"
          ],
          "name": "stderr"
        },
        {
          "output_type": "stream",
          "text": [
            "WARNING:tensorflow:Gradients do not exist for variables ['tf_roberta_model_1/roberta/pooler/dense/kernel:0', 'tf_roberta_model_1/roberta/pooler/dense/bias:0'] when minimizing the loss.\n"
          ],
          "name": "stdout"
        },
        {
          "output_type": "stream",
          "text": [
            "WARNING:tensorflow:Gradients do not exist for variables ['tf_roberta_model_1/roberta/pooler/dense/kernel:0', 'tf_roberta_model_1/roberta/pooler/dense/bias:0'] when minimizing the loss.\n"
          ],
          "name": "stderr"
        },
        {
          "output_type": "stream",
          "text": [
            "2749/2749 [==============================] - ETA: 0s - activation_9_loss: 0.0089 - activation_10_loss: 0.0091 - loss: 0.0180\n",
            "Epoch 00001: val_loss improved from inf to 0.01643, saving model to /content/drive/My Drive/Colab Notebooks/Tweet_Sentiment_Extraction/k_fold/v25-roberta-1.h5\n",
            "2749/2749 [==============================] - 303s 110ms/step - activation_9_loss: 0.0089 - activation_10_loss: 0.0091 - loss: 0.0180 - val_activation_9_loss: 0.0077 - val_activation_10_loss: 0.0087 - val_loss: 0.0164 - lr: 3.0000e-05\n",
            "Epoch 2/5\n",
            "2749/2749 [==============================] - ETA: 0s - activation_9_loss: 0.0071 - activation_10_loss: 0.0070 - loss: 0.0141\n",
            "Epoch 00002: val_loss improved from 0.01643 to 0.01466, saving model to /content/drive/My Drive/Colab Notebooks/Tweet_Sentiment_Extraction/k_fold/v25-roberta-1.h5\n",
            "2749/2749 [==============================] - 293s 107ms/step - activation_9_loss: 0.0071 - activation_10_loss: 0.0070 - loss: 0.0141 - val_activation_9_loss: 0.0073 - val_activation_10_loss: 0.0073 - val_loss: 0.0147 - lr: 6.0000e-06\n",
            "Epoch 3/5\n",
            "2749/2749 [==============================] - ETA: 0s - activation_9_loss: 0.0066 - activation_10_loss: 0.0065 - loss: 0.0131\n",
            "Epoch 00003: val_loss did not improve from 0.01466\n",
            "2749/2749 [==============================] - 292s 106ms/step - activation_9_loss: 0.0066 - activation_10_loss: 0.0065 - loss: 0.0131 - val_activation_9_loss: 0.0074 - val_activation_10_loss: 0.0073 - val_loss: 0.0147 - lr: 1.2000e-06\n",
            "Epoch 4/5\n",
            "2749/2749 [==============================] - ETA: 0s - activation_9_loss: 0.0065 - activation_10_loss: 0.0064 - loss: 0.0128\n",
            "Epoch 00004: val_loss did not improve from 0.01466\n",
            "2749/2749 [==============================] - 293s 106ms/step - activation_9_loss: 0.0065 - activation_10_loss: 0.0064 - loss: 0.0128 - val_activation_9_loss: 0.0074 - val_activation_10_loss: 0.0073 - val_loss: 0.0147 - lr: 2.4000e-07\n",
            "Epoch 5/5\n",
            "2749/2749 [==============================] - ETA: 0s - activation_9_loss: 0.0064 - activation_10_loss: 0.0063 - loss: 0.0128\n",
            "Epoch 00005: val_loss did not improve from 0.01466\n",
            "2749/2749 [==============================] - 299s 109ms/step - activation_9_loss: 0.0064 - activation_10_loss: 0.0063 - loss: 0.0128 - val_activation_9_loss: 0.0074 - val_activation_10_loss: 0.0073 - val_loss: 0.0147 - lr: 4.8000e-08\n",
            "103/103 [==============================] - 7s 67ms/step\n",
            "0.704634913287118\n",
            "#########################\n",
            "### FOLD 3\n",
            "#########################\n",
            "WARNING:tensorflow:TPU system grpc://10.33.47.234:8470 has already been initialized. Reinitializing the TPU can cause previously created variables on TPU to be lost.\n"
          ],
          "name": "stdout"
        },
        {
          "output_type": "stream",
          "text": [
            "WARNING:tensorflow:TPU system grpc://10.33.47.234:8470 has already been initialized. Reinitializing the TPU can cause previously created variables on TPU to be lost.\n"
          ],
          "name": "stderr"
        },
        {
          "output_type": "stream",
          "text": [
            "INFO:tensorflow:Initializing the TPU system: grpc://10.33.47.234:8470\n"
          ],
          "name": "stdout"
        },
        {
          "output_type": "stream",
          "text": [
            "INFO:tensorflow:Initializing the TPU system: grpc://10.33.47.234:8470\n"
          ],
          "name": "stderr"
        },
        {
          "output_type": "stream",
          "text": [
            "INFO:tensorflow:Clearing out eager caches\n"
          ],
          "name": "stdout"
        },
        {
          "output_type": "stream",
          "text": [
            "INFO:tensorflow:Clearing out eager caches\n"
          ],
          "name": "stderr"
        },
        {
          "output_type": "stream",
          "text": [
            "INFO:tensorflow:Finished initializing TPU system.\n"
          ],
          "name": "stdout"
        },
        {
          "output_type": "stream",
          "text": [
            "INFO:tensorflow:Finished initializing TPU system.\n"
          ],
          "name": "stderr"
        },
        {
          "output_type": "stream",
          "text": [
            "Epoch 1/5\n",
            "WARNING:tensorflow:Gradients do not exist for variables ['tf_roberta_model_2/roberta/pooler/dense/kernel:0', 'tf_roberta_model_2/roberta/pooler/dense/bias:0'] when minimizing the loss.\n"
          ],
          "name": "stdout"
        },
        {
          "output_type": "stream",
          "text": [
            "WARNING:tensorflow:Gradients do not exist for variables ['tf_roberta_model_2/roberta/pooler/dense/kernel:0', 'tf_roberta_model_2/roberta/pooler/dense/bias:0'] when minimizing the loss.\n"
          ],
          "name": "stderr"
        },
        {
          "output_type": "stream",
          "text": [
            "WARNING:tensorflow:Gradients do not exist for variables ['tf_roberta_model_2/roberta/pooler/dense/kernel:0', 'tf_roberta_model_2/roberta/pooler/dense/bias:0'] when minimizing the loss.\n"
          ],
          "name": "stdout"
        },
        {
          "output_type": "stream",
          "text": [
            "WARNING:tensorflow:Gradients do not exist for variables ['tf_roberta_model_2/roberta/pooler/dense/kernel:0', 'tf_roberta_model_2/roberta/pooler/dense/bias:0'] when minimizing the loss.\n"
          ],
          "name": "stderr"
        },
        {
          "output_type": "stream",
          "text": [
            "WARNING:tensorflow:Gradients do not exist for variables ['tf_roberta_model_2/roberta/pooler/dense/kernel:0', 'tf_roberta_model_2/roberta/pooler/dense/bias:0'] when minimizing the loss.\n"
          ],
          "name": "stdout"
        },
        {
          "output_type": "stream",
          "text": [
            "WARNING:tensorflow:Gradients do not exist for variables ['tf_roberta_model_2/roberta/pooler/dense/kernel:0', 'tf_roberta_model_2/roberta/pooler/dense/bias:0'] when minimizing the loss.\n"
          ],
          "name": "stderr"
        },
        {
          "output_type": "stream",
          "text": [
            "WARNING:tensorflow:Gradients do not exist for variables ['tf_roberta_model_2/roberta/pooler/dense/kernel:0', 'tf_roberta_model_2/roberta/pooler/dense/bias:0'] when minimizing the loss.\n"
          ],
          "name": "stdout"
        },
        {
          "output_type": "stream",
          "text": [
            "WARNING:tensorflow:Gradients do not exist for variables ['tf_roberta_model_2/roberta/pooler/dense/kernel:0', 'tf_roberta_model_2/roberta/pooler/dense/bias:0'] when minimizing the loss.\n"
          ],
          "name": "stderr"
        },
        {
          "output_type": "stream",
          "text": [
            "2749/2749 [==============================] - ETA: 0s - activation_11_loss: 0.0091 - activation_12_loss: 0.0090 - loss: 0.0181\n",
            "Epoch 00001: val_loss improved from inf to 0.01589, saving model to /content/drive/My Drive/Colab Notebooks/Tweet_Sentiment_Extraction/k_fold/v25-roberta-2.h5\n",
            "2749/2749 [==============================] - 304s 111ms/step - activation_11_loss: 0.0091 - activation_12_loss: 0.0090 - loss: 0.0181 - val_activation_11_loss: 0.0080 - val_activation_12_loss: 0.0079 - val_loss: 0.0159 - lr: 3.0000e-05\n",
            "Epoch 2/5\n",
            "2749/2749 [==============================] - ETA: 0s - activation_11_loss: 0.0072 - activation_12_loss: 0.0070 - loss: 0.0142\n",
            "Epoch 00002: val_loss improved from 0.01589 to 0.01429, saving model to /content/drive/My Drive/Colab Notebooks/Tweet_Sentiment_Extraction/k_fold/v25-roberta-2.h5\n",
            "2749/2749 [==============================] - 299s 109ms/step - activation_11_loss: 0.0072 - activation_12_loss: 0.0070 - loss: 0.0142 - val_activation_11_loss: 0.0072 - val_activation_12_loss: 0.0071 - val_loss: 0.0143 - lr: 6.0000e-06\n",
            "Epoch 3/5\n",
            "2749/2749 [==============================] - ETA: 0s - activation_11_loss: 0.0067 - activation_12_loss: 0.0065 - loss: 0.0132\n",
            "Epoch 00003: val_loss did not improve from 0.01429\n",
            "2749/2749 [==============================] - 290s 106ms/step - activation_11_loss: 0.0067 - activation_12_loss: 0.0065 - loss: 0.0132 - val_activation_11_loss: 0.0073 - val_activation_12_loss: 0.0071 - val_loss: 0.0144 - lr: 1.2000e-06\n",
            "Epoch 4/5\n",
            "2749/2749 [==============================] - ETA: 0s - activation_11_loss: 0.0065 - activation_12_loss: 0.0064 - loss: 0.0129\n",
            "Epoch 00004: val_loss did not improve from 0.01429\n",
            "2749/2749 [==============================] - 295s 107ms/step - activation_11_loss: 0.0065 - activation_12_loss: 0.0064 - loss: 0.0129 - val_activation_11_loss: 0.0073 - val_activation_12_loss: 0.0071 - val_loss: 0.0145 - lr: 2.4000e-07\n",
            "Epoch 5/5\n",
            "2749/2749 [==============================] - ETA: 0s - activation_11_loss: 0.0065 - activation_12_loss: 0.0063 - loss: 0.0128\n",
            "Epoch 00005: val_loss did not improve from 0.01429\n",
            "2749/2749 [==============================] - 302s 110ms/step - activation_11_loss: 0.0065 - activation_12_loss: 0.0063 - loss: 0.0128 - val_activation_11_loss: 0.0074 - val_activation_12_loss: 0.0071 - val_loss: 0.0145 - lr: 4.8000e-08\n",
            "103/103 [==============================] - 7s 70ms/step\n",
            "0.7055126359444258\n",
            "#########################\n",
            "### FOLD 4\n",
            "#########################\n",
            "WARNING:tensorflow:TPU system grpc://10.33.47.234:8470 has already been initialized. Reinitializing the TPU can cause previously created variables on TPU to be lost.\n"
          ],
          "name": "stdout"
        },
        {
          "output_type": "stream",
          "text": [
            "WARNING:tensorflow:TPU system grpc://10.33.47.234:8470 has already been initialized. Reinitializing the TPU can cause previously created variables on TPU to be lost.\n"
          ],
          "name": "stderr"
        },
        {
          "output_type": "stream",
          "text": [
            "INFO:tensorflow:Initializing the TPU system: grpc://10.33.47.234:8470\n"
          ],
          "name": "stdout"
        },
        {
          "output_type": "stream",
          "text": [
            "INFO:tensorflow:Initializing the TPU system: grpc://10.33.47.234:8470\n"
          ],
          "name": "stderr"
        },
        {
          "output_type": "stream",
          "text": [
            "INFO:tensorflow:Clearing out eager caches\n"
          ],
          "name": "stdout"
        },
        {
          "output_type": "stream",
          "text": [
            "INFO:tensorflow:Clearing out eager caches\n"
          ],
          "name": "stderr"
        },
        {
          "output_type": "stream",
          "text": [
            "INFO:tensorflow:Finished initializing TPU system.\n"
          ],
          "name": "stdout"
        },
        {
          "output_type": "stream",
          "text": [
            "INFO:tensorflow:Finished initializing TPU system.\n"
          ],
          "name": "stderr"
        },
        {
          "output_type": "stream",
          "text": [
            "Epoch 1/5\n",
            "WARNING:tensorflow:Gradients do not exist for variables ['tf_roberta_model_3/roberta/pooler/dense/kernel:0', 'tf_roberta_model_3/roberta/pooler/dense/bias:0'] when minimizing the loss.\n"
          ],
          "name": "stdout"
        },
        {
          "output_type": "stream",
          "text": [
            "WARNING:tensorflow:Gradients do not exist for variables ['tf_roberta_model_3/roberta/pooler/dense/kernel:0', 'tf_roberta_model_3/roberta/pooler/dense/bias:0'] when minimizing the loss.\n"
          ],
          "name": "stderr"
        },
        {
          "output_type": "stream",
          "text": [
            "WARNING:tensorflow:Gradients do not exist for variables ['tf_roberta_model_3/roberta/pooler/dense/kernel:0', 'tf_roberta_model_3/roberta/pooler/dense/bias:0'] when minimizing the loss.\n"
          ],
          "name": "stdout"
        },
        {
          "output_type": "stream",
          "text": [
            "WARNING:tensorflow:Gradients do not exist for variables ['tf_roberta_model_3/roberta/pooler/dense/kernel:0', 'tf_roberta_model_3/roberta/pooler/dense/bias:0'] when minimizing the loss.\n"
          ],
          "name": "stderr"
        },
        {
          "output_type": "stream",
          "text": [
            "WARNING:tensorflow:Gradients do not exist for variables ['tf_roberta_model_3/roberta/pooler/dense/kernel:0', 'tf_roberta_model_3/roberta/pooler/dense/bias:0'] when minimizing the loss.\n"
          ],
          "name": "stdout"
        },
        {
          "output_type": "stream",
          "text": [
            "WARNING:tensorflow:Gradients do not exist for variables ['tf_roberta_model_3/roberta/pooler/dense/kernel:0', 'tf_roberta_model_3/roberta/pooler/dense/bias:0'] when minimizing the loss.\n"
          ],
          "name": "stderr"
        },
        {
          "output_type": "stream",
          "text": [
            "WARNING:tensorflow:Gradients do not exist for variables ['tf_roberta_model_3/roberta/pooler/dense/kernel:0', 'tf_roberta_model_3/roberta/pooler/dense/bias:0'] when minimizing the loss.\n"
          ],
          "name": "stdout"
        },
        {
          "output_type": "stream",
          "text": [
            "WARNING:tensorflow:Gradients do not exist for variables ['tf_roberta_model_3/roberta/pooler/dense/kernel:0', 'tf_roberta_model_3/roberta/pooler/dense/bias:0'] when minimizing the loss.\n"
          ],
          "name": "stderr"
        },
        {
          "output_type": "stream",
          "text": [
            "2749/2749 [==============================] - ETA: 0s - activation_14_loss: 0.0092 - loss: 0.0183 - activation_13_loss: 0.0090\n",
            "Epoch 00001: val_loss improved from inf to 0.01534, saving model to /content/drive/My Drive/Colab Notebooks/Tweet_Sentiment_Extraction/k_fold/v25-roberta-3.h5\n",
            "2749/2749 [==============================] - 309s 113ms/step - activation_14_loss: 0.0092 - loss: 0.0183 - activation_13_loss: 0.0090 - val_activation_14_loss: 0.0076 - val_loss: 0.0153 - val_activation_13_loss: 0.0077 - lr: 3.0000e-05\n",
            "Epoch 2/5\n",
            "2749/2749 [==============================] - ETA: 0s - activation_14_loss: 0.0070 - loss: 0.0140 - activation_13_loss: 0.0070\n",
            "Epoch 00002: val_loss improved from 0.01534 to 0.01476, saving model to /content/drive/My Drive/Colab Notebooks/Tweet_Sentiment_Extraction/k_fold/v25-roberta-3.h5\n",
            "2749/2749 [==============================] - 298s 108ms/step - activation_14_loss: 0.0070 - loss: 0.0140 - activation_13_loss: 0.0070 - val_activation_14_loss: 0.0073 - val_loss: 0.0148 - val_activation_13_loss: 0.0074 - lr: 6.0000e-06\n",
            "Epoch 3/5\n",
            "2749/2749 [==============================] - ETA: 0s - activation_14_loss: 0.0065 - loss: 0.0130 - activation_13_loss: 0.0066\n",
            "Epoch 00003: val_loss did not improve from 0.01476\n",
            "2749/2749 [==============================] - 300s 109ms/step - activation_14_loss: 0.0065 - loss: 0.0130 - activation_13_loss: 0.0066 - val_activation_14_loss: 0.0073 - val_loss: 0.0149 - val_activation_13_loss: 0.0075 - lr: 1.2000e-06\n",
            "Epoch 4/5\n",
            "1428/2749 [==============>...............] - ETA: 2:12 - activation_14_loss: 0.0063 - loss: 0.0126 - activation_13_loss: 0.0063Buffered data was truncated after reaching the output size limit."
          ],
          "name": "stdout"
        }
      ]
    },
    {
      "cell_type": "code",
      "metadata": {
        "id": "Pgh_znT0Q0E4",
        "colab_type": "code",
        "colab": {}
      },
      "source": [
        "print(sum(jaccard_overall)/len(jaccard_overall))"
      ],
      "execution_count": 0,
      "outputs": []
    },
    {
      "cell_type": "code",
      "metadata": {
        "id": "6uVHaMAvcIjT",
        "colab_type": "code",
        "colab": {}
      },
      "source": [
        "models_path = '/content/drive/My Drive/Colab Notebooks/Tweet_Sentiment_Extraction/k_fold/'\n",
        "length = len(test[test.sentiment!='neutral'].sentiment)\n",
        "pred0 = np.zeros((length,Max_length))\n",
        "pred1 = np.zeros((length,Max_length))\n",
        "for i in range(0,1):\n",
        "  bert_model1 = Create_Model()\n",
        "  print('loading model weights')\n",
        "  bert_model1.load_weights(models_path + 'v7-roberta-%i.h5'%(i))\n",
        "  print('making predictions')\n",
        "  predictions = prediction_fn(input_tokens_test,mask_test,seg_test,test.sentiment.values,test.text.values)[\"prediction\"]\n",
        "  prediction_string = prediction_fn(input_tokens_test,mask_test,seg_test,test.sentiment.values,test.text.values)[\"prediction_string\"]\n",
        "  pred0 += predictions[0]/5\n",
        "  pred1 += predictions[1]/5"
      ],
      "execution_count": 0,
      "outputs": []
    },
    {
      "cell_type": "code",
      "metadata": {
        "id": "fIesU6TX_wut",
        "colab_type": "code",
        "colab": {}
      },
      "source": [
        "prediction1 = []\n",
        "## converting predictions to binary form.\n",
        "flag = 0\n",
        "for i in range(0,len(test.text)):\n",
        "  if test.sentiment.values[i] != 'neutral':\n",
        "    a = np.argmax(pred0[flag])\n",
        "    b = np.argmax(pred1[flag])\n",
        "    flag += 1\n",
        "    if b>=a:\n",
        "      predict1 = tokenizer.decode(input_tokens_test[i][a:b+1])\n",
        "    else:\n",
        "      predict1 = test.text[i]\n",
        "    prediction1.append(predict1)\n",
        "  if test.sentiment.values[i] == 'neutral':\n",
        "    prediction1.append(test.text.iloc[i])"
      ],
      "execution_count": 0,
      "outputs": []
    },
    {
      "cell_type": "code",
      "metadata": {
        "id": "tZQ94e0cHrfO",
        "colab_type": "code",
        "outputId": "79c53973-e272-4b5e-c9b1-7136c866422b",
        "colab": {
          "base_uri": "https://localhost:8080/",
          "height": 55
        }
      },
      "source": [
        "print(prediction1)"
      ],
      "execution_count": 0,
      "outputs": [
        {
          "output_type": "stream",
          "text": [
            "[' wish', \" i'm done.\", \" i'm concerned for that family\", \" hey guys it's working\", ' 26th February', ' breaks', ' well off 2 bed...', ' problems', \"_Layne  hmm.. what's ur fav movie?? tv shows??\", ' smell lol ****', \" Nope, I'm on my way home now.\", ' super nintendo controller they want to sell me? mine broke.', 'In Study Hall with Brittneyy!!', 'is working until 11 tonight  http://plurk.com/p/x2kbv', ' good', ' thank u sweetie!', '  still need to see that movie ! I am all about vampires', ' http://twitpic.com/4wptj one of my prized mags/book/annuals dunno if any others were published prolly should google it', \" Aw, sorry E. :/ I hope it looks up for you (lame ear) And there's always next year! ****. Lamer ear :/ Fail. Uhh..Love ya E!\", ' poor', ' thanks', ' feels like the surface of the sun underneath a beaver pelt.', \" oh no!!!!! it's raining on our sea world parade\", ' sorry', \" im a lady and ladies don't move couches. they direct where the couches go\", '**** fiesta at my house in my mouth  hit me up for the password', 'lazy day, staying off the foot as much as possible.', ' yeh me 2', ' &quot;sometime around midnight&quot; by the airborne toxic event, literally cannot escape it. fml', ' thanks', ' hurt', ' me too Tatiiiii!!!', \"Good morning from RSA Twitterverse!! Please send me some happy vibes &amp; cheerfulness today I'm feeling a little sad\", ' supporting superfly all the way', ' doesnt really like this kinda pages rigth? kisses! i loev you guys!', ' hope', \" I'll be one of your &quot;groovy guys&quot; any time, shortie short  #photofollows\", ' awesome sauce.', ' i love your videos!', \" doesn't feel good...\", ' down in wellington for the monet exhibition. casually just bumped into wayne brady in our hotel lobby!! mega exciting!!!', ' beautiful', \" i killed my dill plant again. why does this happen with dill? it is doing great then suddenly it's dead.\", ' good', ' thanks', \" It's surprising how much Billy Idol turns up in tweets. I monitor constantly - not that I'm obsessed or anything!  #BillyIdol\", ' wow', ' love', ' We are at alexander. Just had a 3 course dinner and i am wearing someone elses red wine', 'Last scheduled corn dog oc shift', ' lovely', 'All done. No more internship.', ' love', ' miss', ' amazing', ' glad', 'awesome i just ruined all my white clothes i never remember to separate', \" yea - it's mostly b/c I couldn't sleep, but oh well, lunch time will come soon\", ' great', ' for sure you should continue to tweet while on conf call, while worrying about cat and bee.', \"i am seriously........ addicted to talking to people haha. but i love it so i don't care. and you can't tell me otherwise, jerk.\", ' great', ' sick... but nope!!! hahaha phew!', 'eating some breakfast at Panera Bread. boring cloudy weather, lil drizzle', '_Brown been holding onto this one for a while  http://twitpic.com/4w5eh', ' jealous', \" i'm bored\", 'i got a freakin macbook!!!!! hoorayyy! but i freakin deleted phootbooth.', \"The Mediteranian Kitchen...oh well can't get them all right.\", \" I've got cups but you gotta come get them\", ' Perth Australia', ' miss em.', '_by_spork we shall see', \" i'm feeling higher than mt everest\", \" i broke up with my last boyfriend, that's why i'm back!\", ' ohh snapp, have fun', ' trouble.', ' yay registered but lost', 'NOT excited for 32 people reservation in the morning  **** LOVIN halo3 right now for sure too', 'looking at the sunshine out of my office window', ' absolutely', 'ok i just spent like ï¿½50 on soundtracks, a galaxy class starship and EVE online. sigh', ' yeah i want to know what that is too!', ' Tell X to email me pics! OfficialShew', ' completely', ' love', ' huge mess', ' so...i was half asleep when i wrote the previous message. greatest friends !!haha you are!!', ' we can all but hope... georgia is still wide awake and has the hiccups', 'is dreaming of the weekend... awake!', ' good lookin.. whts up gurlie?? i come home this weekend.!', ' i didnt know u guys have acc in fb hee', ' hurt forever.', ' looks nice', \" that's great! i was never so good at the jump roping...\", ' i lost', ' weird', \"One of my kits has just brought in a mouse &amp; is eating it in the lobby. I'm sure I feed them enough!\", ' unfortunately', 'Emoticons by Christian. &quot;  &quot; http://twitpic.com/66riq', ' break! i need kitkat! haha!', 'woke up an hour early just to study for        a test', ' ugh', 'Homework &amp; Study Guides', ' perfect', \" My Denny's shut down in the winter.  I have to do 50 miles to get to one now.\", \"Hi ho  hi ho it's off to work we go\", ' bleargh. i can never clean as much of my house as i want to before work, no matter how early i wake up. today: sink, laundry.', \"I'll be grand....\", ' like i like', ' Yay me!  But, what in particular?', \"i'm not feeling twitter at the moment\", ' you look sooooo pretty love.', \" We're off.  I'm sorry. Parents coming in around 10-11, gonna eat with them, then house-hunt in Richardson. RAAAAIN CHEEECK\", ' balloons! woo!', ' ur Mom just called. Guess NOT. C U @ 5', ' thanks', ' well it would seem that you can enter nine 0s if you are an individual without a ssn/itin or ein according to apple. hurray!', ' guess that depends on if you want to be on the jury', ' thanks.', \" gosh i miss singer's theater. i miss learning music, doing acting exercises, n i especially miss being onstage.\", \" I have popcorn and fruitcake now...but it's just not the same as Chocolate\", 'Planing on going on a little ride on the mtb on monday  may be in over to the tower...', ' wtf', ' thanks', \"Again working on the internet shop ... don't think we will achieve the goal of uploading by the previously set time   Will keep going\", ' sad', ' its still messy', ' 5 things this twitterer could do without http://mikefrizzi.com/blog/?p=192 src / i like this guy.', ' thanks', ' etherreal was my main preoccupation.', \" sickkk, it's been two days since summer started and it suck already!\", 'esome!', ' arg exile still has that problem', 'morning tweat tweat twitter', ' missing', ' happy', ' follow me too', ' u can see I just twitted them if its the real xmsirius that is. Let me know any other contact info. Lets transmit this!', ' i am so ashamed. i did not watch a single episode of the new gh season. i kept falling asleep, so i gave up.', \" it's mother's day...i already bought and gave my mother's day present to my mother.\", ' happy', 'Captain Jack is back', 'Lol..2 people in falcon..and boo one of them being becca', ' love', ' home? where the heck are you? Ima be home so soon! iA!', ' killed', ' thanks', 'The work got me back.100 percent monday feeling', \" I think it'll be more like a casual attendance instead of a review, as there might not be another issue of felix by then.  Thanks.\", ' crappy', ' Really? Awesome..Im mad cuz my followers r goin down  *Take A Breath*', \" hey I didn't get the email yet\", \" i just really want to sleep butmy eyes won't let me\", ' hope', ' thanks!', '_**** R.I.P curls', 'sorry', \"Night all!! i'm trying to get to bed early for once...well as early as 1:40 can be for a normal person...\", ' sick.. i no feel so good', 'lmao...ummmm nothing...', ' loving', ' love love love', ' i hate cottage cheese. i even got some fancy stuff last weekend with lemon and berries...i could only eat half of it.', \"I hear it's a scorcher back home - all we've got here are clouds  Back in the studio, maybe if we're lucky we might get 2 songs done 2day!\", 'Fml just ran a mile.. And I just got scraped by my yearbook and I got 1/10 on my math test. Eff today', ' goodnight', ' hate stupid boys! arrgh', \" i'm oh so very bored! buut.. almost 2 days til i leave for france!\", \" that seized bolt, ya it's still stuck! the bushing is actually seized to the bolt, very very lame\", '  i hate when that happens. i hope you figure it out soon!', ' sore.', \" cool. that'd be fantastic!\", ' hate', \" tiny.cc doesn't seem to load for me  I was thinking on going to the batting cages but apparently you gotta book in adv\", ' spellingis awful', \"just got up, couldn't sleep anymore i guess and im not really gonna go back to bed, im not really sleepy\", 'Hmmm. http://www.djhero.com/ is down', \" I've been here since 3 and i'm here for 8 more hours tomorrow\", \" I'm sure she'll be fine. They're not as daft as they look (sometime)\", 'Unlike cierra, i look like poop today. Whatevahh, lol.', ' i miss', ' did you google it too? or maybe you actually knew the answer lol ps put uo the pics already from last night  im getting anxious', ' great', 'Oh gosh how I want the party to be over and done with already.', ' Me too', '_twitz lol...hiiii yourself. Maybe lay off the patron and down a bottle of water!', ' sick', \" awww! you like anne curtis too tho rite?? it's her soap thats gonna replace it!\", ' pile of loogies. so. gross.', \"Going to bed after the CAVS game  Don't judge me LOL\", ' sad', ' love', ' oh no my tweetdeck is malfunctioning', ' aww dont cry', ' amazing', ' she is smart', ' chill goes down my spine whenever i hear that line.', \"I don't saw the movie\", ' loving', ' loves', ' hopefully', ' that songs on tays vid  katy perry.', ' yay', ' sad.. daniel is leaving florida now.. just gave him a big hug', ' thank you kirst - your posts on running inspired me', 'man im so sad school is ending  but then again high school might be better :O', 'I wanna do something tonight after work.... But I dunno what...', \" I am soooo disapoointed I couldn't make it  I will be there next time! Glad it was productive.\", \" I won't be getting any ROTF toys 'till MUCH later.  Tell me if anybody isn't/is worth getting.\", ' excitement: 8 new followers overnight. sadness: 6 of them are ad bots.', ' Hey bud, we just shot you an email', ' an error', ' i hate', \" ugh. my feet feel like they're going to fall off.\", \" don't follow me. you will ruin my twitter experience\", ' they hate us later..... lol!!', 'Still sick  bout to play some ps3 till the laker game starts', ' thank you', \" i can't go. everyone else should go though! tickets on sale sat.\", ' misses', \" Let me guess.... Antiques &amp; Collectibles?  Anywhere else you'd like to be?\", 'doing my folio work but keep on getting distracted by deb pics', ' not feeling all that well today', \" i'm siiiiiickkk i dun feel good!!\", \" why thank you... us mami's are bringin' sexy back...\", 'lol haha very funnyyy lol im talking to my bestfriend ashleyyyy!!!', ' great', 'will b having my last V tomorow   will have2live off of apples n not caffeine ;( n have2cut down on chocolate bye bye chocy', ' well i was following you because i think your interesting', \" can't help but feel today will be a massive michael jackson rumour day. [cue all the mj haters...]\", ' poor baby no success!', 'Im off for a bit...tweeet yall later', ' i think mah butt gettin big (oh!)', ' good', \" but it isn't working.\", '  Missed all your tweets again Joe, **** that time difference!!! (UK) Dont 4get about your fave supporters in the UK!!!  ****', \"It's weird waking up in my own bed. Slightly comforting, but i miss the group. But i'm loving using my own pillow again!\", ' happy', \" I've made a game for you, Stephen- http://tinyurl.com/ctw4ld - well, actually it's for us, not you\", \"says alright, alright... I'm going already. Sheesh, well better be off early than late.  http://plurk.com/p/rpbd5\", ' pissed', ' i love', ' cute', ' misses', 'fingers crossed that my neighbor can sign for my UPS package today, otherwise it may be bye-bye pretty skirts', ' thx,', \" glorious sunny day in london town.. i'm in drama school fighting people with swords while protecting my romantically structured face\", ' bored', 'Is going to school.  leave me stuff.', \"Listening to Jesse's music  &amp; on MySpace. Also getting the hang of Twiiter. I feel that i need more followers.  Don't be shy!\", ' spoiled', ' happy!!!', ' Ghunghte Mein Chanda Hai Phir Bhi Hai Phela Chaaron Aur Ujala i love that songggggg ps  i got lost in morrisons', ' lol -catch me if u can', ' happy', ' happy', ' no worries', '...', \" i was lucky, my mom paid for everything for me. i'll take you shopping!\", 'Watching ET today!  &lt;3 Supposed to have a clip from New Moon  Hating Drag Me To Hell', \"I'm dreading hearing even worse news tonight\", \"If we don't pack, she can't leave, right?\", ' i wish i could twitter from the book expo but the reception at the javitz is horrible....', ' sorry', ' dead', ' fav number!!!', 'is missing the fun she had with _Army at Eclipse 3  #SArmy #SArmy #SArmy', ' happy', 'Hockey was so fukinï¿½ good  **** you hole! xD', \"_Cal Work or...(hehe mind in the gutter)! I'm sittin here doin this student loan thing.\", ' Hi! Waking up, and not lazy at all. You would be proud of me, 8 am here!!! Btw, nice colour, not burnt.', 'bored. cold. tired. lethargic feeling. Man! great holiday monday!', \"I ... think ... I read 'strawberries'  its hard to have a fav char in your comics: I like bad rabbit and the 'stud' chic - sent to kid\", 'whatever will be, will be', ' suck. my data plan is weak sauce.', ' fun', \" don't you hate\", ' pretty funny', \"is surfin'..\", \"Just thought about my hubby being deployed n now I got the blues  I need a stiff drink but I'm breastfeeding so no booze for me :/ Ugh!!\", ' tired and sad', \"Selling my laptop for CHEAP if anyone's interested!  17&quot; Toshiba 1.3gig ram\", ' under sooooo much stress', 'Meeting my best friend first thing in the morning to the gym! Omg I am still so shocked. I hope you will get better soon', ' i want you to keep going if you would ;)', ' good luck!', ' omg, did anyone see the wee girl on bgt..!**** sucha shame', ' i cant', 'Did anyone go photographing today? I managed to get a few macro shots of some flowers that were blooming', \"I've been nudged!!! not much going on lately umped games over the wknd and i took one to the pills\", 'Trying to find someone to go to the mall with.', '_carter The video is set to private', 'And- hand made by Dan &amp; Jenn -sock blockers ... made from exotic woods ... one of which is called &quot;purple heart&quot;', ' best kind of gum ever!', ' wish i had a laptop charger so i could tweet faster', 'Sunny synday morning. Nicole is up later than usual, mommy got some sleep', ' grrrr youtube wont let me watch the chat again', 'forcing myself to watch the movie 1984 for my book report  im lazy to read', \"Gnight shar   &lt;(' '&lt;)Vega(&gt;' ')&gt;\", ' fun', ' tiiiired', \" don't miss\", ' bad', ' love', \" Ouch, give me a heads up so I'll know when to duck\", ' glad', 'Need to get an adjustment, neck is all out of whack', ' but mum is blaring les mis really loudly in the sitting room', \"Beyonce helps me through the day, I'm starting to get sick\", 'Should have left car and walked home! I might need someone to rescue me with petrol! Light flashing', 'I woke up this morning thinking it is Saturday', \"HAHAH, Did I hear MVP Chants in Atlanta's Arena?  At least they get it right there, unlike at staples\", \" i'll teleport it straight to you\", ' very happy', 'self', ' not sure ill get to let u kno', \"At tweetup loc, but don't recognize anyone  am outside in turquoise shirt. Please see me! #g4c09\", ' - ummmm. no comment. lol. i actually have not watched gh in about a week.', ' hehe,', 'Have a huge block of snack chocolate here. Tis calling my name already', \" haven't cooperated with it yet this week i'm sure 2day won't be different\", 'just had a gym sesh.', 'SFTW &amp; pot of tea', 'show time baby! bye bye for now Tweeters', ' enjoying the cool breeze at the beach. it helps me relax and unwind.', ' bored', 'I am tired of my phone. Walkman works like a charm, but l need better video and wap really. Thanks for yesterday and for buying my album', ' amazing', ' no, New orleans.. been here since katrina ..', ' shop smart. shop s mart.', ' grrrrr....', ' awe', ' congratulations', \" gosh i've a stinky old headache. maybe i should have lunchfast\", 'Cleaning out my room and found this... http://yfrog.com/0t2b6j   she took me to 2w2v and insisted on paying for my ticket.', 'is obsessing over chris pine  heehee...', \" i am sending healthy, healing thoughts in the mumborg's direction.\", 'un. dagger 2 my heart. mason 1 - south carolina 3..', 'is feelin it', '  Laws change in the 70s or 80s.   I could really push it bcause gran from Bathgate, but she was US citizen b4 dad born.', ' lost', ' timing was just ironic.', 'No TV and no internet make Catherine something something?', ' lost', 'I got whooped by Jason Bradbury. Ace :0', 'starting the video editing of the first spanking movie we did with Mina ... it will be added to the next update', ' tell his people to contact my people', 'Nice days like this make me miss Alki', 'First time to Twitter..', ' - That Jasper clip is my first &quot;favorite&quot; Twitter message.', 'my poor baby girl is poorly  x', ' good luck at the services tomorrow!! i wish i could see you guys on your vacation!', ' thanks man! i appreciate it! you rock sir.', 'eps are actually focused on their finals already!', \" awwww i've got some photos of cute\", ' unfortunately', \" I can't belive you only have one episode to go  ****\", ' And you as well bro', ' good luck then.', ' woot!! you go girl', \"__ Thanks. It's SO annoying!\", 'revising for exams', ' scammed me', ' love', 'Is leaving in the morning to go to her mommys', \"Weekend is getting close. Too bad I'll be stuck up north  Hopefully I'll be able to get out next weekend for some real life fun.\", 'Sorry. Just think - 2.5 hrs till 2 days off!', \" same. Was going to try warm milk but I'm lactose intolerant  haha.\", ' oh poor you  atleast get paid for staying back or?', ' painful', 'Rachel is going to have lunch at baixa. And has a lot of stuffs to do.... Wanna come ?', \"Managed to find a bottle of Pimm's! If only we had the weather to go with it\", ' you can also watch Family Guy online. www.fancast.com  And yes I am a total shill.', 'Going to work', '  is all mine  #twpp #shadez', ' sucks!', 'oooh, sunshine! A patch of sunshine! And it will be gone by the time I leave work and replaced with rain.  /vent', ' happy', ' sad', ' welcome!', \"i want to join drama practice today but i can't\", ' love o &amp; a, goog luck with your move to erie.', ' sorry', ' oh you are too kind', \" And Clang rocks, so you're using it, right?  Anyways, according to the comments it's in apple's gcc too, dunno how public tho\", '_n Where can I get some?', ' dumbface ...him, not u. what u up to on the wknd? i wanna seeeeeee ya!', ' fun', ' hope everything falls into place 4me', \" I saw that you were calling but cannot answer as I'm in the second hour of a phone convo with my mom and she won't stop talking\", ' What phone do you have -- an old rotary?', 'cannot relaxing because she have to practice for her graduation', ' failed', ' knocked out, stopped by the hotel bar and grabbed a grey goose &amp; tonic on the way up...peace', ' thanks. busy as **** is good', \" but can't get to the site...\", ' lovely friends and family= my b-day wish came true;)&lt;3 in addition,gray matters is one of the cutest movies ever!!', \" i can still read 'em...\", ' raddest!', ' i cant believe that its already friday! omg, what had i done?!', ' unhappiness', ' wow that was fast...next up soderling or ferrer. gilles simon lost', 'faith!!!!', \" ****. you could have just called or told me in person. you didn't have to humiliate me in front of the whole twitterverse.\", ' good', ' best', ' ****, screw him, ill', \" What's the focus of your Sunday 4e game?\", ' the beach was phenomenal 2day', ' i love', ' wow i hope', ' **** stressed', ' miss', ' Me. You. COUNTING CROWS! Table Mountain Casino Event Center (near Fresno). July 19. Are we there or are we there??', '  There you go.', ' happy', 'will play quake3 in 3min', ' have fun!  i am sad to not be with you guys', 'Is at work....  boo!  The Pin-Ups will be playing at Uncommon Ground Wednesday night at 9 p.m.! (1401 W. Devon Ave., Chicago 60660', 'Got some new clothes  and series one of supernatural on dvd', ' cute', ' then am anticipating the next ten days!', \" i'm not ready for my baby to be 3 tomorrow she is growing so fast....\", \"Gonna go and see my sister at Mount Saini ....  she's there for at least another 24 hours.\", ' shame', \" yes I do! I'll try posting some pics when I can\", ' sad', 'Princess Sakura is MINE  therefor i want to use it on TJ! grr', 'watching What Happens In Vegas!', \" awww, that wasn't very nice.\", ' luckily', '_xo   dang it, so its not certain ? ? ? are you okay?', ' ****', ' worse than a fever and sore throat? cancelling a trip to see your little bro because of a fever and sore throat.', ' sorry', ' good', \"_fan76 ROFL!  THAT'S my problem, only two hands\", ' bad', \" yup! way to **** early and I'm already at work\", ' alo is so sad', \"_Walker21 sadly no, I'll be going to the killumbus show. I really want to but no one wants to drive me there\", \"O.k i feel like i need to cry now  i can't believe that in less than 2 years ill be walking across the stage to get a High School diploma!\", ' oh I know. and I aprreciate it  it can be my back up plan', ' driving me crazy, but that comes with the territory, i guess.', ' bad week for connectivity...arlington panera wifi sucks. maybe head to legal seafoods at airport. dang...missing metaverse u stream.', 'happy', 'Heading to the office through a very quiet Stockholm, at least its not sunny', ' happy mothers day mama!', ' have to sell my car.', 'i always have 2 do xtra cleaning b4 leaving... so now were on da road  on 2 springhill suites, then cafe 360, yum!', ' happy mothers may to my mak love you always! xoxo.', ' nooooo!', 'http://twitpic.com/4wu0a - Sunny day at vivocity, yupz just showered.. Runs into airconditioned mall..', \" wish i was a teenager again. i wish i could feel healthy again. i can't remember what it's like to feel healthy anymore.\", ' problem.', 'i really need to earn money... so that i can watch the PCD concert', ' I just laughed out loud on the bus reading your statement of ethics. People moved away. He he he.', ' heart goes out to you', ' good', '  lol since I got twitter a little while ago, it seems like loads of people setting up an account', \" Good Grief! I can't say much, I was driving home from Martin through IKE last fall. Be interesting to hear what he says!\", ' good luck', 'oh my god!!! i cried so much!!! watch this guys from BGT  http://bit.ly/5t5Xz', ' saddest movie ever i never cry in movies but this movie mad me cry', \"I'm extremely hungry.... and the only thing I have in my house is Soup...  I don't like soup... *pouts*\", \"The music video I made for my  project for 'This City is Contagious' by  is uploading to YouTube now.\", 'is all alone for the evening!', \" Quite a few. Peacocks and Oceanographer's Choice are my new favorites to play\", ' i feel lousier after playing those.', \" rofl that's what we like\", ' im in schaumburg rite now ... and u want ice cream lol its type chilly outside lol i got ice cream here', ' thanks', ' fantastic! thank you', ' risks...', \" babe i'm just **** around!  just bored!  no need to worry\", \" well even with her breakdown she was better than the other acts unfortunately! Britain's got very little talent\", 'Friday Night Magic last night, I lost so bad  I suck at draft', 'got live last night at our  vid comin soonnn', 'Chirstina said shes gunna twitter more ...no more partners', ' proud', ' oh no say it', ' i wish i could teach my dog how to play xbox! alas...no thumbs', ' Some of yr coworkers hogging the jukebox @ Union Jacks.', ' boring', ' he loved it, so happy birthday!!! he said you sounded like a mixture of john lennon, chrissie hynde, and janis joplin.', ' pretty.. tears', ' boring.', ' really annoyed', ' happy', ' miss', \" i don't want to do anything specific, i just want to see you and puppy!\", ' tired', ' you should totally come get me and bring me to kelslaws house with you.', ' missed', 'HMV Shinjuku', ' good time w/ bros. also helped dad edit next holy land brochure. wish i could go!', ' really sick', ' bad', ' I didnt save those links! I dont need distractions.. I just need motivation', ' happy birthday girl!', 'asks for karma points please.  http://plurk.com/p/wxnt9', ' bless', 'At the  concert! I hope  makes a guest appearance', ' grrr hate', ' quite', '  I thought  was against licensing stores bc it takes away from the experience they want to provide', ' happy', ' sorry', ' i love these app things, it be hella awesome bro.', ' very twitter friendly...', \" Oh, I didn't realize its on at 830 as well- already at work- or as today still in the car, don't ask\", ' love quizzes. when i get my phone im gonna be on it 24/7 doing facebook quizzes.', ' nope..not drunk..sometimes I think maybe I should..then maybe Twitter would make sense, ya know!', ' lovely wedding fresh in my mind... pics soon!', \" i want a new phone i've seen too much cellphone commercials\", ' so sad', ' i love', 'having the flu, not the swinish-one, but the flu.', ' download movie notorious http://tinyurl.com/d2u4gs cool', ' sad', ' love you!', ' I could, but that would require today not to be a duvet day. I imagine that my outfit for the Wendyhouse will be photo worthy', ' im too hot and all sticky', '_ess Since T will be away - COME TO TUCSON!!!', ' not looking forward to driving in this storm.', ' stressin', 'HOW COME ITS SO HARD TO FIND A GUY WITH THE SAME PASSION FOR LOVE AS FOR A WOMAN?? AM I EVER GOING TO SEE THE DAY! IM lonely yall!', ' love', ' bitter?  why? *hug* ****', ' **** was coughin all over that', ' got caught in the rain. sand monsoon all the way home, even though i looked like a complete idiot', \" What's wrong with Dr.Phil? I shamefully loved his show when I was able to watch it.\", ' amazing. i highly recomend it.', \"Early morning walkies really aren't my thing... at least it's vaguely warm\", ' hate', ' good', ' booooo  my senior yearbook sucks thanks for the memories bhs -___-', ' fav', ' my name is Jason, but sunshine works too.', \" doesn't effect\", \"What does &quot;drink responsibly&quot; mean to you? Please share a tip (or two if you're drunk right now  )\", ' good', ' fun', ' bad either! now those are memories!', 'I just walked into work, all the while thinking that I was sitting in Bellagio this time Wednesday.', 'Is my picture showing?', ' good', ' sick', ' i love my sister.', ' will do', ' thanks sankar for ur wishes', ' ridiculously sweet', 'been busy at work, now must run before traffic is too bad.', \" You should see our floors before you make that offer.  Let me know if you don't receive a call soon.\", 'I have nothing witty to say', \" Thank you! You should know that I am both happy and sad (all at the same time) to know that. You've got &quot;The Right Stuff&quot;\", \"it's friday but i have to work the weekend\", ' relaxing! benji is only 24 hours away!!!!', \" now i'm done! good\", 'Yay got the Internet on my itouch working', 'Got about 2 hours sleep.', ' sad.', 'Perth - Ford - Falcon - 1997 - $3,500  - new ad received and will be posted on the HCC site soon', \" so technically....i havent really gotten out of bed. so i think you're right and i'm gonna stay here!\", \"_jlh LOL That's a special kind of magic, though! ;)  And did you see the special on Discovery?  They think Nessie died.\", 'at starbucks with my love. eff school. i have work later too.', ' sorry', ' sucks', ' happy day!!! nice', \" what's up? what happened? DM me if you need to. TXT on my phone is defunk'd\", ' *sighs* Ah well.  Maybe my second email will clear it up and get him approved.', 'twitter fam, i`m about to hop back on AIM i went ghost on y`all lolz sowwy', ' productive', ' that sucks', ' cute', \"My replacement iron ring arrived.  It's shiny.  And a bit more jagged than the original\", ' i wish i could go to meet in the middle tomorrow.', ' booo my best', ' headache is back. booooo.', ' Picture or it never happened.', \" You're a night owl, too, huh?\", ' **** cold ??!', ' cramps', ' better', 'Oh my ex / room mate is moving out today', \"is in PHP website upgrade hell on a Bank Holiday. How's that for planning!\", ' ridiculous', \"Why didn't my favorite spotters last tweet go to my phone\", \" It's not a reg gig yet, but hopefully it will be! Haven't done massage in a while actually\", 'So full from a great lunch and now stuck in traffic', 'Biology final today. Then home to prepare for psychology.', ' awesome', \"fuckin'm transtelecom\", 'Adams morgannnn for jumbo slice', \" that's what she said?\", \"_stjohn That's what we hope for!\", \" Hi!good luck for the mtvawards, Im sure you're going to win!I hope so!I Love your work! ha you speak spanish? take care\", ' love', ' sad', ' cherry festival that i used to go to back home... ahhh memories...', ' theres too much light pollution to see the stars', ' safe', ' hurt', \" Didn't even reply to me about how old you are tomorrow?\", \"_hameron I've seen those already. I link them in my lj post.\", 'resorted to eating Mickey Ds ALONE.', 'ARCHIE ANDREWS WHAT WERE YOU THINKING?! veronica?', \" cute..i'm a fan of dream a little dream, this kiss and appearances like in dawson's creek make more flicks!\", 'Waiting for my turn on wii fit gym closed', ' gawww,', 'Hey every1! Do yesterday was my prom and it was the best. I wanna go back in time :] Ima miss every  new picks up soon myspace.com/risound', ' http://twitpic.com/1aida - snood', \"_SRod Shouldn't you know your National Holidays?\", ' happy', \" i hope he does ; join  and you'll find one\", ' Yup theory is GREAT but the reality is beyond imagination...  I also made the same planning not knowing VS will FAIL on me', ' pretty much amazzing', \" wow the last hour of twittering that i've been doing has yet to be sent over to twitter.. guys bare w me...\", ' love.', ' good', ' excited', ' : no, i fell and effed my arm up today and now i have to do back drive.', ' poor pirate had out his last wisdom tooth and is looking really peaky.', ' Make a videoblog!', ' seriously the best', ' amazing', ' *takes out a $20.00 bill* you can keep the change', \" i really don't think i could cope if a baby died\", ' great', ' i missed mine, too. not fun...', ' hurts', ' very nice...', ' Really bad ones are also classic.', ' joy casterbridge farm, white river in mpumalanga.was quite thrilled', ' nothing to worry', \" yep but i'm going better\", ' thanks', \" aww the little girl on britain's got talent! i actually love\", ' sad', ' hopefully', ' still feeling weird', \" she's the ruddy manageress - 2nd bad\", ' die tomorrow night. should be here.', ' fab', \"oh yes, the Cavs win game5, now onto game6. it's still danger, they HAVE to win this one either, it's no shot for the championship\", 'sad that will have to leave my beautiful apartment', ' better', 'Is off to watch arsenal v chelsea today', \"@_YoureMyHeroine :'( i really know how you feelin. i wish i could hug you\", ' thanks', \" I know dude, i'm doing re-runs, making Jenny watch them now too so we can have conversations LOL.  Haven't been online much\", ' loving the new friends organiser too.', 'Okay, so twitter suddenly changed, how do I respond to messages now', 'Nearly ran over a pheasant on the driving lesson  Baws.', 'Flickr pics Chester Zoo: danwtmoon posted a photo:   &quot;WELCOME&quot; to Chester Zoo by Jockey  http://tinyurl.com/cq7qw8', ' what causes the frustration buddy?', ' thank you! i was just playing that a moment ago, actually! a very different, even more chill version.  *spooky*! haha.', ' Not yet.... too early in the AM', ' actually workin from home tonight...  you?', ' scared', ' ****', ' sad', ' had a good', ' miss you guys!', ' lmao, im only joking mate', \" if you're watching this...I love you.&quot; I almost died. But now...SHE MEANS NOTHING!\", ' you writing fanfic? me read!', \" why aren't you showing up as a #spymaster in my screen?\", ' thank you!', ' i really wish i could be there.', \" it's terrible\", 'Aarg, looks like I have to go home to Vegas this weekend. So much for Maker Faire', ' nice!!!!!!!!', '_celeste  finally some sleep in silence', ' good', 'i got baby g wach its zi same as the 1 lady gaga wears in eh eh film clip but in pink!! I LOVE YOU KAY thanks a heap  i win olivia', ' black is good... tight, or should I say too tight, not so good.', \" can't be ar\", \"@_mmmichelle you're in france?!?! cheri!\", ' I said hi to u', \" hate feeling like this about him i need a break away from everyone... as soon as exams are over i'm defo off to portsmouth for a bit\", \"my hair won't turn whiiite\", ' thanks jk!!! love', ' cool i love using it thank you', \" ahhh i'm drinking some too!! and bride wars is really good\", \"I have not tweeted for SIXTEEN DAYS! I miss it =( I've been having fun though! =D Ingrid on mon was frakking awesome  BBQ today!\", \" I agree, however I can't sell  until I'm a full brick &amp; motar store...  soon though hopefully\", ' not so good', ' very very very very cool.', ' nice', ' // i feel your pain. i once lived in an apt for 6 mos where the previous tenant had 4 cats. burning eyes/tight lungs =  gregg', ' sick', ' depressing', ' ****!!', \" we don't think southern wv folks like us too much.\", \"i get so sucked in to true life, and that steve-o documentary was intense, i love that ****, it's nice to see people get their lives back\", ' frustrated by my stupid', ' i liked', \" well, she's getting through.\", \" wish i can see clips of your show that you hosted. hottie shawn in the 80's! and yes your still a hottie!\", ' crash in qmbol', ' best to keep the chaos straight http://bit.ly/yufil', ' good stereotypical teen', \"-g'mornin' Twitterville  took the day off from Tweet'n yesterday &amp; I'm &quot;jonesing&quot; to get back into it today\", 'I &lt;3 Rupert Grint......&amp; of the boy, Ive accepted tht I do fancy him  But im certain he doesnt feel the same so its not worth telling him', \"Theyre sappin mah sentry! errr yea... i'm without power at home right now\", 'Boo....Up DLP is sold out for 8:30', ' im depressed', ' awarded', ' are you serious!? that bloooooows', \" ahhhhhhhh!i can't get miley to notice me......\", ' best', \"Undervote is just going on  I'm all overalled up\", \"Going to group therapy session, can't wait to spill my guts... Ha ha ha\", \"is 500 words into a 10 minute speech on 80s teen movies. due wednesday. blah blah. can't wait for the glenn ball!\", ' my msn crashes way too much hmph', ' loooool', ' love', ' hate', ' happy', ' greeattt use!', \" freaking hot! now it's wet turn off!\", ' armpit', ' miss', \" woah that's cool just landed in london about 2 and1/2 hours ago.i love the scenery, beautiful\", 'Oh is that time for real?', ' Glad you like it  took around 2 and a half hours, would have been less but i kept stopping for food breaks haha  i was', ' happy', ' FATTY! omg i just found the worst **** out and idk what to do i need to talk to you!! hopefully i see you when you get off work.', \" house probably resembling your kind of heaven no?  maybe Ciaran's angels have moved in with you, hence inability to locate!\", '_x Yepp.  Do you Like Dylan or Cole Better?', ' u welcome babe, kill the show! yuuupp!', 'Ooh, new Bonkers is out tomorrow, nearly forgot about that', ' does not feel like babysitting.', ' not unless one of the pillows ends up suffocating the one sleeping next to you.', ' fabulous.', \" it's never too late - they just need to buck their ideas up and stop being such a bunch of stuffy old reactionaries!\", ' no way to comment on site unless you are a member', ' sad', ' thankful', \"Lovin' , , &amp; _Bailon SOOOO much right now!\", ' thanks', '_me Thanks! Kinda bittersweet though', ' im sorry', 'after 11 months....back to twitter again', ' sam can go shoot her self.', \"Yay! I just fixed my blog's CSS problem that messed up the design\", ' enjoy', \" geez i'm hating bein at work till 10 on a day like this i feel like its a wasted lovley day\", 'wwww', 'Glenna is bored but glad that it is a beautiful day. Macy went swimming and Kris played golf while I sat at home waiting for them', ' sad! casue everyone is going their seperate ways! never going to see my friends again!', 'Chatting with matt from mercy mercedes lol.', ' excited', ' pretty sad uh? rip', \" i'm tired already\", ' its hilarious', \"i had walkathon this morning.  and i'm among the first who arrived at the finishing line!\", ' ooh thats an early start ive got bed planned for that time..ha..loveyoujonesy ****', ' projects. one cancelled.', \" amazing and they're more than awesome\", ' happy', \" they wouldn't reverse any of my overdraft fees.\", ' yeah, its still totally in the high 60s here. soooo notlooking forward to aug and sept up here', \"_gaba haha I think we should let the topic drop now. a quick poll would settle the matter if you don't believe me\", 'twitters gettin a lil bit confusin... twitterific?twitdroid?twitterberry? i understant the txt bit tho lol  ah well, twitters cool anyways', ' goodmorning', 'totally just got hit on by one of her bar guests! Ha ha...Yay me!', 'Wango tango!!! Good night all', ' stupid', ' completely forgot!', 'Working on something exciting... and I cannot tweet about it for several months', ' i love', ' brilliant', 'bundy. in 3 days.!!!! warm weather here i come!', ' favorite', 'Paid all my bills only to go out to the mailbox to find more of them', \" Tuned to listen, but had a 1:30 meeting. Now know that my high school/college French doesn't cut it anymore.\", ' lovely! - looking forward to next weekend already', \" Yeah, Trimet says it's a 1hr trip, I get home at 6:30/6:45-ish, so we'd arrive just as everyone was leaving.\", \" that's not good\", ' i miss', ' severe anxiety', ' tis very useful indeed esp. for newbies like me!', ' heyy terrence u should come to my school on May 29th for our talent show', ' tired. and turning off the internet. you can play on it in the morning.', ' sorry', 'Ill catch you at the very last second', ' miss', \" miss my tribe til i have limited access to talking to them. spotty internet in the country so i won't be here long.\", \" i am public and can't get anyone to follow me\", 'i need to make more of an effort to meet some of my best online friends like   &lt;3 but **** the money it costs D:', ' hahahaha where is that train? i want on! that should be a wild ride', ' sooo funny!!', 'did not sleep a wink last night  X', ' sad', ' and i was just gonna ask you if you wanted to go to club hidden house on sat night. hehe.', ' boring. i prefer the take on life', ' happy', ' not happy', \" your'e a freak\", 'my girl friend also dropped me', \"having my dinner. eating bangus.  it's a fish.\", ' disappointed', ' good to know thanks', ' I was supposed to go tomorrow tooooo, but have to use gas and ticket money to pay for car inspection fee.', 'Trying this twitter thing out. Facebook is finally a routine for me, now i need to figure out how to do the twitter thing', \" omgosh! it's 79 degrees and i'm sweating and miserable! what am i gonna do when i visit the atx? need..ac! need...ac!\", \" What timeeee? My mom says I have to do something daw tomorrow, eh. But we're never compelte!\", 'Finally finished exams &amp; home not watch Otalia &amp; the PBP on BPD - no Otalia today  hmm! via http://twib.es/COP', 'ha, the first request for sending a paper copy of my thesis', 'The 3d version of Up sold out   regular version it is!', ' poor', \" i'm feeling grrrrrreeeeeaat!!!\", \" well tell me what fashion tips you need and i'm your woman hehehe\", 'Pleeaaasee come out sun', \" Hi Jordan i'm gonna all of u...I know ur busy and i know ur probably tired. but please reschedule NC. don't leave us out.\", '_s  tried to reply back to you, but you need to follow me for me to DM - we have many friends in common is the short answer', ' whuuurrrrr - glands really swollen', ' sick', ' If I got paid by the hour I could retire by now  do you have xBox live? I am thinking Rock Band', ' goodnight twitterererers', \"Big Sad Face   Bing doesn't work on iPhone.  It just takes you to the regular mobile Live search.\", ' upset', 'love', ' no luck.', 'Off the a village May Fayre now.  Bag packed ready to bring back home-made goodies.', ' love', 'went to the cd store to search for the cd. But', ' looking', ' Hey, Candis.', \" it's nice\", \"via : Found #geocache Head's Up! http://coord.info/gc1ret6. Probably my only find of the day.  http://bit.ly/JS3S4\", ' thanks melody! gotta love', \"_traveler I want the Tix!  Oh, right.  I'm know where near Vacaville Ca.\", \" she's afraid\", ' scare', ' yay', ' really tired. and have to work the whole day tomorrow, the thought of it depresses me. uncoooool....', ' **** internet jus cut me off! was bout 2 shoot sum guys eye out ~*~kandi~*~', 'Just got in a fight and kicked out of the bar. At least I knocked him out. Have a fat lip though.  Pulled another number', 'warmed up nicely outside.  sucks being stuck inside coding', \" wowie wooie someone updated their twitter without me having to remind you. i'm not even mad,i'm impressed.\", 'catching up on my reading... twitter n BF break', \" i love very much i called him, but he was talking to other fans i love you a lot mitchel! i'll see u in el cajon. june 7\", ' hate', ' always helps.', \" yayy you'll can help\", ' sending blessings out to', ' love', ' Yo, what happened to my invite?', ' oh my god!', ' long day', ' its freezing cold! i cant function right in this type of weather. starving', ' happy', 'stayed home from school today   doctors sooooon.', 'I have a job at camp!!  Only downfall? No midnight showing of Harry Potter for me', ' its a nice', \" he's an amazing\", ' Actually, the post shows they know what happens when you overflow...', ' **** night', \" OHHHH THAT REMINDS ME. I know it's not one of yours.... can you send me some of my toothpaste?\", '_carter THE LINK DOESNT WORK', ' good', ' well....hopefully someday soon you can get one!', ' fully inspired to write a song.', ' happy', 'Shopping!', ' love', 'live on stickam.com/itstyleryo COME CHAT!', ' goodnight', 'http://twitpic.com/664oz - this is what happens when i have no models', 'I am freezing', ' I always forget SOMETHING when I travel. I am at Newark airport.', ' depressed again haters!!!', '  Bit of New Scientist, this weeks an last weeks, and Watership Down', \" happy birthdayyy! hope you have an awesome day. didn't see you at next last night!\", ' when da heck will the garage man get here i ask you.. when..', ' will do hun. Yes yes.', ' won a diamond for my compï¿½tition', ' excited!', ' yes,', ' bad', ' happy', ' Or FTRH -- For The Ride Home', \"Getting ready for work and the sun is shining, plus it's the w/e! Bgt tonight..... what am I gonna do after it's finished?!\", ' missing my mom today. we made it a &quot;date&quot; every year to get our flowers together. this yr i was alone. felt so weird', ' scary', ' missed', \"Holy moley! It's raining cats and dogs here! And I just got snazzified by Min at Salon Mint!\", 'My 1st Mothers Day Tomorrow', '_x How did your Geo ISU go? I swear I just had the worse day ever..', ' happy', 'Just finished watching the last of Star Wars', 'round 2', ' hehe - about nz being the most magical place on earth.', ' I have a new found respect for you now that I know you know the Konami code!', ' thank you soulmate! haha.', ' crying', ' owww, back pain', ' sorry', ' thank god for some overcast and ivory. trying to get my mom to take me out to lunch egh doesnt look like its gonna work.', \"to be really really... not bored but bad, i won't know the news  but thats ok. BRB x\", ' yest', ' looks awesome!', \"_kikireestl nooo. you were on my yahoo account. hmm. i wanna say b2k days. idk fo'sho\", 'Take antibacterial to school to clean your hands when you cant go the loos', ' fail.', ' happy', ' no cuz i feel the same way....', 'Prayers for my family and my dog - Mozart is being put down this afternoon.   Pics of him at http://tinyurl.com/mozartdog', 'So tonights TV viewing, BGT or HIGNFY and Reggie Perrin? Wont be tweeting however as  MiniC has hidden iPod', ' sick', \" no phone call yett... hrmm. maybe a call from my end is in order? i'll wait a bit longer, prom nights are often 'spuratic' moments.\", 'Practice was a beast today. Not going to see Julian tonight', ' longeerr maan.', ' sorry', \"At an 80''S retro prom wishing HE was here to dance with!  I'm gonna miss his great dancing 2nite  but still having a blast &amp; a few drinks\", ' help me ?!', \" that's weird\", ' can you play I Wish by Jordan Knight', ' bad', 'Not found: the thing I was looking for', ' hey that is pretty good sucking up - my daughter is exactly the same - glad to see I am not alone   Good luck mom', ' i wish', '11:11 pm Perrrfect universal alignment.    &lt;33', ' when i go to the ticketmaster site it says &quot;no lisa williams events to be found&quot;', ' oh sweet!', ' mudweight hauled', ' haha i shaved all my facial hair off except for my moustache cause i thought it would be cool! But it made me look gross', \" awesome can't wait for the next hp movie!\", ' thank', ' hate', ' i might not have enough money for college!!!', ' great', \" you shouldnt have to reset more than once  if it doesn't work right the first time, something is up\", ' exciting!!!', 'I am craving Burrito Boys - Large halibut, with everything on it, no jalepenos, 1 line hot sauce. Can anybody hook me up?', 'reading Evermore by Lynn Viehl.', ' fail.', ' hey, what about us followers in ATL!!!!', ' Agreed...this time of the year we should change the motto to &quot;The Soggy State&quot;...my backyard looks like a swimming pool', ' nice,', 'Lots of tasks to complete today. First, wecloming new members to Canadamigos Social Networking site, www.canadamigos.com, and coffee', ' well maybe someone will care', ' hahaha! alright ..', \" they're gone.\", ' amazing', ' poor dead josh.', ' glad you enjoy', '..where is the song?', ' forgot', ' unstable broadband and electricity taking toll', ' **** bored', ' feels sick', ' Penguins win in OT, probably why you were busy.  One more game to win.', \"I'm suppose to get up to go find sumthin to wear tomorrow but I can't get up\", 'My younger sister flies in next week for a two week visit. So blessed to look forward to seeing family members visit.', 'omore', ' how do you win the trip to america? please reply xo', ' too expensive', \" Yeah, I've seen that before, funny   *Hey honey, Jill just sent me a **** in a box*\", '1:30am goin to sleeeeep', ' goodnite', ' haappy bank holiday 2 weeeeks. aah!', ' hate', ' rebel', ' amazing', 'self', ' poor', ' stupid', \"Arrrr better half made me brekkie in bed. Weather not 2 gud in Black Country 2day but we won't let it put the dampers on our planned bbq\", \" :o And I missed it? And I'll miss the rpt 2mrw  Oh well there's youtube sunday I guess. Thanks Andrew\", ' i ate too many kisses.', ' lol that was a great movie', ' sorry', ' ugh our two week push to produce a six pack has produced nothing but pain!', \" Bristol's is the ish! I LOVE their brunch on Sundays. Ruth Chris is good too but I got sick there once.\", ' woohooo very cool', 'Your the supporter  its totally up to you', ' Aww Stanley, have you still got him, they can live for like 20 years right?  x', \" i'm a real BOY goddamit!!!!!!!!!!!!!! guh. apostro. i feel sad. the library lady thinks i'm stupid. SHE'S STUPID.  j\", ' thank ye, vaneta. much appreciated', ' lovely', \"Hmm, had first pizza in ages and feel a bit sick now  That'll teach me!\", '_serafina85 Its headed this way', ' love', \" i know, don't tell anyone  i dont know if my dad told the famz yet. i think i'm taking it online.\", ' toast sounds awesome chris has been busy!', ' **** awake at 2 am ! i hate', ' good', ' What up? Why no tweets. Are you also filming in a place w/ no signal?  .Hmmm.', ' not very healthy.', \" Have a cold one for me, I'm just off to work now\", ' great', ' i love this. so much!', ' #warmfuzzies to you,', ' amazing', ' i hate', ' thanks', \" i'm sad\", ' always welcome sweetie!', \"this evening,picking up n'pop and go for dinner at Ta Lum Tum Tum (som-tum),Major Avenue..decided to go home(not clubing tonite)..\", ' hahaha! YES I AM!  Lil Jon is the freakin jizzle! U know I named my 1st puppy after u? Lil Jizzle...remember? LOL...xoxox', ' horrible!!! no accounting for taste.', ' wonderful', \"Yeah, that didn't last long..\", ' looking forward to a sunny weekeknd tho!!!', ' good', \"&quot;I don't like Monday, i wish it were sunday, cause that's my fun day.&quot;  that was my freaking jam when i was little.   i miss it.\", \" aww i got to see my 1st grade teacher's last day before she retired\", ' burned my legs !x', ' me to mi sausage', \" baha, i'm gonna have to find some!  i dont think we took any D: but i'm gonna find some!\", ' scary', 'rmbr the time when we torned for the night in sentosa? I was the only one who didnt have to spit out the &quot; 3 unknown facts&quot; abt myself', ' cry poor', ' sad', \"You're never alone Just when you think no one cares, you realize that there' always one person you cares for you\", ' soooo relaxing!', ' hopefully traffic has cleared up by the time i get there!!', ' missing lifestory', ' enjoy', ' not feel sorry', ' nin access fun!', \"Finally, a beautiful, sunny day in Atlanta. Too bad I'm stuck inside working...\", ' bored. im about to get into the romance', '_tdh Can you install ruby, gems and rails on keep? Please?', 'I think Max (my cat) may really be gone', ' happy', ' good', ' love', 'Everyone At My Place Tomorrow  Bonfire, Tofu Dogs, And Austin Powers.', \"Back from town and my Mac crashed on me  but it's better now\", ' if I skipped, that could get messy   ROFL', ' wishing', ' deliver my food.', ' I have both her CDs and know them both by heart. Really, Tal, you think you can intro ME to country music?!', \" yeah, it's terrible  cockatoos are the hardest to live with, so emotional. good thing he found you, though!!\", 'LAST CALL!!', ' im pleased', ' pride is important', ' happy', ' awesome', \" yay my bday bbq tomorrow! can't wait\", 'getting ready to babysit', \" Umm don't ya mean ship\", ' keeps mocking me.', '_witty  yes france/belgium was good  carnt belive how much traffic we hit on the way back', ' too hot to sleep in.', ' wish the severe migrains would stop!!!', 'NKU - I can get that app after all!', \" not made it to work couldn't get up feelin blurgh\", ' headache', '_Claire LOL  I will buy u some big star wars pants 4 Xmas !!!', \" i had fun... i'm sleepy now...\", ' happy', '_ According to Mick Jagger, Hindu Ragas are more sfs sort of music', ' misses', ' aww but we miss you here in the usa.', ' nom nom nom', \" 4th... Please not! Maybe she'll get 3 attempts and win tomorrow!!\", ' sick.', ' disappointed', 'out to play', \"I get the feeling  is going to make me wait until I get home to tell me I'm denied vittles from BWW.\", ' until I break up with you via a 27 second phone call', \" i'd love\", ' crappy', \" - I read that as follows: &quot;I'm a what?! What'd I do? Yes, she is rather simple. I miss you dicks too...   &quot;\", \" i'm sorry\", ' nice party, just not tired', ' glad', 'nope no way in to stop  just have to put up wiv it', ' i was a teenager.', \"  Please don't get me watching BB too\", ' awwwh u stuck', \"OFFICIALLY booked for seattle with  and  it's going to be THE best birthday weekend EVER!   :you made me sad\", ' scared', ' un cross them please..I was planning on buying a lambo this summer, next stop,, pitsvillle baby...=people carrier', ' phase 2 was a success. self discovery is vital. phase 3 is only mins away. cool', 'Downing a glass of ginger ale and then relishing an early evening in bed with &quot;Because I Said So&quot; on Lifetime.', ' loving', ' great', \"Actually, I think I'll be more upset if I lost my data for Cake Mania 3. I was pretty far into the game\", ' messed', ' and  why are u two fighting.', \" i'd be soo honoured\", ' sucks', \" i'll get my size 40's out now, straight to the post office  See you later, hun\", ' not good', ' its weird', ' feeling bad', \" I'm saving up for a three burner weber for next year\", ' How are you?', ' fshion', ' awesomness!!! go on msn!', \" that's love.\", ' stoooopid thing', ' glad u appreciate that!', ' hoping', ' dammit.', ' ___ haha was it good? i bet it was', 'It`s such a romantic novel!! I cried in the end  Now I`m going to bed. I`m so tired.', '   What are you designing?', ' __joy', ' hard', 'I was awoken by loud banging and it continues all day  Good thing I got an early rest last night!', ' thanks', ' love', \" i'm coming up with a new plan with my bestie. oh this one is gonna be great.\", 'ful love', ' sorry', ' great', \" yeah whatever...in your twisted mind maybe! ;) LOL  ... oh wait that's mine too!!\", '  its suzi', 'Finally sleep time', ' i luh you.', ' mine too', 'has just got out the shower', ' great day', 'looking forward to body works today', ' welcome', 'Change of plans, working inside bar tonight', 'And this picture of her with Zack from Saved By The Bell  http://twitpic.com/669lg', ' great performance', \" i'm curious\", ' thanks', ' love', \" i'll have to be more creative in choosing my next alias.  Adding the N to the front obviously was not stealthy enought.\", \"I guess she's not the type of songwriter who dreams the great ones.\", \" many! mine included. ahem. shld have known better back then, wldn't have missed so many opportunities haha\", ' lucky', 'really am sorry becauseI was looking forward to it.. thought itd be fun  and u wanted to hear it.Iowe u a beer.', \"It's raining and I'm outside without an umbrella.\", ' not in this weather', ' wtf', ' hate', \"And it's gone.\", ' bad.', ' i still dont know what we would do though', ' gosh im bored.', ' died', 'Off tha internet now Txt it', \"IT'S MOTHER'S DAY\", '  i&quot;m awake whats for breakfast lulu **** on a shingle ha ha ha', ' perfect', 'http://twitpic.com/4ja8r - Tell me, how can you not love someone like this?', \"_tweets I wish I could be there to give you the biggest hug right now. I'm so sorry, I can't imagine how painful it must be\", 'not sure where the real state market is moving  confused either hold or go ahead with the plans?', \"need some Pizza...can't get out of office\", ' awesome', ' dr hook awesome', 'Sooo tell me how I lost followerzzz', ' im sorry  i wish that i was there instead (it would give you a good excuse to get away from him) hehe...i love you &lt;3', \"love it when my sister brags! but she's too tired too spell bowling right! haha its ok I &lt;3 her!!\", 'Whoo, BGT!! I really must multi-task and do my Art work at the same time though, back at College on Monday!!', \" i'm feel deflated. ugh. no more dog.\", ' glad', \" visit si fr joemar dito bataan (frm camiguin) &amp; sum of my ofcmates&amp; i are supposed to meet him this saturday  can't luwas\", ' **** you at&amp;t!', ' fun', ' hurts', \"I'm going into a spiritual stagnentation, its exploding my ego!. I now realise, i'm not all that great. and I'm ok with that.\", \" I have to work  but I'll just watch it later.. even though it's not the same.\", ' wish', ' god i cant even catch public transport.', \" my hubby.  promised job promotion so we didn't move, signed a new lease n they withdrew the promotion...\", \" hurting way more than usual tonight, no way i'm able to go out!\", ' cool i love', \" i'm sad...i'll miss you grandma angie.. you were always like a 3rd grandma to me..\", \"Dang  I left my Rolando's dinner leftovers at home! I knew I should have put them in the shop fridge last night before we left downtown!\", 'In bed with 2 girls', ' I will have to see the unveiling of your new LR arrangement!  Is there an official event planned', 'Starting the accounts for this year.', \" i'm sorry.\", ' bad', ' good', 'look up our youtube JessAndNicoleMusic, we are new, leave comments and subscribe  thankyou x', ' see u Next Saturday With Mr ', \" can't wait to see it again!!\", \" finished listening to Last Days of Krypton's audio book! Loved it...so sad though...\", ' rofl u did? hahaha! lemme tell salman munir =p =p', 'about to go to leeds shopping', ' misses', ' stupid', ' this is the worst', ' fine good', ' amazing', 'so I slept in a little...well a lot. whooops', ' good night', 'ya i walked into the wall thats why i have a plaster on my neck', ' miss ya.', ' is tired of summer already', ' i love the site what a hoot, really enjoy', 'Just got a Ipod touch  Downloading apps for it now.', \" Yup  On to Mother's Day. Any plans for your birthday?\", ' yes! the pool opened this weekend', \"Just left Brooklyn going uptown for some latin coffee with a dollar sandwich, can't find that in downtown Brooklyn, where Brooklyn @\", ' good brands.', \" really... I'm an alumnus, and I don't know myself! and we didn't have Macs yet when I was there...\", '--------&gt;&gt;&gt;&gt;&gt;everytime they stopped, she jumped in the back seat.', \"Back home after a funeral for my wife's grandfather today.  Now its time for homework\", '665jw the racoons ate our bread!', ' i want an invite - sick', ' seriously heartbroken!!!', \" it's sooo hot 2day!! put a ton of sunblock on before jogging; still think my face burnt\", ' how the ****', 'Whole body is sore from moving hundreds of pieces of luggage last weekend.   Guess I should visit the gym more often', ' ****, but once i found out nick cage was in it, my heart sank', ' difficult cramming kanji now!', ' such beautiful', ' thanks', ' lovely', 'EFF THAT NOISE!', ' haha agreed lol', '  im riding the highs and lows of moods now.... chores blow', 'i ate so much', 'about to hit the sheets.', ' thanks', ' cry..', \" i'm broke again. :\\\\\", ' loves', ' hope she gets better', 'Schwarzenegger proposes closing 220 state parks   http://bit.ly/MhKz0', ' tired', ' happy', ' i want it to be summer.', ' stupidly feel closer to you somehow!', ' enjoyed re-seeing it, but paying for it today, my face doesnt bounce back anymore', ' crappy', \" fear crept in but it's already been dismissed. now let me do this thing right, coz this time the feelings are there and it's so different\", 'did U watch the spelling bee contest ? winner: Kavya Shivshankar ! Impressive performance - i had not even heared most of the words b4', ' listening to busted - 3am. i miss', 'Just heard good vibrations and i thought of Charlie dying on Lost', ' there are none left in my size', \" have a good day. i'm checking out hugh today. also, be on lookout for best &quot;cassoulet&quot; recipe you will have ever tasted!\", ' funny', '  Darn, I thought you meant White Sox.', '....got your message!!! You are such a twitter freak!', ' what sun?', ' happy mothers day', ' hate my life', ' love', \"WIDE awake, scoffed 3/4's of a pizza and feel like a sumo  such a weak day! Run tomorrow\", \"   In effect, your podcast IS the audio version of your book. Isn't it? (plus, it has the added charm of banter  )\", ' laugh out loudd! ahahahahahahahahah your fuunny!!', ' Nooooo!!!!! Dont You Dare! Lol =( Im Gonna Cry  I &lt;3 Your Hair!', ' make it full girl 120%', 'It is possible to frown while eating a Frosty', 'I wanna feel my chin', \" great one, if it's possible to have a great monday!\", 'is not ready for school yet!!!  http://plurk.com/p/wy69d', ' I just got two tickets one for speeding and one for tinted windows', \" fear not! you deserve alot, you care for animals. )) i'll get some food, don't worry!\", ' 4 hours till mothers day party yeah!', ' sad', \"I have the biggest crush on Pink but she doesn't know I'm alive\", ' thanks for the warning. good thing my heart is unbreakable.', ' happy', ' nice relaxing day!!! hope your well wishing you all the best', \" sad and sick, i'm afraid he's been eaten by something. it doesn't look good\", ' i love', \"Hmm...Whilst, walking through the city I received an inviataion into an SUV Limo via some prom fellows... Don't they have dates? Oh boys!\", ' miserable', 'Blah to car repairs... almost 600 dollars...   Shopping around for a better deal.', ' 214', ' miss', ' when will she b finished', 'missin the #ia2009 guys really', ' i sure she can', \" At work at the mo and it's so sunny here today   Off to see a band tonight!!\", ' awesome.. .. unbreakable album would be a good start!', '.....', ' a bit too early for me and wanting to have nice', ' girl you know beauty has a price', ' mad...yesterday and today...sucked!!!so much!', ' fun', ' thanks', 'I know exactly where i should be', ' yes yes you should! Especially with wine and mushrooms!! Ummm I love mushies', 'Night twitterland x I have to be up in five hours  sigh', ' i mean give. lol with a finger! then crash her car! lol jk. thats bad. just ignore her', \" ahh ok! Enjoy! I'll miss it\", ' unfortunately', \" it'll be close, but hopefully they can figure it out  they'll be eating nothing but those cookies for the week tho.\", \" that's tonight?! cool\", \"was just about to try and  dl the sims 3 but realize my pc don't meet the standard requirements  i need new pc lol!!!\", ' Not so much a substitute as a variation. Ate too much, too. Oof', ' im mad', 'At walmart playing hide and seek.', ' hooray!', ' hurts', ' nice songs.', \" I think YOUR blog should've been on the list\", \"I'm leaving work now. Trying to decide if I return on Sunday afternoon or Monday 4 am to meet a noon (UK time) deadline.\", \" I've been well, thx. Just getting up for an early morning meeting and wondering why I agreed to it. Don't like getting up early\", \" signin autographs would be boring I think! Get wasted 2nite! Have fun! I'm stuck at work\", ' sucks.', ' happy', ' happy', 'Shoot. Only 12 miles', \" mad as hell! someone stole my pink &amp; black leapord print pumps i wanted to wear today but to god be the glory, he'll bless me abundantly\", ' cinema tonight it is half the price on monday ;)', ' i feel very ill. i think im dehydrated', 'Ive been passed out drunk for the passed couple of hours.  Good to go now', \" Edgefest!  or maybe  since you're driving...\", 'Bored, making a mothers day card', 'Listening to maylene and wondering why cant I pull off as many cool southern metal licks as them', \" still don't want.\", ' sick', ' hope fixes twitter mobile so i can tweet from the race.. m.twitter has been down for 4 days #fail', ' tired', 'New Article: http://tinyurl.com/c6mek5. Let me know what you think...', ' argh total bummer', \" wondering why it's so cold - the skylight is open - i left the gas on this morning\", \" i've never been to prague, but if i had the money, it'll be in the 10 first cities i visit\", ' lmao you witty wacko...loves it', ' succesfully following tayla!!', \"Franco made breakfast for Mom. Here he's trying to cut the strawberries (only safe knife  #fb http://twitpic.com/4wsmw\", \" I missed u. Stop defending urself. Your true fans are with u  U're the best. And for me u didn't change. -Ur biggest french fan!\", ' ****', ' **** .. love you..', \" hahaha n I'm a do the same for u\", 'according to mary chaayaa, i look like a sexy emo in my dp  i not emo.', \" Well.... you're not called comedyqueen for nowt - are you lol\", \"If this rain doesnt go away, I'm staying in bed all week til Mommy gets here\", ' favorite', ' thanks', ' ****', ' laughed', \" I don't even look at their fabric unless I need polar fleece.   It's worth the extra $ to go to Needle and Thread.\", \" miss the festivities this evening. heading up the hill and won't have internet and no bb service.\", ' hoping', 'watching Pineapple Express and is seriously thinking that they used real weed in this movie', ' Nope, kicked that habit more then a year ago', ' super excited', '639 baby! GOD ITS SAD REALLY  oh well lifes a partaaay! xxxxxxxxxx', \" haven't scared\", ' birthday girl in the house!!', ' absolutely tru...the horror of it still washes ovr me sometimes if i think  abt the actual last days, but the gd memories go on', ' HEY HEY ready to come to oklahoma?', 'It would be that Dover race that they played on Classic.', \"&quot;Can't a Stevie wonder?&quot; gabe just called me sleepypants gaby.\", 'My new site is stuck in the Google sandpit now  Test of my skills until it comes back out!', ' what happened with her??? why is she being so wierd all of a sudden???', 'why i chose iphone   http://tr.im/kpaE', 'okay someplease save me!!! now I am watching ninja warrier and eating an egg roll from last night', \"_a_michael It doesn't look like you're tired in the pic.  Don't work too hard.\", 'Bollywood fims &amp; egyptian tea', ' good', \" ok ermm I'll meet you in the gym at half four then\", \" the ac tix are actually $20 but the show is sold out. i'd have to get tix through stubhub and pay up to $70.\", ' church bellss are ringin got to go. adieu,(god bless', ' happy', 'got a sniffle, got the kids and hubby just left to work in Sydney for the weekend, boo hoo', ' Are they abusing your service? Manual follower management is a pain. I love the style.', ' kill these **** things beside the exterminator. #vegas it sucks', 'yup, def swine flu. I think it was the sausage.', '_jimski .....in my book, yes', ' great', \"Hey don't write yourself off yet. Little girl you're in the middle of the ride\", \" you're surrounded by them! I have no official nieces/nephews yet\", \" It's allright pastor, jiayou for the book!!\", 'is going to sleep. Tomorrow Exam Review', \" it's ugly\", \" I didn't even get a chance to shop @ Aldi!\", ' i seriously wonder', 'might have to go back much earlier than expected. bye bye bay area', ' has finally learned how to think before he speaks.', ' why do we need to wait another year for toy story 3?!', ' feels really sick.', ' trouble viewing it as well on you tube for some reason', ' can i help', 'Yesterday and today was my weekend....back to work 2moro!', ' Are they both still talking to you then?', ' love me love', 'the live version is so much better  ? http://blip.fm/~79my3', ' thanks', ' best', ' excellent', 'cant find my shoes. :/ hope its as bad as itll get 2nite.  im happy.', 'has a saw thumb from playing Virtua Tennis...', ' goodnite', ' amazing yesterday.', ' you might also want to include &quot;never wear a moonwolf&quot; to that', ' imma miss dem KObe nd Bron commrcials wen cleveland get knocked out doe  they wer funny', ' yes it', ' me too.', 'Ahhhhh processing shipment  sooooooo much!!!!!', 'chris came over for exactly one hour  i moped around after he left and ended up falling asleep.', 'I just managed to stab a piece of bhuja (hot, of course) into the roof of my mouth. Blood everywhere - well, at least in my mouth.', ' sad', \" aw it says the pic doesn't exist anymore\", ' thanks all for coming out tonight, hope ya had fun!', 'Kelly Kelly pays your bills @ 12:15, Kaden pays em @ 5:15 and  just wants you to follow him. lol He dosent get to pay bills', ' where is home??', ' so happy', ' thanks,', ' great! but need to more coding practices to master.', ' well, my question is on your blog post', ' good', \"Decaf isn't cutting it right now.  ? http://blip.fm/~79g85\", ' i am definitely going to try and see up this weekend.', ' she died', 'Terminator Salvation... by myself.', 'watching old skool fall out boy vids', ' great', ' thanks Alen, it seems that we can only submit community news, is this an error, or must we prove ourselves', ' happy', 'Squabbling with people over the internet is great for my Tumblarity, but bad for my ego when they have more internet friends than me', 'On the way back to dublin Omg didnt hit the bed until 530  so i am so sleepy   but once again on the road back to good ole  dublin :-p ...', \" it is so unfair that all the good rock shows happen only in B'lore and Pune\", ' sadly', ' perfect', ' me tooo', 'stuck in anniston, mississippi. because we got in a car accident :\\\\ now im scared to drive  boy drivers ed should be fun this summer D:', ' wow', ' i miss', \" no problem! i think it's a great\", 'Just joined Twitter hehe', \"got all A's\", ' hope', ' hurts', ' happy memories. love', \"Look, everyone! I'm a bad boy! I'm ranked higher than Meghan McCain!  http://tinyurl.com/oj76mz\", \"i's i bought on sat and it makes it even smoother\", \" a rare treat b/c we're rarely ap and at 'em that early! but we may make opening bell at the pdx farmers mkt a new goal.\", ' sucks', 'Why is looking for girls names easier than looking for boys', '@ punkrockchick25 Haha no i just saw a commercial for it. . You wouldnt kill me', \" hey mitchel when will you be live again? i didn't get a chance to call you\", ' thanks', \" so's the smell of cigarettes and alcohol... at least *i * like it.\", ' We do! Its been to long! I think i have next weekend open. When are you going to have the house warming party', \"_M Awww, our Mother's day has been and gone :o(.  No work today, off out witht he camera in a little while, hopefully\", ' lol, get watching it again  hehe', ' she don t want to walk..', \" I'll be at the new movie showing at the franklin on Thursday night.  several of the SLA faculty will be in attendance.\", ' i hate', 'http://tinyurl.com/ateltl &lt;-- Rocksteady pt II', \"yay doctors  now interview then back 2 the doctor's for blood work\", 'Bout to hit pmark then make one of my final meals wit the housemates..', ' sick', '  my thoughts dwell on a certain person', 'Just got notified my podcast was accepted into iTunes. http://budurl.com/SBit Of course I then realized it was miss formated  Fixed now.', ' miss', '..exams.  haha just remembrd the china buffet king yesterday. vair amusing ....', ' happy, not breaking down in tears', 'Woo - got a fast mobile broadband connection now', ' barely functioning', \" i hereby announce that i am... employed! couldn't be happier, alhamdulillah!\", ' love', 'Woo hoo.  Sun outside might be able to get some sunset shots tonight...  fingers crossed!!!!', '  I know... kittie should be a professional....', ' good luck', ' i miss', ' poor you lmao, just stick your head out the window!', ' thank you!', \" can't wait to watch the next season of heroes\", \" tell me what you think of Pride Prejudice and Zombies . . . if you're not all hyped up on sugar\", ' Inorite, humid as well', ' beautiful', ' funny', ' fun.', ' finally feel back into swing of things here at work after getting married last week! sigh of relief for no more wedding planning!', 'over LT training today, ehhh hard to tall how hard it was. But now I feels good. Sunday race day again... Its raining now so lost of mud', ' happy', ' great', 'http://twitpic.com/4wgp2 - Bambi will eat you', \"is heading in to London to meet with  and  let us know if you're about  still not sure what time we're meeting.....\", \" It's not sad. To tweet is to twitter, not someone misspronouncing a word kto make it fit a card.  I would have tweeted it.\", '@ MGM grand, mraz on stage! No doubling back opener.  lots of old memories flooding back', ' good', \"  http://bit.ly/SjNAx If he is saying something I don't fully understand, please let me know.\", 'seagull hates me and im utterly depressed about it. i miss him.', ' sad.', ' sick', ' little beetle not feeling any love searches are bring up zilch, bar 2 peeps that appear funny !!!', \" Hi Simon, let me know when it's done\", ' riley hacked my twitter!  hahaha :]', '_Allison Catch you later Terry....', \"Don't Chase Me - Shea Fisher download it\", ' suck', 'Remmber time crisis ? Try it on the #iPhone', \"_amr i'm here  haha\", \" Where'd the songs go on the site, I want &quot;Do You&quot; on this computer too\", ' misses', ' it was just the handle tg', ' hey plz look &gt; http://www.twitpic.com/5m7vd &lt; what do u think? plz tell me', ' miss', \"new Delerium's music video (http://tr.im/kpu3). mixed by Tiesto. i guess Bill Leeb finally forgot his music's roots\", 'i know i told him i didnt want him to stay home with me but i lied, i really did want him to stay home with me', \" hope it's not one of those &quot;pop-up showers&quot; on the way.\", ' safe', 'Buying pretty shiny beads and things  I feel quite girlish. http://elisem.livejournal.com/1473318.html', ' im so sad! evry1 is leavin its horrible! im supposed to b happy for summer but i cant ima miss evry1!', \"he's back! meeting him in 40 mins\", \"Going to i don't know where with taylor,dolton,jacob, chris and my sister.\", ' glad', ' enjoyed', ' missing', ' well, i must say she is very lucky to have you! i guess that means no chillin and concert with me huh', ' ****!', 'Back at work', 'Im so tired and sick  i have to be better on Sunday so i can sing morning and night', ' eh, june 15th  are you going to the signing on the 18th, i think it is? x', 'Last session of the day  http://twitpic.com/67ezh', ' hilarious', 'Just finished down loading AIM6.9 and guess what! I can get updates from Twitter on it!  Message me at: i am katie arttt', ' so cute', ' thats terrible  I enjoy being with you every minute!', ' pretty good,', ' hurt', ' oh joy', ' wtf? advertising gone mad, they want access to my camera and microphone? what for? amazon should really know better', \" I don't feel too bad, but not sure to what I should attribute that. Could be cold &amp; flu meds; nap; alcohol; or getting better...\", \"LOVED &quot;Drag Me To Hell&quot; and &quot;Up&quot;...yeah my Spend the Day Studying plan didn't happen\", ' this picture made me cry', \"It was sunny when I entered the sub-basement.  Now it's raining.\", ' i tried sooooo hard', ' happy...', ' thanks', ' bad', 'Going to twitter in english, for my foreign followers', 'I need a bear hug  and Im going to camp today!!', 'left the bases loaded...', ' wish it would just say who has unfollowed', 'Using tiffys computer...it feels different from mine... the touch is different.', 'My 100th post- dedicated to Sarah,sunny weather,and my love for that Snakes On A Plane (Bring It) song that should have died already.', \" No, that's not right - I remember now.  You were in a fearless tweet - we were both seen as fearless.\", ' ace this, then on to the write-on competition for the journals.', \" is sooooo hungry right now! should've eaten before this wedding.\", ' cute ng bby.!', \"First surprise birthday ever, best night I've had in a **** long time!\", ' impossible', ' that is a bummer', ' hate', 'My head hurts....  Can wait to see the new photoshoot!!!!!!!', \"i'm a bum today\", ' nice', ' You should check yourz Rayne.', '_ Well their not gonna fit her in with this big long advertisement', ' crying', ' i love', \" happy mother's day all of the mom's around the world! i love mine more than anything in the world and can't wait to celebrate! woo!\", \"_x it's only on in glasgow\", ' Report your findings to me', \"I'm loving Please Don't Leave Me by Pink!\", 'i had a vivid dream last night! i was crooning away', ' my stomach hurts', \" i don't have anything being fwd through to mobileme and the last week i've gotten at least 4 -5 spam messages a day\", 'adly', 'coffee time', \" thank you!! ooh i see you've read desert islands http://is.gd/ys6k great\", ' fun', ' burnt', \"http://twitpic.com/4jbwh - we were at a sleepover, and nobody stops me when there's a camera in my hand\", ' hoping', \" That's actually not too far from the truth\", ' I love Dawn Chorus noisier the better miss Church Bells too...crazy I know...Was going for a cycle with a friend..not now', \" Hello again  How'd ur saturday go?\", ' hahaha!', 'wow its only 9:30', ' good', 'oorayy!!!!!', ' hey when are you next in the UK?', \"_1 welcome to the twitter world Andrew! tell david to have a twitter too haha just kiddin' i know he doesn't want to have one.. booo..\", 'i want to borrow an MX5 this weekend', ' deserves the best!', ' ugh', ' thanks, hope you have a good', 'starting twitter', ' thank', ' happy', ' thank you!', \" don't ever turn off the part of your brain that talks ****! that's where fun\", 'I sometimes feel like the only person in the world without an iphone', ' how come? i want pizza', ' wish', \" got people don't let me skip sci pratical becos skola is impt and dont waste my parents money. nt fair.\", \" doesn't help\", 'wonders why her Karma points turned into 0.00.  http://plurk.com/p/wxj54', ' wish you were here kiddo!', ' sorry', ' I want chocolate!', \" Wolfram's got a Chinese Room problem: If Chinese (or Bangalorean) hackers can run it without knowing English, why should it?\", ' happy,', \" bored, i really don't know what to do!\", ' fabulous', \" If u don't win u can always roll on my pass lol, I don't have anyone to take\", ' trouble...', ' ****', ' sucks', 'it will be my second year that i will not be there', 'Im just thinking bout life. I need my bed. My fiance is in bed first', ' im well exited !!!', \" He is the truth! But what about Maxwell? You can't forget the future father of my children!\", ' happy as hell and i love', \" i'm loling.\", ' awe', ' cowboys', ' Well I will be making beds, creating noise &amp; cleaning cleaning all day long.  With music &amp; a smile  x', 'home for the nite, sleeping on the pull out bed with Maggie. wishing it was _durden  I got to find a apt', \" bored bored bored! wish i had something to do tomorrow, especially with the weather we're to have! not fair\", \"CloneCloud: actually it's distant processor provisioning  like the idea http://bit.ly/b9v90\", \" i love hearing about your novel! i'm kinda awake, lol. will continue to do so, hopefully.\", 'live chat soooon most likely.', ' thankfully that face only shows up for photoshoots', ' hard', \" he's not!\", ' my best friends bought something which i really want.', \"Good Morning campers, I'm not a happy bear this morning, had an awful dream during the night, &amp; am v worried.\", ' fun!!! good night!!!', ' hate you!', ' beautiful wallpapers from www.interfacelift.com - go have a look.', ' great', ' great', ' humming', ' i dont wanna im to spanish today', ' fav song', ' love', 'Wow, my bed is SO comfy &amp; my nap has been much too short. Getting up for work = do not want.', 'Going to get a pedicure and the to CPK for lunch', ' I so know what you mean', 'just signed up..so, hello twitter world, here I am', ' sick', ' lolz at your modesty...***kix rox***...now all the gals will be lined up at your door', ' afraid', ' remove things that have a value', \"  What's all your fault?\", ' goodnight', \" happy bout that, headache, dizzy can't breathe, yeh im still sick\", ' this weather makes my fingers numb / still waiting', 'is downloading songs  http://plurk.com/p/rp8wx', \"Sites that republish my blog's feed often end up higher than my blog on Google search results\", \" happy mother's day to all moms you sure are the ? heart of mankind.\", ' like', ' love of my life.', \" It is, Pinkwind is a thing from Vanessa's dad. And My sister made me that SN in the 4th grade\", ' bad', ' between the Garlic Pills, the Spider bite between your toe (LOL-Classic) and you always being hungry. U are killing me 2 funny', ' proud of u man.', ' shitter', ' goal is to lose 10 pounds by next tuesday! 120 here i come soooo ready for gatlinburg!', ' happy', \"Have been writing since 6pm &amp; I only have 300 words. Can't help but edit as I write. Stop it, self! Oh, I've also been researching too.\", ' sorry', ' love', 'Me and mum are lost in grangemouth. Utter hilarity! Totally lost', \" i'm frustrated,\", '_city tell brandon I said hi!!', ' fml not having a car is prohibiting finding a job', ' you are lame', \" ****! natalya! you gotta tell me whats going on!!! i'd call you but i lost\", \" i can't.\", '&lt;----------- is listening the **** out of Lamb of God', \" where'd you go!\", 'Calling it a night .... talk to yall tomorrow', 'is done with classes for her freshman year.', ' TGIF is right...I think I broke my toe last night - on my bad foot.', ' hope', \"Gonna go and see my sister at Mount Sinai ....  she's there for at least another 24 hours.\", 'ourno i would have to agree with you 100%!', ' Doing a Rainbow and Unicorn film then?  #48hours', ' and Im just going into work... if we were married, we wud never see each other', '_g: I`ve been sneezing and felt like a train-wreck for the last two weeks myself. But it`s not piggystuff.  So we`re good then.', \" Well, I'm glad I'm not the only one! Mine's so bad I'm having to resort to pulling out the old hairband disguises...\", ' beautiful', \"  I know, right? I guess the oldest doesn't hold rank on field trips anymore.\", ' its too hot in my room. i wanna go swimming.', ' awww that sucks also, when i finish uni, you should totally have a mini housewarming. yes, work it around my schedule, lol.', 'Yes, I am', 'Is twubbing again', ' sadly', ' sucks!!', ' great, more bank holidays required', 'ties! woohoo!! my faves!!!', ' ach, probably not... they are labeled as MI-5, which I believe was the name used when they aired on BBC America', ' Until  brings back our EVERYONE button, access PT @ http://twitter.com/public_timeline or link in bottom of Settings.', '_berland LMAO I know I know', 'insomniaa.  been trying to sleep for 2 hours . :|', ' jia you !', ' then ill post it', 'LOVE getting gifts in the mail from my very wonderful friends back home!! How I miss Myrtle Beach so much... A little homesick today', 'watching the notebook', 'Ok. Over exagerrated. Twitter is not to bad.... I guess.', 'my 3yo just woke and groggily walked over to my office.  Is now sleeping in my lap', \"Yo somebody's mother just came to the club dresses like she's going straight to church after the club! I feel like I'm going to hell 4  @\", 'A short 5.25 hours left to go at work', ' oh god! i had to look at &quot;how to use twitter&quot;.. how hopeless is that?!', ' not quite as much...hmmm products in US that are not in Canada?? Idk  Do you have covergirl?', 'Still feel like craaaap and like everyone on earth needs to know this lol... Have fun birdies', 'i need to go out of office again.. i am melting..', ' slaving away at work', ' poor', ' good idea!', ' sadness in their hearts? thats my case rite now.', ' ahhh my mommie got me new sheets for my bed so comfy', \"@_handz_ it was quiet.... unfortunatly but what the hell it's good the chill out too right?\", \" happy mother's day to you too girlie! kingston is lucky to have such a great mommy!\", ' rise and shine time to get prettifide.', 'changed', ' hello you!  you should totally go to the biggest shopping center in Europe and we can go shopping together   ****', ' i love', ' wish', \"My tweetdeck won't pull up.\", ' argh..hmm wanna follow my idols lyk away from the pc..', \" the honesty's to much...........  Sorry couldn't resist;)\", 'ornia sunshine your way.', \" arghhhhhhhhh... i can't keep up with these twitterbones peeps\", \"bought three books!! yipee!!  now who's with me on that read-ten-books-during-the-summer thing?\", 'Coco still out', \" Oherr it's soon then, do you have plans? I had a party on saturday  x\", ' lmao, yep', ' ugh gross', ' http://twitpic.com/4w9h2 better in person had to send u this, I feel like mouse from &quot;The American Tail&quot; . Over in RI!', ' sorry', ' yummy .. share!', \" u shouldn't stay too long u will get all wrinkled up!! kidding\", \" It's been raining the past few days but it was actually sunny today! Well, for a little while. Now it's super cloudy!\", ' lovely', ' great', ' i had thought i would have a new one by now..', ' shame', 'is watching Mock the Week and is slowing cooking', ' glad', ' lol man i got 2 1 /2 hrs an iont how i woulda made it wit out my ramen noodles and t.v. Time', '33333 txt.me.hon!!!', 'yeaaaah tangerang in vacation', ' ....back to a frizz head again', 'Did it!!  back in pakistan! - http://bkite.com/07kBP', ' amazing', ' happy', ' bad', ' excited', 'I just slept that entire flight, and woke up to the fact that the girl beside me had been watching Chitty Chitty Bang Bang!', ' hate rain!!', ' gooood', 'Bucky, my ferret officially has insulinoma  Now on daily prednisone. Had interview with p-doc today, have to go back monday for testing.', 'I get to drive my dad to the airport so he can fly to Vegas for the WSOP... I wanna go to Vegas...', '.. so I can only recover 10 photos', ' good', 'good', 'Is watching acoustic performances! &amp; In the mood for a good &quot;FRIENDS&quot; episode! I miss that show', ' pain', \" someone's a sweet\", ' slo w', ' oh it is so sunny.', ' wtf', \" mother's day\", ' bad... i was wrong', ' missing', ' yes! i done it! at last. my homework is ready dx and i can go waaalkiiing because the sun is shining ^^ oh yeah.', ' crying', 'eating lunch. then school', ' excited', \" **** these nig*s is all on me, but they won't get this...&quot;not without a check!&quot; lmfao\", 'Going to bed...going back to Korea tomorrow', ' amazing', ' lovely', ' corner and cry.', ' ooo my goddddd; vodafone trouble.', ' You are quite welcome Mr. Poole.', ' sucks', 'being new to Twitter?!?!?', ' Lester?  Guessed her?  Yester-day?  You can think of something.  No cop outs now.', \" MAKE ME ONE! I'm still craving shrimp\", ' exhausted', ' yay', ' cool pic that sal made of daniel and you. lol.', \" i'm freezing fully shivering every1 else is warm no fones allowed ffs!\", \" We've got a pool still boxed up because I need to level a suitable patch of ground before we can set it up.\", ' while driving u come across aggressive driving behaviour', ' grrrrrrrrrrrrrr ive barely read any of it', '4 shifts down, 2 to go... then its my birthday!! but, should i be getting excited??? im turning 29 which means im almost 30', '_jane yay! buti nagustuhan nyo. isang bar lang enclosed ko sa mail.  to test if matutunaw or hindi. next time uli.', ' yay! have fun', ' ruined', ' cute', \" screw the fact you can't post long updates on twitter\", ' We knew what what you meant!', ' dying', ' nice!!', ' nice!', ' not hahhaha', ' awesome', ' wish i was still sleeeeping', ' glad', ' Who To Say Hi To And Who To Buy A Shot To. Lol. Jk.', ' i hope', 'skype call with billie but my webcam dont work', 'Talking to Sarah and Lisa!', 'Mrs.Bates left', 'let me dream about my spock now goodnight', ' cool shiny shiny pink material.', \" you don't even care about there, their, and they're.\", ' blew up', 'On way back home after a crazy night on the coast', 'Wow, the new Google icons suck   http://bit.ly/z7JIE', ' sorry', ' absolutely horrible', \"Only 5mins till my baby's back from work\", \" pretty cool tweeps; check 'em out.\", 'waiting for aaron to get into town, and then leave him for work. booo', ' bummed', ' great dinner with my wonderful girlfriend.', 'Now I need to change my monitor', ' and within a short time of the last clue all of them', \" i'm sad\", ' that was delicious! lets have a walk sometimes with you and your hubby.. and others! me misses you', ' **** i shouldnt have left!', 'Thanks    ? http://blip.fm/~5z6n8', 'found a swing set for sale 2 blocks from home, super cheap. I want it 4 my kids but no one is answering the phone # listed', \" you're silly.\", ' I have it.  Hehehehe u want the torrent?', ' i struggled on an ar contest question...', ' i miss you, n. we all miss you. pls come back wherever u r.', ' headache ever. my photosensitivity is getting out of control!! help.', ' awww holly shes so cute! i hope they let her sing again!', ' bad migrane and need to go to dancing tonight.... not a good combination', ' thanks', \"I don't want her to leave..\", \" sad looking without all of the furniture, air mattressing it for 2 nights and then i'm officially moved from knoxville.\", \"I've just about made it all the way round the park jogging. Quite pleased for my 6th outing\", ' interested', 'tMeme&gt; My besties. If only  was there.  on Twitpic: http://twitpic.com/67hac - My besties. If.. http://twitpic.com/67hac', \" aren't going so well for me. i'm getting to feel like i haven't felt in a long, long time.\", ' lol that just totally made me laugh, which made my day', ' is relaxing', '_Kid May the 4th be with you', ' good day!', \"Rod stewart's new song\", ' miss', \" WHAT'S UP MY HOMIEEEEEEEEEEE ???? I MISS YOU LIVE LAST NIGHT  I HOPE YOUR ON TONIGHT . I WILL HIT YOU UP CUTIE\", ' i just deposited', ' happy', \" go to mid valley la ****  haha! never mind la, i don't wanna go with you anyways\", 'Zs.Nagy presents  http://www.nordugrid.org/manuals.html', ' good', ' yay that was good', ' thanks. appreciate it.', 'Transition time is over; tonight I work night shift. I woke up at 1330.', ' most definitely will!  also, i wanted to say &quot;perfect time&quot; was my favorite track! it seriously made me tear up!', ' i love', \" There's no pause button in the game of life.\", ' sick. i read let the right one in and was only horrified by the cat violence. just horrible', 'storming outside', ' haha! sorry to hear that', 'Looks like its another night at the office lol', \" It'd be nice but soon we'll have to Pay to Tweet\", 'Well good job to my two cousins that are graduates! Good luck in life!!!  &lt;never wear your pajama pants to school  &gt;', \"[Sarah Mcglaclan song in background] Please donate to jpnnbak' fund of &quot;Dinero for the cable bill&quot; think of how you will make her\", \" haha well then maybe u shouldn't be so weak hehe jks ****\", \" isn't pointing to the private account\", ' sad, very sad', 'I feel sorry for my bestie  good luck ali!', ' good', ' ???!  #MandarinMonday', 'Early bird gets the worm.  And in my case, birder gets to witness the carnage.', '_rain i wanna see her hair  hows everyone?', 'is never around for the sl100 quiz   I want water park tickets waaaa', ' NEW FRIEND?? hmmm... tell me more', 'hanging out with my babyy', 'hmm icecream for breakfast  #springtime', ' nice', 'I wish i had my iPod , i need some jonas . I miss their sexy voices  JB forever !', 'Watch Lowkey freestyling (and selling his mixtape  on http://tinyurl.com/dev4xh and performing in Norwich tonight', ' thats good to know, and i bet he looks just like you.', \" i won't always be here to do them for you. she was right\", 'I want to get super pretty  and i want a cig', ' awee!', 'Speaking,,,Speaking ...', ' thanks', 'Had fun at the Airshow with the boys today - exhausted', 'OK, time to head into Urban Outfitters to see what catches my eye, then head home, since this rain is hindering any more pics for the day', ' broken', 'home form school...its a long weekend  most ppl would be happy but im not...im still mad and sad about him', ' babylove', ' excellent', ' fun', ' thx', ' soooooo wish i could, but im in school and myspace is completely blocked', 'getting ready for the day, out then work till close', ' pea plants!', ' follow me??', ' P.S. Culled a handful, esp followers (spam ones with NSFW links that I did NOT click on). You made the cut though', \" poor little 7mth old was taken to hospital yesterday. we are syringe feeding him at home because he doesn't want to drink.\", ' disappointed', '&quot;Puke In My Mouth&quot; the brilliant response to **** In My Pants  http://tinyurl.com/cy8z7y  Over the top wrong', ' looking forward to an exciting bank holiday around the diy shops...life cant get much better.surely', \" ride my bicycle today, but it's too cold and cloudy today\", \"All my spare time seems 'twill be spent doing homework this weekend.\", \"Hannah slept here last night  just gave her her 5:00 AM bottle and she went right back to sleep but I'm up! lol\", 'http://twitpic.com/4jco5 - The Result of working the Green/Black fingers...', ' a pleasure', ' thanks', 'I wanna be at BEA as well!!!!   #BEA09', ' hate this!', ' Can I also have a swirly flat white?', ' thats great', \" happy mother's day\", 'On my way to school not feeln this rainy day at all.... But I had lots of FUN this weekend  ....', '_r One of mine is a potential winner I think, could be quite easy to code, but I might sit on it for now', ' But I really want a Sporebat pet.', 'Yay, watching Supernatural   .. Great way to end a hard day. I miss you Jesse.', 'Writing reports....', \"going to work once again. what a great few days off i had. now it's over  but atleast i get 2 more commin up wahooooooo\", ' yay thanku!', ' inspired to blog about something inspirational. haha.', \"not all it's cracked up ta be.\", 'daay!', ' wish i could go. gotta work.', 'Huge headache...goodnight!!', ' only gets spam in her college email account now. what a way to rub in graduation.', \" what's wrong?\", \"I hate the exams . first time and last time in this school  then i'm out ! after 10 years! yaaaay !\", ' joy', \" I've been there.  The only place I have flown out of since moving up north. Really pretty area for flying, but very expensive\", ' good', ' hate', ' yahoo pipes', 'just rocked home from maccas, and now signing a petition for big bang to tour aus  LOL', ' crying', 'Raining again', ' kill', ' this my new more private acc. Will only use it for close twitter friends', \": I'll keep y'all in my prayers but welcome back to TX  Hope you have a good,safe flight\", ' fingers crossed for you.', ' bad month to try and get an advert together for kobold quarterly', ' good', ' dead inside. sigggh', ' thanks', ' happy', ' she lookd soo freaked out!!poor wee thing', '_flo well thats not nice... hope ur all good now', \"_in_a_story Glad I'm not the only one. He's our baby, and I'm terrified he'll think we're never coming back.\", 'http://twitpic.com/66nbd - Ready for our 3D Jonas Brothers Experience. Real Brothers, not included', ' cool! just got back from walk with the dog... omgosh! send me the link again please!', '  we get so bored with routine.. lol!', ' I mean someone hit a dog with a car. It was just laying there', 'My near daily exercise is starting to show results.', 'raham yerrrr sameee haha its the way he plays edward i thinkk mmmm', \" i feel like my phones hole is not a virgin. that's how loose it is...\", 'charlie and the chocolate factory, in the mood for some johnny depp, then bed. Preparing for a 14 1/2 hour wok day tomorrow', 'good&quot; question.', ' sucks', 'There mite be a article in the trib bout portia, keep an eye out for it.', 'is slowly crunching the reality that june is fast approaching. in other words, classes again, and another year will be added to my age.', ' love', \"HA! I'd give Kristen plenty of free hugs! *sigh* if only I could\", ' have hardly', \"I'm off to bed. Head just won't stop giving me pain. ahgg.. Let this sinus, allergy, whatever you are be over tomorrow! Sogni D'oro\", ' good', ' ugh! nothing to do in the valley seriously gotta move out of here!!!', ' sad', ' love', \" me? A doctor? *laughs* oh, no, no, no. I was _crane's patient at Arkham Aslyum, but now I work for him\", ' sorry! ahhahah i missed you!', ' just took my shirt off and my back is covered in blisters', ' may not like me again.', ' fun', ' thank you so much natalie, hope u are well', \"Gday... Do you know if NHibernate has issues with COM Interop (VB6 &lt;-&gt; .Net Wrapper &lt;-&gt; .Net+NHibernate dll)? I'm getting crazy\", ' miss', \" i'm glad\", ' failed', ' hope', \"like wat do i do wat do i do.........HA i got it i'll go 2 mushygushy...... so peace out twitter dudes i got a gushy gram 2 make\", ' unfair', ' cancelled', 'You know who helps me almost everyday?  ', ' im really sorry', ' missing', ' look who i found just for you ---&gt; http://twitter.com/djt2009', ' snowbear has finally come out...congrats', ' i dont even know now lenaaa  when you going clothes show?', 'wishing, i was at the michou show right now.. god. life isnt fair', ' why did everyone seem to leave me this weekend ....sigh.', 'noooooooo...another headache...hopefully not a migraine', ' best', ' hates', ' happy mothers day mom!!! i love you.', ' yay asap lol awwh i miss our friday night happy hours even luna del sea and the &quot;boy&quot; hahahaha', ' i am dying here. i want to go to sleeeeeeeeeeeeeeeeeeeeeeeeeeeeeeeeeeeeeeeeeeeeeeeeeeeeeeeeeeep. :[', ' glad to hear it was a success', ' love that!!! have a great', ' excited.', ' I was being childish lol cos one of them said that pic of Jake in Down to earth made them vomit', ' sick', ' great we love you guys! kisses from venezuela!', \" It's 12AM! ,  and I are still up, sending you as much tweets as we can! Philippines tour please?\", ' Headed back to Baltimore tonight', ' lao mein', ' good old ebay..', ' bad karma', ' better', ' hurts', 'I bought two tops and a scarf yesterday...sister has successfully hijacked them this morning to wear to breakfast (after removing tags)', 'Take me with u eric', ' sorry', ' good', ' goodnight tweeps.', ' i love chinese music. haha. not gonna see my luff til thursday...', 'I should learn not to walk all day, and then sprint through sprinklers without stretching.', 'tweeterizing from a mobile', \"That didn't take long.. A fragment of bone did not heal to the major bone, it is now being reabsorbed by my body, may need fix in future\", 'wants to listen to musiq soulchild, but it is not on the iPod', ' happy', ' good', ' thanks! i love', ' loves', ' together', ' aww... me too', 'back to br', \" how do you call that number from the UK ??  I really want to call u but I don't know how to  xxxxxx\", \" don't go to logan square we're pretty sure the shirt isn't there 1 more philly local tmrw\", ' bummed', ' thanks', ' Hey Esmee. How U doing?', '_Lee I loveee and missss my annie!!', \"I'm going to estonia!  woohoo!!\", ' broken', ' wow', ' please lose', ' love', \" ask them what they have done with their lives. be annoying human beings? tell your mama happy mother's day!\", ' Is It The Bit Where Hollie Started Crying?', ' good', ' I almost said, &quot;and grammer no exist either&quot; grunt.  But I stopped myself', ' thank', ' hate', 'nachos and the tudors? i think so', ' U so dirrrrrty... Why oh why did I pick the Hawks  I figured I needed a longshot and they were a better bet than CAR', ' lame, sorry', \"Up and at'm   getting ready for work\", ' hurts', ' - Try this one  ', \" eek can't wait to see it!! as well as everyone elses. gahh i don't know what i want  lol\", ' hey hunnie  how are u?? I miss talkin to u! Ty for the follow', ' you dont say', '  i was just thinking about how excited i am for you guys to move, but then i realized how sad i am to see you go.', ' like it. hahahhah!', ' sux', ' miss', 'I have to go to work.', ' good luck!', 'fall down', \"so now that I have a whole 20 followers, 5 of them actual people, I don't know what to write in here anymore\", ' bummerrr for me', ' i wish i could have time for my xbox project all tied', ' sick', ' forgot my money...', ' dead, just rare', ' not good', ' broken', 'Ive totally not got that job  i can just tell.', ' great, social network sites are still growing', 'anyone got an FFE account? if so.. add me', 'is still craving for a cheeseburger.', ' good', ' back is sore... should not have done that jump last night', ' heading over to xbox  will go shopping 2morrow', ' i kinda like not having a car but there have been situations lately where i have been prevented from participating due to my carlessness.', ' nobody likes', 'I wash my dishes Like a boss!! LOL', ' leme put this bottle of ciroc in ya..baby i can make you popular!!', ' miss', 'COTTIN WITH EMILYYYYYYYY', ' heaos keen for next weekend. mummy.', ' well so far. meeting until 4 though.', \"Last time we'll get tacos like this.\", ' awesome.', ' - ****. LOL ON FRIDAY.? ITS NOW SATURDAY HERE LOL. IM IN AUSTRALIA', \"i am the only arabic girl who's online  every one is  a sleep ..\", ' congratulations', '_arcelay http://twitpic.com/4xvw2 - I got chased by a male chihuahua that looked like he was pregnant today  He was black and  ...', ' good', ' Lol - I could try!  Seriously tho, dont do all of it! That sucks! ****', ' nice day it can not be better', \"_Bloody_Poet What's the matter?\", ' Pair it up with Fringe on Tuesday? That smells like a win imo as well.', \"Just Another Mobile Monday is back online. There's two days I'll never get back.     http://tinyurl.com/ra48ye (via )\", ' thank you', ' So when are you guys coming to Alabama...you were supposed to be there tonight but cancelled...I had great seats', ' omggg. i just heard someone is gonna die', \" absolutely!  I have a &quot;his view&quot; section on my site.. I know you're busy but you are more than welcome to guest post\", 'is in history', ' I would cry a little. Wait...no I mean, the mechanical army would be -so- pleased to have proper representation. X-me!', \" actually, the web works fine. tweetdeck seems to be the culprit  sadness! it's done this at two diff. locations\", \" wish i was her he's hot\", \" hot cuppa coffee made with milk &amp; fortified with monin's irish coffee syrup! bliss!\", ' miss', ' good', 'my monday running so fast!', ' humidity is not my friend!', ' hurts', \" i'm mo nudge you again, better watch out!\", ' glad', \" I can't get in, I'm in a waiting room\", ' respect', ' The cast of True Blood was there', ' too sick', \" unfortunatly, just about to start making my way home  but via Singapore for a gig too, so fun ain't over  just yet ;)\", 'Bread in the oven, room cleaned... almost done with the things on the list for today', ' Wow, I really hope it gets better. Asthma sucks', ' help', ' im cool', ' woop right am off to &quot;try&quot; to get 2 sleep haha its 2 hot  have a good nightt x', ' carelessness and the loss of a brand new ipod pouch', ' miss', 'Im hungry and its cold', ' What are those barrels made of? Hey pass that barrel', \" Yeah prbly pickin up songs for SingStar. Haven't checked the last few store updates. And dunno that Cranberries song.\", \" don't feel like\", ' it was amazing', \"Google Wave presentation: http://bit.ly/2ehfov  I'm not very impressed. It's nice, but it's not really for me\", ' hopefully', ' hope she loves', \" http://twitpic.com/4vw9a - I'm not gonna buy one...nor two... But three! I will be the ultimate slaughter machine!\", ' not a good', \" good luck in the pressure test! don't worry everything will be great\", ' If you had owned an *actual* cellphone, that would have been video, and called a &quot;QiK&quot;', ' love', ' wasabi is recovering from surgery http://apps.facebook.com/dogbook/profile/view/612', 'Going to clean my room but thats not hard. i keep my room pretty clean really....anyway, i could still be doing better things!!!!', ' whatever do you mean?', ' ???    ?????? - http://bit.ly/nAcK2', ' I still have an hour.', ' Oh you understand French?  Well, maybe I exxagerated it a little bit lol but they all want at least 1/2 years of exp. :-/', 'shop then work time  see yas laterz x', ' omg!!! is this the sun glimpsing through the clouds?! woohoo!', \" Gotcha ! Let's meet up @ The Twitt Cafe\", ' tikcets are only ï¿½91...each...but i so want to go', ' i so wish i could get pregnant!!', ' fantastic', \" good stuff happening lately so i'm getting excited!\", 'Yah me too', \" tbh having no credit in your phone sux. i cant even text people to see what's happening, like its totally grrrsville\", ' i broke', 'WHAT ABOUT ME ??  I VOTE EVERY DAY FOR YOU !!!!!', 'bout 2 have 1 more drink then imma head in da house', ' arrr bummer  who do you want to win?', 'Sat alone whilst jay plays on his phone', 'testing out ymtumbkr on my iphone  http://tumblr.com/xiy1qycvc', ' well you are a tricky one so I would say 6.5', ' hi Ms. Fussy  *waves*', ' thanks for following me. nice', ' happy', ' horrible things which transpired today.', 'has dislocated her knee  *bad/painful times* gas + air and morphine are fun though', 'tomorrow is going to be sooo awkward &amp; embarassing. lights &amp; sounds last night was awesome', ' nope i have a fifth generation ipod classic it likes to be dumb', ' why is everyones tweets', ' lost', ' dreaded', 'i miss my old phone it worked so good until i dropped it  i want a new one for my birthday...', ' thanks to my baby girl.', 'Change of plans. I am staying in Brandon.  No Papaya Salad for me.', ' sorry', ' : Come to VietNam to make a live Show Miley. there are so much fans love you at Viet Nam', ' so disappointed', ' that it does just wish', ' nice', ' stuck', \" believe it! i've been a sahm since i had him!\", 'Exam is commmmmiinnnnnggggggg !', ' glad', 'Guess what? mom adopted a kitty today (11 months) His name is Corky', 'life should be exciting today but someone very close to me has mardy bum and its starting to rub off on me!!', ' worse, not better!! i cant stop coughing - it really sucks!!', ' sadly,', ' bgt made me cry', ' sick', ' glad', 'He will be here in less than hour', \" If the drive is automatically ejecting supported discs (ie CD-R), and you can't boot from a disc, it's time for AppleCare\", ' perfect', 'Without wings again', ' please', \" burning cd's,,,,,,,,,\", ' my gawwddd ! 6 headshotss inna row? im on fyaaahhh!', ' thanks timmy. turns out he has strep and a high fever.', ' hard', '  just wanna be there tonight', ' oh that looks boring  and even more boring you have an exam on a saturday', ' hurts', \"lied last weekend when she said she wouldn't get upset, just an FYI.\", ' curse', \" i'm clothing myself as i type xd woooo\", ' sweet', ' nevermind....', \"I'm doing an advert 4 the Make-A-Wish foundation &amp; I can't find photos of kids looking close to death... that's a good thing for the kids\", ' kill my wrist self addressing 500 envolopes', \"not sure why I can't get tweetdeck to work on my computer. want to know what all of the hype is about\", ' boring. * note to self -unfollow peeps on monday morning', ' loves', ' thats so cool', 'about to go to sleep', ' I hope so ^^ Eclipse is up and running again btw!  http://tinyurl.com/d792yd', \" thanks. happy mama's day and lakers day! i love it!\", 'http://tinyurl.com/c8nlzh - forgot how much I like this song', ' aww bless haha your cute', 'Want to hang out with beth and tenaya and their hubbys tonight....but jon wants to hang out with some other people', ' me too!', ' the problem is, superstars always deliver huge files! too much energy pixels', \" wasn't the &quot;layers&quot; just absolute positioned divs? Web compability killer\", \"  link isn't working\", 'Internet, you were so fast! And now you are so slow! Where did the fast connection go?', ' nice', ' sad', \" don't think i'm gonna be able to go to see the jb 3d concert...wrong time,\", \" i'm careful with stuff so maybe that's y\", ' keeping it chilled.', ' good', 'last class at 10:30. One final tomorrow and 2 finals on friday!', ' hope', ' I knooww  &amp; my hot water bottle iss in whangamata without me. ahhhhh', ' sad', \"Chaz's Daily Happenings: 22:31 Watching E.R instead of a DVD. End of an era  # 11:09 The sun is out. Wooo  #.. http://tinyurl.com/lgwrum\", ' caught tweets on it and got home in time for the last 5 mins of the itv2 show!! #bgt out tonight too so will miss', \" I can't, I have an exam on wednesday\", 'Up late with nothin 2 do.....', ' sadly', \" wasn't it totally awesome? seeing the rebooted crew was so nice!\", ' awesome', ' hate', ' hand', ' aww that sounds sad', ' Going to start very small, like $0.10 or $0.50  Then slowly to higher stakes', ' lazy', ' oks  yes infact we had chatted earlier on n00b.in as well', ' lovely', ' enjoy', ' bad mood and i dont feel good. too bad', \" i'm badass.\", ' good', '  Let me check, Sirs', ' all alone for the weekend!', ' i blame', \" ... like you're stuff! strange voicemails!\", \" in august with anberlin. they're not headlining though  and yes there is a perth show\", 'est', ' hush...', \"Hmmm... he's so lovely. I wish he was here now. I'm tired but can't sleep\", 'i just need to sleep', ' guns and roses baby! yay!  was hopin you would blip.fm it', ' Oui mademoiselle. You can barely turn around these days without bumping into one.', ' gmorning hermana! thank you for your testimonial it is wonderful. posted already.', \" i know how annoying that can be!  but theres a german saying'pleasant anticipation is the greatest pleasure'(own translation)\", ' bored then watch tv. man, this is lame.', ' i love', \" werd. that's very true\", \" that's really frickin hot!\", \" I'll oscillate from one to the other.\", ' miss', ' truly sad... my cheap little camcorder just shot craps.....', ' dead', \" i'm so very tired...and have insomnia.\", ' woot!', 'sorry,', ' dirty.', 'so i guess we r sleepin over.', ' hopefully', ' scared', '_rockstar umm how bout em?..aint get 2 see da game  but i see dey survived anotha game of da series due to notin but Lebron im guessin', ' im sick', ' watching army wives and it always makes me cry', \" i don't wanna work tonight\", ' happy', ' have a fantastic time in paradise and drink a few margeritas for me', 'NO! Keyboard Cat is/has been dead for YEARS! Play yourself off, Keyboard Cat.', \" laze about ! It's. The bank holiday law\", ' enjoyed', ' nice', ' Shanghai is also really exciting (precisely -- skyscrapers galore). Good tweeps in China:  (SH)  (BJ).', ' burnt', ' thank you,!', \" i'm jealous.\", ' boring... all i do is watch tennis matches', ' hope', ' It is a recession', ' sunburn is really bad', ' excited', 'Up early this morning, first to portmeirion then home', \"He's getting ear tubes in about an hour so no food\", ' one of our governors is one of the directors of the company', 'Browsing  find everything about university &amp; interior design.', 'Flat tire city', \" ****, I'd be interested in working with Care2, but I don't live in SF anymore\", 'walked home in the rain.', 'thanks iPhone, you kept me up till 1 am. ****.', ' love of my life is hosting', 'A little twitter mention on SNL', \" i love summer, but i oddly don't want this school year to end.\", ' nicely', ' i like you', ' sucks!', 'wake~n~bake monday', ' delicious.miss germany but like holland as well as we used to shoppin there at weekends.lol', ' today was my first day', ' yeah dude. Mike is out', \"New chic just texted me saying &quot;Thanks for the e-mail&quot; but didn't answer to my question, might need to look for newer chic now\", ' omgoodness finally back from dinner with the fam bam!', ' all of em! Hahahahaha sry', \" i'm missin u guys by a day!! ill b there tomorrow butttt see u june 18th with the blockkkkk!!!!\", \" i'm not in the best financial situation myself at the moment.\", \" that's great!! weee!! visitors!\", \" I can't say I've tried, but then again, I haven't tried with a sword either   Not yet, anyway.\", \" I don't think I've ever tried peanut butter on toast\", ' I`m looking forward too see and hear you in Norway!! Live fast!', ' It rained here too', ' what are you? flavor of the day?', ' i feel like', \" Let's go!\", ' miss', 'really tired,wanna go home!', 'lasttt mondayyy of classs', \" No problem. At least look on the floor. We won't see the banana skin in our brains ... I step on it once, almost got killed\", ' i miss', \" What did you get?  My day is alright.. haven't done anything yet. leaving soon to my stepsister though!\", ' rofl. room is too small to dance', ' wrong', \"and to james's we go!\", ' yay i love', \" How did you swing those? We didn't get that close.\", ' yeah...I hope it turns out... 20 more minutes!', 'gahhhh homework. masterchef in half an hour! hahah and the recruits', ' please', ' i just cried', ' curses upon the ridiculously slow internetz at work!  The dang image just now loaded...', ' sick, sick, sick. this sucks.', 'reconnecting with amadeus and friends', '#f1 in a few hours guess who is sleepin in the living room', \"Wow, Hugh Jackman TOTALLY bulked up for Wolverine. So so movie...but helloooo nurse! He's dreeaamy  Yup, my crushed spirit is on the mend.\", ' i cried a little when the truck pulled out...', ' yup. their loss.', \"It's officially the start and the end of my summer. Oh summer school\", \" i'm suffering\", ' happy star wars day everyone! !!!', \" everything's blocked.\", ' excellent', ' the rain outside motivates me to sleep.', ' not happy', ' thanks', ' happy', \" .. and you're on twitter! Did the tavern bore you that much?\", ' we have mice in our attic who clog dance', ' sad', 'Orange vitamin water 10 is my new addiction  U should try it.', 'Good morning. haha I just read that the swine flu probably not come`s from pigs at all, but from people! Poor pigs who got all the blame!', ' welcome', ' enjoy. hope to see you arou..', ' best', ' lucky lucky', ' thx for sharen luv', ' happy mothers day!!', ' missing my big girl.', ' btw - downloaded iphone 3.0 sdk', ' aww', ' okay so yesterday was good went food shopping, cooked some chicken tacos and bakes some cookies!!! now i am back at work.', ' the comp deleted', ' bored!', \"Finally X-Men Origins: Wolverine arrived, Time to play the game like a mad man, And then it's time for the review  /Patrick\", ' well piss', ' fail', 'In my moms hair salon, dying my hair', ' yup its working.', 'Friday evening......what to do, what to do.  I have to idea.', \"http://xkcd.com/577/ - today's xkcd  Looking forward to daily updates this week!\", 'seeing shane dawson videos', ' shocked', \" it's saying that it is the wrong link-it cannot find the address.\", 'Eatin dinna, herd tom brady not movin 2 fast', ' spent the last 2 years largely ambivalent', \"It's only 10:30 and I am going to BED! Brain can't focus at all.. Need a fresh new start. I pray that God grants me a fresh tomorrow.\", ' urghhhhhhhhhh your makeing me cry', 'Off to go B&amp;Q for new outdoor furniture', ' ****.', ' hope', \" can you get catacombs ffrom the cinemas? i tried to get it from my local one a little while ago and theyh didn't have it.\", ' awwww yur a awesome', ' love', ' sucks', 'Working on Canada Shoots information.  Coming your way soon if you have expressed interest and I have your email address . Eh!!!', ' sunburn ouch', 'Had a great time with mpix shootout, just great  thanks mpix...', 'Just listened to condre scr and got an invitation to watch their live concert on June 20th in Munich http://bit.ly/DAXA0  #postrock', ' good. yeah i am fine thanks. just dreading history tomorrow, not in the mood for hyperactive 20 year olds lmao', ' fail. got email for free ice cream. says click here to redeem coupon. when i click, i get error message', ' enjoy', ' have fun', ' did he ask for your Twitter ID? Your sun sign?', ' rocks having connections', ' i agree with the whole Hollie thing', ' fun', \" tired.....but can't go to bed yet.....\", ' i was think of something with a better view, but i am on a tight budget.', ' No Trump casino in Vegas.', ' perfect night. best', 'my myspace profile is OLLLD NEWSZ i need to editeditedittt', ' missed', 'still making icons', 'a salt pig thing coz she broke her other one! lol  do you guys even no wat a salt pig is?', \" I'd love to but I think the trek from London would be a bit too much\", ' grey, so having lemon tea instead, then whb for me too', ' Morning Lou, I Have some housework to do then im off to Church', ' gooo', ' hope it went well! was rooting for you both from the (not so) comfort(able world) of phd application form-filling-in ****', 'i really wanna go to australia and england.', \"Hey! Let's Follow each other! Wouldn't that just be awesome!?\", ' fan doesnt swing our way ... we are sweating it out on a hot humid day', \" are you getting my messages or do you have to add me to recieve them, soz I'm new to this\", ' kill', ' good', ' expensive', ' wow, its hot and miserable. people are probably killing themselves right about now...', \" i dont really trust the judgements and vouches of _xo jk. i'll think about becoming a friend of yours\", ' good', \"Sitting here, waiting to go to the gym.....almost left, then realized I never charged my iPod from my trip to Wisconsin....it's dead\", \" Totally agree, she wasn't even as good as the judges said wither! Just said it to make her feel better\", ' thanks for completing calvin appreciated', ' spilled chocolate milk in my car', ' enjoy', ' love', \" don't you need a server and someone who knows how to program to use Wordpress? Love to but my knowledge is limited right now\", ' lol i like challenges the more impossible the more i want to try!', 'perkinz..  idk wat after dat tho. maybe sum ****. lol', ' miss', 'jfc, it needs to be the 23rd. i will have been graduated, and i ended up getting AWESOME hook-ups for FTSK and Rocket. so excited!', 'On the phone to mum  http://tinyurl.com/otdn9u', 'watching the jobros live chat .. not live though  haha.', \"It's raining  I can't go out to jogging... I have to do it in my house gym...\", 'Has got to go to work with a slight hangover gd nite thou', \" i made a vid for you proving my skills that you denied but my step dad said he'd disown me if i posted it ~ sowey\", ' totally the best', ' My son would freak for the Falcon', \"My hair dresser passed away yesterday from breast cancer  She was the greatest hair dresser I'd ever been to!\", ' testfest was weer een groot succes', \" Sorry JJ i missed that post  I'll make sure do so next time.\", ' fun', 'I lafff the rain', 'i wanna b maliks from taking the stage', 'looking for people', \" **** me. i've just returned from the supermarket of doom to find that i have nothing to drink here.\", \" I'm going to Vegas this summer\", ' hope you appreciate rivkah sass &amp; treat her well.', ' are you in need of another kiss attack??', \" this creepy guy when I was walking the dog  I've had my fill of creepers for the day\", \" didn't meet rosie o donnell but it was still a fun night\", 'http://twitpic.com/4w67k - Camping at black butte lake', ' good.', ' chill', ' yayayyayayay toy story 3 is coming out.', ' love you!!!! you make me so happy!!!!', ' good twenty minutes for one. good night, though!', ' good', ' do nicely', ' i embarrass my self with all &quot;school&quot; ok, final tests and final year aaaaa! thanx god 4 that friends!', ' apart easy enough', \" i like rio ferdinand - when he's wearing an england jersey.\", ' I DIDDDD. I MET THEM AGAIN', 'ROFL - me too.', \" conference call with hp. they gave me an invalid pass code so i can't attend\", ' weird!', \" lucky. my fiance is away w/the marine corps...haven't even seen him yet!\", ' cute', ' nice', ' amazing', ' is having trouble breathing through the pain..and now i have a **** fever...', 'i only hav 8 followers                 !', ' very sweet!!! haha. i am like super proud to be a new mom!!! i feel like, i got the perfect daughter. and i am a great mom!!!', ' miss', ' happy', \"Slept in, woke up with an iced coffee, lazed about &amp; went out for a late lunch with the BF. It's been a sweet little laid-back Saturday.\", 'i hope that everyone has been having a great week.  let me know if you think im crazy for hating coffee XD.', ' swings,', ' seriously screwed', \"Why do you think people say, &quot;save the drama fo yo mama?&quot; I'm sure even yo mama wouldn't wanna listen to ur drama. Ode to mother's day!\", ' ya. i was suffering the whole day yesterday. met dentist and feel a bit better. i still look like rocky balboa though', ' hope', \"Have to run! I'll be on later and hopefully can catch everyone I missed today. Working on web is a bear and so I miss a lot.\", ' sorry', ' sucks', \"Sachie: YNA DOESN'T KNOW OUR PASSWORD YET\", ' watching one fine', ' *hugs* why?', ' sad', ' hope', ' miss', 'Off to work I go', ' Writing or making sense ?', ' good', ' congrats sarah!!!!! thats awsum', \" Too bad I can't come!  Enjoy urself tho.\", ' cookies are good', 'bie won!', ' happy', ' miss', ' fun', \" confused. i hadn't been on his myspace in a little while, but i just read his twit.\", 'Having a cup of tea', 'voted for  on CMT.com', ' omfg. one of the worst days ever!', \" cinema calendar-making. i haven't had time to go see any anyway.\", ' ****  lol....where u headed to?', ' join the club.', ' i love you.', \" so u aren't going to be in Chicago\", ' tried to join the chat but the site would not let me sign in', ' congrats to howie! i hope you bring little james to germany soon wish you all the best', ' good', ' feels ..my cousin is a monkey http://plurk.com/p/x', ' looking', \"So I really need to put the laptop down &amp; start getting ready for  shindig...But I've missed my TwitterLoves all day\", ' sad, kinda discourages me 4rom goin', ' hurts', \" Yup, but what they going do??? He's the Mother Effin Champion!!!! LOL\", ' Oh It was marathon ****? mahasha', ' Ah, I thought management fiat was your own fiat  Oh well... And... Shripriya (or Shri if one must shorten it).', ' best', \"what a beautiful day - shame I've got to spend it in an office\", ' oh noes i missed you again.', ' hate', \"almost got a kitty yesterday...but it didn't work out\", ' best', \" Did you see Star Trek? Now I can't sleep.........too much action. Can't wind down!!!\", ' love', ' love', '_banks &quot;Something must be wrong. Only found 17 July Harl/Sil books I wanted', ' hey guys y did the sun make my day gloomy?', ' shame.', ' wtf', \" I'm part of a religion called People-With-Good-Taste-In-Music. We don't celebrate Jonas Brothers Day.\", \"Hour til lunch, can't wait. Ima go to Mcd's\", \" I checked.  We didn't win\", \" i'm not sure about this tweet business why are the simple things so difficult?\", ' sucked', \" won't be going to the oxford internet institute sunner doctoral\", 'on my tea break  cant wait to drive home tonite!!', ' i despise doing dishes', \" I haven't started packing\", ' rt i have had few hearts the past few days on etsy  boo hoo....totally the same for me too ((((((', ' nice look so cute..oh!!', \" britain's got torture\", \"the  2009 convention ( http://tr.im/mLvw ) doesn't look that great this year  - going to vegas then sounds much more fun\", ' fun', 'Rest In Peace  ADaM 12 &amp; GLeNN EPPS.... Gone but never forgotten... what a week ...Loud in da air 4 ya', 'yay playing scattegories and being random with Joel, May &amp; Sherman', ' i love norton ghost.', \"i've not had a reply on my topic yet  lolz welll its not somethin you could reply too but yanno ;)\", \"where r all the 5am tweets from  people...oh that's right...they opened the #houseofrock last night so they're still in bed\", ' sad couple of days.', ' depressed', \" lazzzzzzzzzzzzzzzy monday !! bank holiday nicole why haven't u direct msged me yet ?!!!\", ' beautiful and fun', 'Is Google Maps not working for anyone else?', ' sad', ' i feel fine', ' painful than dislocating your toe. i was reminded of this today (thankfully, by my toe). still feels weird', 'Guys, follow  for the RX Twitterwar!!!! DD GO GINOOOO!!!', \"Watching WALL-E.....it's so cute but sad\", \" how's the fam? well i hope.\", ' omg, no icecream', \"Right I now need breakfast. Let's see if I can make it while Tweeting ;-) What am I thinking, I'm a bloke, multitasking is out lol\", ' fun', ' wishes', ' happy', ' yeahh', ' you didnt include Taylor in the &quot;Follow Friday&quot;', \" i don't get it.. i feel slightly miserable. #ff done 4 now!!\", \" Your pic didn't show up for me  Boo!!!! All the other pics on that site show up, but not yours\", ' happy dance and then told it was the most adorable happy dance ever', ' hilarious', \" cool accents, but it's weird\", ' EpiCentre Wheelock Place - tourists only..', ' best!!', ' better', \" pulling someone's pigtails? let me know if that works out for you.\", ' happy', ' better than throwing them out', \" i'm feelin good.. 5 am jogs do good. ~aloha\", \" i'm so last year..\", \"I bought a Leica M8, charger arrived DOA. Called Leica,  got transferred around and left a VM.  atleast the RF isn't misaligned...\", \"Why does Urban Outfitters taunt me with amazing clothing that's way too expensive.\", 'maaaaan! I spent an hour on a project for work, only to have the computer bork and crash and lost it all', '_ember yay! thanks.  cover-i sad ang alist please. )', \" love with hugh dancy's accent!! :3 need $20.00 for tomorrow, new top i want!!\", ' I hide my berry like a slave REGULARLY only today I was caught by massa   &amp; im def not light enough to be a juice pouring slave', 'Watching fireworks off the Bay bridge.', 'Listenin to some old school new found glory. Hedro, gimi a high school band i can down load. Besides home grown....', ' excited', 'a band from Hawaii with a Sublime sound, so all you sublime haters can just move along  ? http://blip.fm/~5yy4n', 'is eating chocolate ready break', ' wins. #xfactor', ' happy happy', 'ssucks', ' y!360 closing? get out!', ' wonderful', ' Hahah! That was the best! Thank god for Terry he was laughing so hard. I miss him   I remember racing trucks with him that ...', ' Heard that your dad would be going here in September. Would you also come with him?', ' wonderful', ' awesome', ' miss', ' possibly, yes.', \"lunch break's over, going back to work....\", 'I cant change my profile picture on Facebook', ' watching a film, recovering', 'backe backe... MUFFINS!!!', ' thanks', 'You spelled my name wrong, but message received   http://tinyurl.com/krw9p3', ' twitter has spoiled all the fun. frustratingly slow!! couldnt even bid properly!', 'is listening &amp; watching both my boys on Guitar Heroes', ' pretty cool', ' good', ' bad', \" cool np. it's got me working on a series of designs.\", ' sad when people phones are sick', 'ROTC brought a climbing wall to work for coworkers to try and climb if they wanted.  I forgot my climbing shoes at home today.', 'I know. Im just kidding', 'There is a faux gothy chick looking at me, sorry I am not going to camden and I like pop-punk and jimmy eat world', ' congrats!', 'july!!!!', ' thanks', 'Oh no she stopped!', \"I didn't get a callback for the play I cried...  oh well I guess it's back to being a techie..\", \"It is certainly spring in Vail, Co.  It is raining and snowing!  Doesn't mother nature know the mountain is closed for the ski season!\", 'weathers let me down this morning...ugh!...hada gd nite tho!', ' good morning scary', ' stupid spammers!', \"_Adel they didn't reply yet.. wait till they confirm.. in case somebody might have translated it already..\", \"wants new hair now! Just so frank won't talk to me\", ' happy', \" don't think i can take a needle. watched a horribly gory short film on drugs a few months ago. i'm scarred for life.\", ' happy', 'random night of fun  now im chillin at home.. happy mothers day!', \" it's 3:37 am, i am going to sleep now. but i be back up in 4 hours...lol. good night\", \" beat? don't understand\", ' read something happy?', ' fun', 'Just finished mowing the lawn.', ' would like to have a gaming system', ' sad', ' hope ur ready!', 'just downloaded the tweet deck....look at my and my saviness', ' great', ' better', ' thanks got what i wanted...a wii fit!!! yay', 'Sitting waiting for an exam to start', ' love', ' nice night out tonight.', ' these messages are teasing me! it isnt fair.', ' that is so sweet!! have a good day', ' lol thx', '_eat_out', ' bad.', ' feeling very tierd! too much college work!!!!!!', ' i feel so deflated. no more doggy.', ' propellerheads has been on my hard', ' good', ' forgot', \" You're the only person to have joined in  #penilewords\", \" aren't you suppossed to support the local economy ... lol ... good for you and congrats\", ' have fun', ' ****', ' fun', ' i love', \" it's good\", ' Our raid leader made us run drills to practice switching', ' wow that is pretty', ' heals', ' How was your chicken and chips?', ' yayy..', ' LMAO... just saw this. That sounds HELLA good. I have a hair appt at 7', '_august84 - requoting the gyaan - the more you live life, the more you fail to notice how you live it - quote By muthu...', \" poor macbook is ashamed with it's plastic face and sides...\", 'good day in the sun... little bit burnt tho... well actualy quite alot  very sore  heh', ' time to start unfollowing some people, i think', \"I'm gonna cry    I went bad at my History test ! I really hate History  !\", ' that sucks', \" - thanks for the reply. Of course it doesn't really explain it  I googled it but found no explanation.\", \" fabulous you think they are!! almost mother's day.\", \"I wish it would rain...but it won't\", ' awesome', \" I'm still trying to see Star Trek! I'll just have to Woman up and go alone. BF is pretty much worthless anyway  lol\", \" SHOUT OUT TO NIKKI....PLEASSSEEE   (Soulja Boy Tell 'Em LIVE live &gt; http://ustre.am/2UhS)\", \"My brother is making banana shake. Yesterday he made mango shake. He's our shake guy.\", \" It's not gonna storm!  because I said so!\", 'fine, ill get myself some miso soup down the street', ' learn two-headed boy by nutreal milk hotel', ' suck.', 'will be working at 7/11 this summer', ' good', ' hopefully', 'lol! woow okay its not that big of a deal', ' Yes because those taxes disguise the booking fees and commissions that online travel portals charge. Try iXiGO.com next time', \" I was trying to back all her documents up but it wasn't playing along. its taking forever but am back at it again now\", ' hurt.', \" I'll be sure to\", '@ Cleaning the house! going out at 3 to see a soccergame with friends', 'Just used my last DVD-R for the Windows 7 ISO. Next batch will be Lightscribe dicsc - I want to see how that works', ' tired.', ' pretty good', \" yes, that's what I meant... I don't have anything to turn it into Hirigana, though.\", 'Going to have dinner. bbs', \" aren't we though? lol he's at work now and i miss\", ' bored. bare w me.', '_08 hell yeah! i missed u last nite  lol do u like my opinion?', \"I've come to the conclusion that lemongrass chicken tastes like lysol -  so much for lunch!\", ' crying', \" she's smiling at my accomplishments &amp; all the people who keep me positive.\", ' yay!', ' safe', ' welcome to my life', \"no phone  i knew i should've charged it last night. SIGH\", ' thank you so much phaoloo !!!!', ' good movie.', '  http://twitter.com/friends?page=20 press previous on that page.', \" here's some healing/sleep energy, sweetie!\", 'The day started so wonderful, but now our kids our crying because our kitty is missing  We just got back from posting signs around.', ' i think you should do it with hannah', ' excited', 'Hmm I guess where the world is headed 2day....Lets make predictions', ' suffered', 'FAWXING CRAYONS', \" lovely, i'm headed home via supermarket. planning to spend some quality time knitting tonight.\", \"'m working on a logo on photoshop &amp; it didn't work out..  hehe.. try again lah..\", ' cancelled', \" thats rough. hubby had knee surgery but it did help him in the end. let us know the results. we'll keep him in our prayers\", \" it's very pleasant. i sooo rarely just have time to kill...\", \"Headed home ... Charlie's at the vet\", \" stupid party &amp;&amp; i wanna hang out with my friends, but hilly won't txt me back...\", ' vinegar taste weird', ' Yes, maybe, but for today, I write', \" hearing that my songs brighten someone's day always makes me grin.\", 'I have not been this sick in years. OMG. This sucks so bad. Sickness ended up including a full restroom cleanup.', ' aw, that song makes me think of girl scouts.', ' i thought it was kind of a cheap way out', \" i think that i'm the only 1 on!!!\", ' good', \" And, yes. I &lt;3 mac, if only it weren't so expensive\", \" nice cakes why can't i like them? haha and you should! that's sooo gayy though\", \"_marris I know. I'll have to get some soon\", \" Where'd that ? come from? No pup for now. But certainly in the near future. Maybe a beagle. It depends. I do muss my fatboy.\", ' love', ' hahaah! cry', ' amazing!', \"_Ellen and she's 9.5 and a rescue.. bad hips.    She deserves pampering!  She's full of life though!!\", 'Watching h&amp;a! Got new photos for myy room  Waiting for Ulise to get home.', '_merchant I agree, but teenage daughter will be spending my money on the movie of their concert this week.', ' hope', \" He's too old school for burnouts. Just a lap around the track, like they used to.  #NASCAR\", \"have to wear my glasses today, cos my right eye is swollen and i don't know why\", ' how about we start with a true Franchise online mode. Dynasty was huge, Madden online league not so much', 'I want Crimson Gem Saga.  I will just go play RF Guerilla demo repeatedly. I (Mission Failed - YOU DIED) so many times from dicking around', ' thanks to the person i was gonna go with be a ****', ' evryone come here http://www.blogtv.com/people/ginanicole2 were spamming so much and blogtv is glitching and it might work', 'im surfin..', \" Oooommmmggg, you probs will, too busy to slay properly for a while  Hopefully I'll stay ahead doing 1 task a week!\", ' directions', ' sorry', 'I am having serious cig craving... head for kitchen, let the non smoker weight gain begin', \"oooh gosh Google Wave is looking pretty sexy. Lunch time's over though  Back to Powerpoint (significantly less sexy)\", ' stupid', 'ok outta all 981 of my followers, only about 10 of u ive talked to lol dont be shy i dont biteeee', 'ise bless ya... i know that feeling all too well!', \"i'm feelin awful..\", \"Alix's graduation party!\", \" tomorrow's mother's day me n my sis gonna make an onigiri for our mom~!! its gonna be so kewl!!\", 'Anyone have some advice??? I need it!!', ' bummed. still going to work out hard.', ' and i had our first fight', \"_jtv WHAT! I was only gone for 30 minutes and you're already showing boobage without me?\", 'i keep reading contracts as cataracts... Someone should bring me panera', ' cool!', ' - JT on SNL tonight.', 'Raaaaaaaaaaagh early morning  and its not even early!! Must leave for work in 6 minutes...', ' tonight was fun', 'Hows that possible? No rain forecast for Pinkpop? And I have no ticket', ' wish', \" I can't call Mitch!  Im from sweden!\", 'sad that borders did not have guerrilla gardening book but otherwise a most lovely relaxing day', ' cry sux!', ' awesome,', ' slow', \"_7 Wow that's a big list...lol. I would be happy if I got half of that done. Now I feel lazy...thanks. Just kidding\", 'has to go to sleep but is not sleepy at all!!', ' nice peaceful way to spend a sunday! i got a lil tan!', 'Allergies  sun is out, wearing shorts.  Stuck with my advisory the whole day.... This should be boring. Except fun. If people make it fun?', ' the sweet', ' Still no Internet today', ' hates having broken wrist and has pe next ugh', ' ilooked in my phone book and ur name was the first to show and i was like i got ti-ti number but it was just ur email', \" you're welcome. there! i added you already!\", \" I'll have to wait for the YouTube links\", ' unfortunately.', 'izon. praying that pinkberry is going to make it.', ' died', '_the_BigMan hey! Ive never caught enyone on live before!', ' check this out: http://tinyurl.com/d44lra', \" I'm not either. We should have went out *snicker* Although I am enjoying listening to RR and my beer\", \" it's a great\", \"It's just a click without subscription needed  Vote for my tweet on http://openzap.com/ (in today best list)\", ' jealous. im slaving away at the store and youre chilling on the boat.', \" oh mannn i'm gonna be there tomorroww\", ' heyy.  how are you?', \" i'm sitting in a cold room by myself...what? a jerk!\", \" sooo the children's museum was closed for a fund raiser when we got there. annoying\", ' please', ' good!', 'Good morning... Iï¿½m soooo tierd', ' best', \"you've got to read it downwards for it to make sense.\", 'Got a sunburn from Coney Island bike ride', ' good!', 'Time to play the drums', 'But why do I have to spend it in the office', \" i'm cured!!!!\", ' not good', ' upset', \"So now we'll pay more in sales tax...great.  Even worse Mom and Pop businesses have to double what they pay in business licenses.\", ' i love', ' i think my niece got me sickee lame.', ' I know what you mean. My little dog is sinking into depression... he wants to move someplace tropical', 'Last day of the TV up-fronts w/ our colleagues from Sydney, Paris, London...', 'i know im wrong .. just give me one more chance   sEnti .. :]', 'hour. 167 / 60 = 2.8 words/minute. no pressure.', ' tired', ' i hate not being allowed on the computer.', \"i'm still in bed and on the laptop ...yep borin !!!\", 'TweetDeck is acting really strange! Hum........ reinstall maybe. Update on the horizon? Or is it just another Adobe memory leak', ' damned expensive', ' me too  what are you doing?', ' : nice', ' thank you!', ' kinda expensive', \" lucky! i'm so jealous\", ' good morning, to all the mommies happy', ' good theological, psychological &amp; sociological reasons. but agree - lighten up!', ' yay but you missed naptime', ' ok. lol. i miss you too. i hope your cramps get better. i know how painful they can be.', 'i want to go to singapore but my mother seems not', ' Dang I should have stuck with him in my fantasty picks', ' cute!', 'some relaxation. so much things on my list... but really not that much', ' hope ur havin fun', \"I wish Saturday Night Fever was on again! I couldn't stay up lastnite for the whole thing\", 'rus', \"Do you have a chronic illness blog? Let me know, I'll post your link on my own  www.ptsici.blogspot.com\", ' hey Jess where is Josh??', ' crappy', ' good', 'just watched slumdog millionaire  its soo goood i love it :] but its sad!', ' jealous', ' the app said i need 12.1.5 or later', ' miss', 'Mothers Day', ' hope', ' omg sore', ' badly', ' --Nothing', ' tough, even for me', ' enjoyed', ' love', \" i'm my happiest whem i'm on the go.\", '_RuGGeD_MaN hi vishal', ' love', ' im so angry', \"Lately i've been waking up with the sun in my face but not today..\", 'I lost 15 dollars. I always lose my money', 'went 2 see the hannah montana movie wiv jodie on friday and it was WELL GOOD but i feel nasty for laughing at the lil girl that cryed LOL', 'http://twitpic.com/4wuaq - another prof pic.', ' great', \"friends&quot; on here - but if i did , i'd tell 'em to text me ! lol [ likin' us &lt;3 ]\", ' broken condom.', ' hate', \" At least he's in breakthrough performance tho. I just wanted him nominated in his own category\", 'i want you to text me first everyday, not me', ' love would be nice', 'Laundry time and LOTS of it!', ' oh that totally works', 'gonna go 2 bed now, night tweeters  , dont think about me when you sleep ;) hahah nite all', ' sadly', ' Ha! Did she find out? The only thing Google came up with was some database acronym and &quot;dibbs&quot; on the front seat aka shotgun', ' its dirty', ' fan', ' great', ' that is incredibly sweet!!!! what a good hubby...', ' bad', ' but better', ' happy', ' hurts, and this is my medicine. gum', \" g'night\", ' hate', ' you can see the coffee table again!!', \"i'm only updating this so that brett's phone beeps  but really.. looking at wedding stuff. again.for the next five months.\", ' email those pics on ur labtop to me...  I wana put one of them as my background!  http://myloc.me/21DS', 'home! day scale from one to ten is an 8  **** i feel old compare to him, haha so cute.', ' very very bad headache that is getting worse by the minute not better.', ' im having trouble finding really yummy egg free ice-cream   #favoriteicecream - got any recommendations anyone?', 'yeah so Prom Night is now the Craft (good movie)', \" .. guess ol' tom has another mission impossible ... some of this is like trying to prove innocence .. i didn't get hugged\", 'Woke up and watched Jon and Kate plus eight. I tried to pretend like they were still a normail family', ' no internet for a week or longer', ' no lamb though', ' happy', 'shake shake shake shake shake it', \" hell yes. i'm too late.\", \" it's amazing\", ' i love', ' thanks', \" alas no, it's just a normal night  monday is quiz night\", ' nice', 'Fixing openbox theme a little', ' good', ' you didnt send me the text', \" oh it's been so long\", \"  I'm trying to get myself moving this morning!\", ' sorry', 'Yay for birthdays  sadly my voice is almost gone :/ but it was a pretty good night!', \"All of a sudden I'm craving broccoli and cheese soup really bad... my mouth is watering envisioning a bread bowl in my head...\", ' getting stressed over a sortie tomorrow. and like i am really really stress..', ' nice. better', \" it's trashy\", 'I day til NYC!!!! and the journey soon begins!!! Music baby', ' amazing', ' good', 'http://twitpic.com/67fue - My formerly pretty car', ' amazing! seriously, so good. the entire cast was excellent, spock and kirk especially. i want to see it again.', ' meetings are overrated.', \"Whoooooo I'm gettin' extra hours today    afterwards I'm gonna see if I can get some marigolds for my mum ^^\", 'back to bed', ' look at what i said to....someone. actually dont. no, do it. dont. yes. no.yes. no. UGH i dont know.', ' screwed', ' i love', ' happy', ' wishin my buddies', ' omg u nasty', ' best', \"_collins I'm not sure I understand how this twitter thing works...\", ' hehe his name was Jack Dawson &amp; he died on the Titanic  u c that movie Miley?im watching it rite now. amazing.tell Leo I&lt;3Him!', ' then stop staying out all night', \"just finish clean up my computer/guest room's cupboard! my stuffs\", ' sad', ' yum!', ' go on msn. i need to talk to you about something that happened today', ' hurt', \" i can't find my camera\", ' mega burguer was my lunch yesterday', '  lol - thats 51p less ive got towards the cruise!!', 'hey peoples, dont you just hate being grounded haha, im just sat eating an apple and watching death note (some anime)', ' love', ' love', '#3breakupwords you have changed', ' sad about young love coming to an end  They were sooo cute together!', ' kill', \" can't wait to hear the evp! and cuuuute picture.\", 'today got her POP! t-shirt &amp; lovess ittt  haha x', ' good', ' good', 'Just got to the gym but w/no energy', 'Doing some test shooting later this afternoon.  Did I mention being in Holland for an indie wine festival this week? My tongue is red.', ' I am thinking about reading that too! She is talking about it on the View too! Not that you miss it often', ' love', \" thank you. keep it down, there's a good lad.\", 'Mexican coca cola in a bottle. New favorite thing.  No high fructose corn syrup....  sugar is so awesomely old school.', 'CAPONES island in 2 days!!! my summer is just starting...', \" I know...  it's already been two weeks!\", 'What are some good places to eat in Los Angeles, want to try something different today', 'reality needs to check in. schools over. time to party  not tonight tho, im going to bed. night, night.', ' good news about the tooth!', ' better', \" hahaha no you don't! it was amazing! they're really amazing! today they have another one. I can't go\", 'Last day of CGI 09', ' what a glorious week. my best', \" that's the one. i wish i have a video compilation of 's thrusting\", 'Now I like #startrek. Personal feels that #Startrek movie is better than #xmen.', \" i'm sad\", 'this aztec mask is harder then i thought! but u kno what, i think i did a pretty good job for not being an artist', ' every day of my life lately.    i feel ya girl &lt;3', \"has made a decision and will stick to it although I'm really not sure it's the right one\", ' aww, we will miss', 'Dhellohannah5 can you please follow me  i need more followers haha', '  sadly we were too late for TraceyCakes, but we got them elsewhere- not the same but still yummy. Tea w wee on wknd!', \"_rose Mornin' !  Missed dance time, so I guess I will have to dance extra hard tomorrow...\", 'Omg Cliff Richard songs in my mind? Just why  lol', ' best friend is leaving to go back to school today..i am so sad', 'I wish I was out of school...But sadly, I still have like another month left.', 'Waiting for the last movie to finish then am test screening Ghost of Girlfriends Past, glass of wine and lolly bag in hand, yay!', ' nice! elise rolled out thas wassup! have fun, ladies!', 'about to take my mum out for jewellery shopping and a coffee for mothers day', ' i can die later. school wednesday and thursday then, finally sleep in on friday!!', ' gummy bears', \"_Mom Emailed you - it'll be on the porch anytime. If you come tomorrow, we'll have to miss you! Don't worry about knocking!\", \"_Fizz he's really not into new people  I dunno em but he said he'd try\", 'Sun has been making me happy =] Shame about work tonight  x', 'the weather is good mmm what to do today??? shame working tomorrow', ' good, too!', ' shut me down', ' sad', ' my bad homie', 'im just up :-| and its 12:43 :O  im so lazy thank god its a bank holiday', \"Just hit the 3000 word mark for his Geography Notes, and I'm not even doing it for GCSE? Mean while I've done a page of history\", \"at famous dave's with my mom. so hungry.\", ' disappointed', ' hard 2 graduate...', ' an oprah guest if ever i saw one  http://tinyurl.com/d39x4n', ' its great being your own boss', ' loving', ' sad... xxxxxx', ' like it!!', \" ha. nothing any man does is right on mothers day except for taking kids off mum's hands for whole day\", ' yay!', ' btw, do you realize your profile pic makes you look much older than you say you are?', ' not good', ' finally got to wash my hair! i feel much better', ' headed to the beach with puppy maverick hugs and much aloha', ' good', \"Geeze- I'm just wondering what is wrong with some people. I either need to go for a run or go to sleep. Tomorrow should be a fun day.\", 'Just got my paycheck... April bonus can b deposited 2day the rest, gotta wait til Mon.', ' acum? u tweet too much', ' hard', 'Off to a wedding!', ' shame!', 'My anticipated meet up with Tapan Parikh is no more  apparently he wont pass by Nairobi, and will head straight from Mombasa', 'FINALLY-- Now I am me again.  I had to use internet explorer.  Firefox issues   Back to normal Tweeting.', '_iscool I have a 320GB drive in my MB, with 6GB free... and 1.5TB external storage permanently connected when at home', ' i love', ' got an awesome', ' worse than they already are... answer.. just did!!!', ' sorry', ' offspring-pretty fly for a white guy. haha.', ' disappointed', ' how are you gonna get them? i got bitten', ' i always hope they will die out but then i see the the old ones and it makes me sad', ' fun', ' **** it i want a higherscore!', ' everyones just set to &quot;away&quot; on msn.. nobody to talk to :\\\\', ' funny', ' sad! i cried so much times! much love grandpa!&lt;3 i never got to say my last &quot;goodbye&quot; to him.', '...', ' Tis me SharonP...', ' feels sorry', ' oh god, a moth was living in a **** power outlet! (actually, my powersquid.)', 'Is trying to recover from a broken heart....yet again for the 2nd or 3rd time', ' i hope', \"  most name brands have dairy even if it's called 'semi-sweet' or 'dark'.  I'll try to get some in the HelloVeggies Store!\", 'oute best', 'farewelling an employee tonight...', ' chillin bored', ' you asked about my SF schedule, dahling...maybe next time', ' really bored', 'well being a retired drummer I can do my own drum roll so all you need to do is read my posts since they take a ton of time  lol', ' sucks??? i sprained my toe!! ouch!!', ' your test works fine for me  tweetdeck is so cool eh?', \"Babysitting in the sun and heat. I'm getting lots of freckles\", ' the neighborhood gas station is gone, kaput, out of business. no more convenient trips for ice or whatevs. over 3 miles now to travel..', '  I need one of these! Was just thinking about it earlier today as I downloaded pictures via USB.  #evernote_eyefi', ' hope someone good has him', \" does 'real detroit\", ' dead', \" don't worry, the bizarre will find you\", ' good', ' dear oh dear.....', \" lucky! that's awesome\", \" delegate  I am now eating pate on toast a my wife is editing yesterday's engagement shoot ;)\", ' loves using remote access to use my desktop from my laptop. -- back from emerge once again.', ' completely excellent', ' sick. but i got the blog done at least.', ' glad', ' heeeeey! You abandoned me here on Twitter momma dots?', \"Saw the blink show from the tmobile party. I'm speachless\", ' awesome! luv the new single!', ' nice', \" That ur anti is what I understood from the message. Sorry left off ur don't vote BNP msg at end due 2 space\", ' can you fedex me some pizza? I have to cancel my NYC trip until later this summer', ' yay about breaking 200!', ' gutted.', ' yeah, when you start reaching your early-mid-20s', ' i dont like #kde since ver. 4.0 its like vista #fail', ' hahaha omg i only got 3 hrs of sleep', 'Someone out there will soon  be the lucky recipient of my 5000th Tweet. Oh wait. ****. THIS was it!', ' good', ' thank you.', ' congrats!', \"two o'clock please come faster\", 'just saw UP  it was a cute movie (:passed by a place called a peasants kitchen. wtf? that names kinda sad', ' thank god. i am ready for summer', ' thank you! &quot;return of the mack&quot; is the jam!', ' ****', \" i'm back from my first 5k running race and still alive!\", \" i'm so sad\", \" that's me right now, all I can do is stare at everyone else working on thier laptops\", ' burnt they hurt', 'ordered my new shirt', ' i miss', ' hey hey', ' looking forward to the sunset!', ' welcome', ' if you can and know how, why not', ' pretty funny', ' thankful', \" i so can't be bothered working tomorrow!\", \"Signing off for the night. Watching &quot;The Reader&quot; and I'm sure I'll snooze off at some point. Good night all\", 'a Dutch marketing agency is asking job applicants to apply in 140 characters or less  http://www.energize.nl/twillicitatie/', \"Is listening to P!nk tunage and trying to teach my cat to dance to it... I think she's getting it we can be backing dancers by next tour\", ' happy', ' i love', ' thanks', ' bad', ': you get to go home and i have to go to work', \" i can't believe that you guys are gonna stay just one day here in Rio de Janeiro again\", ' learning tat the scenic way  din plan to go town but somehow was herded there?', 'oh ok i always wondered how that worked. i only have the top of my ear done. i dont think i could get anything else pierced', ' Good to see you back. Sorry that happened to you', ' Chrystina Grace Timberlake has a ring to it!', 'is excited about tomorrow!!! but i gotta clean the house  CLEAN CLEAN CLEAN AHHHHHHH', 'could be a while), wait for people to arrive, then party', ' good', ' worth', ' thanks', ' sorry', \" i'm stuck\", ' good morning twitterland. happy', ' morning you', \"How can you guys lived in a city (paris)where u spend you entire life in the trafficjam...grrrr ...m' not used to it anymore\", ' a pretty black top', \" oic, where in Cavite? no sorry im not from America ... if you can see my profile, there's no word like America there\", ' sorry', \"went twitter crazy! last nigh :p well thats what happens when u got nothin ta do at 2 o'clock in da mornin\", \" i'm blaming you nite\", ' dam i missed', 'the trip was really great. but i cant belive summers here', ' sorry', ' i skyped u  las nite', ' stressing me out.', ' important person?  who?', \"'Wake Up Darling'\", ' happy', ' I just about clear my whole office and no sign of it  next place is truck, I have yet to fully clean under back seat lol!', ' sad, he is getting so big, check out my twipics', ' srry im not so interesting', \" yeahh  those two times we've stood next to each other were special times...\", ' not good', ' wish', 'This is for all of you ppl! The 1 year Anniversary Video. http://is.gd/ysbs more to come after the break', \"and we're in\", ' best', 'I just need to go to the bank', ' haha LOL  no one is effing cool as you, you got the Wu-Tang and P.E. t-shirts! You are gorgeous + represent at the same time', ' yes its the twins  so i wontt be watching', ' poor kella is on meds now for an ear infection; she lost', 'Kicking like crazy.', ' wishes happy', 'is thinking about a career change', ' happy', ' poole around 4ish, has some serious gardening to do before we go, no tweetdeck til sunday evening,', ' guess i missed out on more than beer and a good time', ' ****!', ' .. thanks', \" i don't wanna work a 10-hour shift today! i'd rather whisper sweet-nothings into the earpiece of a lady friend's cellphone.\", ' ****', \"Guess who has internet at her house? *raises hand* And it's not dial up.\", ' yeeeewww', 'Just got home from school. Doing assignments.', ' i cant believes its already monday, the weekend went by soooo fast, keeping my fingers crossed', ' i miss', ' youre diabetic? so is my dad.', \" I was just at Geno's 3hrs ago.  Would have went to Pats but the Neon Lights got me lol.  Had drinks at South Philly Bar too\", ' not well', ' wishin i was sexin somebody!!!', ' wrong', ' good', 'tg', \" that's good. haha i still can't believe it's mother's day.\", ' awful', ' thanks', 'JB on the front of factor x!!!!! wooh contest timeee', ' i love', ' i really wish', ' sorry', ' funny', \" i'm very conflicted here. i really like mike but i still have feelings for darrin. it's really complicated. i don't know what to do.\", ' sorry', ' miss', \" never trust someone else's battery operated\", \"at 's with \", ' i love you so much tay (: youre so amazing', 'is ONLiNE  http://plurk.com/p/stjdg', ' oh yes!', ' love the challenge!', ' my throat hurts', ' super excited.', ' thanks', \" i'm hoping to get back to it and &quot;tune up&quot; my skills. tim plays guitar. we threaten duets.\", \" what's the matter?\", ' if you take backstreet boya and put them in silk mc hammer pants with sgt peppers/beatles coats and lame music then you have SMAP', ' useful for manipulating arrays of numbers with uncertainties.', ' They open at 9 a.m.   And I hope to be there shortly after that.   No guarantees for me though!', ' where?  U magazine?', \"RIP to officer Edwards. May GOD continue to bless his family. What's up wit cops killing cops. Seen the same thing happen on &quot;The WIRE&quot;.\", ' thanks,wind,for being so pleasant a ...', 'hhh....', ' good', ' had a great weekend... but ate too much i think.. i am looking forward to my trip to hobart on friday the 15th....', ' &amp; more #&lt;3criminy cuteness! http://tinyurl.com/cd8yab #sinfest', '@_CorruptedAngel my god, really! Really? 50? Christ', 'I recommend returning your broken duck toy with the batteis it came with or the person who your giving it to may get mad!!  trust me!', ' amazing', ' good luck', \" LOL Me too. Going out at 12am isn't as easy as it used to be\", \" - touched a real live Cube in Hamilton. Dealership closed - couldn't sit in it though\", \"I didn't bring my pokemon with me I forgot them at home\", ' already misses', ' im doing that **** right now ... im on vacation and you got me workin', '_tron oh god, whose tire?', ' ugh but i n33d t0g0 bad..', 'New Forum Thread - First Typhoon of the Season: Is *NOT* headed to Okinawa.  Made you look. .. http://tinyurl.com/dm4b3q', ' i would love', \" Hey Kevin! Yeah, this one's gonna be a toughie for sure - not much sleep. Oh well, only 8 hours to go\", \"my new phrase is 'you never doubt mo williams'   six game win streak!\", ' poor', 'Hairspray in hair + lighter&amp;bong = new haircut', \"finished work @ midday, had kiddie dinner ... now have no get-up &amp; go ... ah well it's bank holiday!   #fb\", \" i can't sleep, this is so darn frustrating.\", \" u don't have school today????\", 'baby i need you , right here , right now', ' happy', ' Playing with lighters fire matches and grass', ' entertaining.... i think.', \" They lost me at US ending. ;) I, mean, I don't eat #GreyPoupon or anything, but I prefer the bleaker original.\", ' happy', ' not good anymore', \" so i'll excuse your love for the Cavs and the west, even though I don't share it!\", ' feel like ****', ' it is my honor', ' Thanks...I really do appreciate that. I know it will be the hardest thing I have ever done', ' aww...thats a bummer', ' **** i failed', 'Huh, another ScarePoint coding Sunday', ' june 15, 1995, chino hills, CA. The 1 day it rained n june in SoCal...we had an outside grad; had 2 move it 2 the gym', ' good', ' immobiliser so it makes it incredibly complicated and costly! i have no key code neither for the immobiliser.', ' thanks', ' ha! lemme know what you find (tho I suspect it will be a lot of complaints). Have a peaceful night my friend', ' tired. but chambers class is for napping.', ' fail to fail me.', ' good', ' sore throat. this is not good. i have four performances this weekend.', ' sadd..', \" imax. . . could've watched it all night. . . live long and prosper\", 'Bird poo update... Managed to clean it all off but some slight stainage remains  any tips?', \"Okay, so the only reason I'm not buying this app is because I hate EA and all that it stands for. SimCity rocks though.  http://is.gd/JpMM\", ' He was creepy for me at first, but I did really grow to like him. I cried like a baby when he and Tosh died.', \"_66 I haven't had slip-ons in years, since my checkered days. Matter of fact I only have my torn up all black classics.\", ' hurt way worse', \" --that came to my mind. So I said it. And it has now been adapted into my family's vocabulary\", ' when i have to make a decision like that i always choose Black.....', ' ugh fun concert screen cracked on phone again because it fell... =\\\\', \" nevermind! beyonce doesn't have a twitter haha\", ' sucks.', ' kill', '_xo Today yeah', 'Currently brushing up on the art and science of selecting good domain names (after having 550 domains the year before with poor results)', ' well, as i mother &amp; grandma i am a bit in a kidding mode', '11:11 I made a wish', ' wrong direction, used to be a cool place, now its a mess', \" The Case of the Gigolo's Picolo?\", ' hate what i have said to some ppl sometimes. sorry for makin an **** of myself to anyone.', 'Must head back to the office', '_Day26 awww man, its nott', ' happy', ' sounds pathetic.', ' bad', \" NOPE.  It's been years since it's happened like this.\", 'love you madre chels tonight. cant wait for her to see her present!', ' feeling awful, new medication is making me nauseous', \" they're married; they may have a brother or a friend!\", \" I'm having lunch already  ur a lil late buddy!\", \" i would but he's premiering avatar footage and can't do it then. also, we better hang out.\", ' boring', ' nice', ' corps prospects.', 'YES! Im down to 50% full on my dvr  i was at 98% like 3 days ago... lol I swear if I didnt have a dvr I would never watch tv', ' nothing better than to have your grandaughter smile and nothing feels better than that big hug!! grandkids, what a hoot!', ' worse and worse', ' i feel much better', ' worst', ' adorable.', ' jealous', ' morning  how are you?', ' suck not coming to my bday!', ' relaxing', \" i'm backing up blackberry files which could take hours then to the drawing preps done\", ' How come?', ' haha no kidding...', \" just that you're not here...\", ' momma martini went food shopping without me!!!!', \" hahaha now ur gonna tweet.... I awoke to 67 the other night haha Man the concerts here suck. Cali's da place 2 be\", ' good i hope..', ' sad...', \"Homework. ew fml. Should I pull an all nighter? I think I'm gonna have to again\", ' yeah the entire time i was all *swoon* b/c of his eyes..... *swoons thinking about it*', \" but it's too late\", 'is on facebook', \" u were great, as always. but, can't we do an east germany on noko? or at least provoke them &amp; then go in 4 the kill.\", ' wish', ' happy', \"this one goes out to Jimmy Fallon and Justin Timberlake...doin' their Gibb Bros show on SNL  ? http://blip.fm/~5z1vd\", ' thank', 'About 60 again todayy yayy!!!', ' love', ' sad...', ' goodnight', 'learning how to use twitter', ' gosh, watchin cosmetic surgery nightmares on itv , it is awful', ' thanks', ' beautiful', ' miss these guys so much thanks for making the 5 years at senior school amazing!', ' peeled off my skin. or maybe my skin just peeled off with the voter paint', ' eagerly anticipating twitpics', \" alice doesn't know what to wear to the cinema\", ' win!', ' ****, i dont have 2 work saturday, &amp; i was suppose 2 hang out with my friend &amp; watch it.', ' hurts', \" i can't survive! // weeelcome to my wonderland *sing along*\", 'hah.. finally got home...', ' hooray for monday! undaunted by a 3am wakeup, i consider it is 9am in london and feel justified. bright side to everything!', \"Just found out a friend and his son fell down a 25ft shaft onto concrete today. They are alive at least. Don't know much else.\", ' great people!', ' wish i were coming tonight.', ' i think u have more than enough friends now, including me lol', ' love love love pot psycology.', ' most definitely', 'i ate too much ice cream and curly fries', ' interesting', 'Feeling tempted by high volume of jeeps to start an &quot;acura wave&quot;. Me too!', '   But  is right: This is like the Cape Breton coal mines but ++. No lessons learned.', ' fun.', \"Early Mother's Day dinner with the  family\", ' has a name label on his picture too.. i just hadnt added it in when i took this: http://www.twitpic.com/4hap4 picture..', ' good!!', \" that's black market material right there, my friend!\", ' nice', ' thanks', ' suck', ' and if i lived in usa i would gotto 2 go to  106 park ma aunty lives in NYC the bronx GRRR', 'i miss', ' Why do I have to enter my registration details every time I update?', ' favorite', ' truly amazing', ' sad. i miss', ' best', ' tired.', ' happy', ' guessed tht...idiot..', \" i'm not having a good day\", ' Boring? Who you been talking to? Lol not me  ( no ****)', ' happy', \" you're alive!!!!!! go w/ the notebook...it'll make you cry\", ' bumming.', 'Im sending this to my mother!  http://bit.ly/1aa1RF', ' please standby.', \"Marking going ok so far A's and B's so far - relieved it looks like I have future programmers in class\", 'off to lunch with all the people from aikido', 'hey  i tried callin u but it wont let me', ' thanks!', ' happy', 'Just woke up. Making breakfast', ' thank yooou! i might have to get it seen to... hm... ****', ' thanks', ' good morning! &quot;return to willen island - spring has most definitely sprung&quot; ... http://bit.ly/eyrtt ... enjoy', \"I ate Something I don't know what it is... Why do I keep Telling things about food\", ' sounds awesome..', ' poorpoor girl!', \" I hear you. I can't think of a layout either.  lol I've been trying for i dont know how long.\", ' not fair!', \" &quot;if there's a camel up a hill&quot; and &quot;i'll give you plankton&quot; ....hilarious!!\", ' food really baaad.', ' cut my thumb with the saw in small metals again...', 'might still be eating and drinking then', 'Time to put the weapons on the charger for the night.  Sleep tight', \" airsoft is so much fun! i play with my brothers and it's a great bonding experience.\", ' dammit!', ' good', 'Back to work!', ' happy', \" Concord &amp; Irvine, CA only. That's it for '09.\", ' omg - madness', ' no offers yet but at least there is a lot of interest.', ' thanks', ' JUST like to clarify that I am a unable to acc. review vibrators as have not testrun any. *not an invitaiton for freebies', ' enjoy', ' **** brah,', '_92 yeah im okayy lots been happening while you not been here !! anyone special at the moment ? ****', 'was so excited to eat the wartermelon i bought the other day and it was terrible and not sweet', ' squirels 1, jesska 0 i should stick to spiders', ' happy', 'Toy Story 3 trailer premiered with Up. I need my computer back.', ' Ace @ the exams!', \" why don't you\", ' thanks', ' lappy charger is completely dead... conserving', ' kill', ' rearry rip. youd never guess what i ate..', ' im sad i cant go. it makes me sad', ' aww', \"I'm a senior. I should of been already.\", \"DONE--IT'S SUMMER!!!\", 'Getting somewhere with my first &quot;real&quot; KiokuDB and catalyst app, yay', ' - halla!!! doing ok- got a cold but trying to ignore it  how about you?', ' love', ' awesome', ' sorry', ' he not getting off early?', ' i love', ' stupid', ' does it start tomorrow? i was going to book sam on that and forgot', ' problem', '#musicmonday Epic song. (Y)  ? &quot;Lights and Sounds&quot; by Yellowcard ~ http://tinyurl.com/db7ppm', ' ugh,', 'On a 10min brake. At wrrkk ... its 11:06 and its over at. 11:16', ' david cook!!', ' love the music.wishing i could watch the live action but not old enough', \" happy birthday snickers!!!! ? i hope you have the best day ever! let's go shopping!!!\", \" i'm depressed\", ' thanks', 'My birthday is now over.', \" i'm at work....bored out of my mind.\", \" you're welcome! cutie-pie kiddo.. in your picture btw love\", ' thanks', \" omg i meant &lt;3 you're the perfect\", ' its weird', ' lmk.', \" doesn't work on my shiny red coffee table...\", ' i do my humble best', \"eps, don't forget to call your mom today...\", ' good. thanks for #ff love', ' die', ' pretty cool', \"watching Gilmore Girls reruns!! Don't know what else to do for the day\", ' cool.', ' 6 am.  you?', ' stupid', 'http://twitpic.com/67s14 - Saw a family of five get out of this motor home and into laundromat to clean clothes and bedding', 'unless', ' miss', ' unfortunately!', ' happy', \" that's odd as it's on my lap maybe that's your cat o: s:\", ' sucks.', \"  I remember those days. I wasn't a big fan of Wesley but I really felt for you as a youngster dealing with all that. But you WON!\", ' lucky', ' feeling so great!', ' &quot;we never want to lose the fans that got us here!&quot; thank you for saying that wish you and the others a nice day, greets', \"I'm such a saddo, haha. But that actually makes me really happy. Warrens dead though\", \" That's not what  said  I like you, too, though.  is going steady with , though.....\", '  your right.... How was your trip', ' little stomach bug,', ' miss', ' i love', \" beautiful nice day and i'm stuck inside!\", ' well.. i dont have to do any resits... lol... so its MY last exam', 'i was so bored i decided to iron all my baju sklh. thn i realized i hate doing tht. so all i did was iron a sleeve HAHAHA. im off to schl', 'Wish my headache/almost migraine would go away!', ' thanks', \"At anthony's for prom.\", ' happy', ' good', \"valium makes you feel goood. i need more. i can't fall back asleep. i want my mommy\", 'JT should just be a regular on SNL', ' i miss', ' glad to know that the ad display problem was due to a firewall config at yr office. phew!', ' good morning people!!! have a great day', 'sometimes spam leaks in to the message board.', 'British Expat Tweet Tommy and the Giant Sprout: Especially for Fly  as part of sprout seaso.. http://tinyurl.com/c7kvb6', ' #twappy http://bit.ly/D9qVk', ' hate', ' died a little.', \" I'm so sorry to hear that you're in the hospital.  Hope you'll be better soon.\", 'ughh on the phone with HP!', ' happy', ' cried so hard!', ' We are working', ' sick', ' lame', 'everything is spinning', \"#followfriday _1001 cuz ive never been added to anyone's followfriday either  &amp; cuz he's got a cool picture\", \" i'm at work and i'm still sick\", \" super good. i'm almost tempted to go get some.\", ' love', 'Memories', \" skinny dipping with work colleagues?! maybe not. i'd never live it down with this lot!\", ' suffer the consequences..gnite tweeps', ' stupid', \" this morning i rode behind a guy with a bird cage containing a plastic tyrannosaurus rex attached to his bicycle. i couldn't get a photo.\", \"Kyle is Cody's wee bro!\", ' missed', ' .. Eh .. have u never heard of Belfast..? Where like EVERYONE loves you!?!', \"yay  my 'only on sundays' maid came!! the house will be clean again!!!\", ' fail', ' liked', ' not working for me anymore', \"_ YEEEAH :'D lmao, dentists aren't nice  espesh after they decide your too old for goodie bags with stickers &amp; awesome toothpaste\", 'can sum1 tells me how 2 vote 4 miley? it seems sum peeple r still voting i went 2 mtv.com nd it seems i cant vote', \" I'll put your name on the list\", ' stupid', ' hahah,', ' love', \" looks supa' fly on that mini couch\", \" LOL, very true. Maybe next year. I loooved that siggy, and I don't remember what the password for the mod thing was  Cake?\", 'Sitting in an almost empty dorm, waiting for jordan to come to take some last things and say good bye. He graduates tomorrow.', \" yummy yum-cha for mother's day with mum, dad, arcel and egg-pants yuuuuuum http://twitpic.com/4w65x\", 'Guys will go see Constance \\t logically', 'working the graveyard shift!', ' so saddddddd i want them to be togetherrr. i swear if this **** gets me bawlinggg, so help me..', ' hate not having my car!! i miss you my little ford focus!!!', \" looks like we're rained out for weekend climbing\", ' its seriously quiet and lonely here without bunny', 'Hates untalented **** being mean to my talented friends', 'ok      Love you girls. but work beckons.  Will come back later for #twpp', ' good day to be black &amp;#38 sexy&quot; http://tinyurl.com/ckmkul cool', 'I must have viewed that picture of me and  from saturday morning about a milling times  x', \" won't be for a while though. wide awake.\", ' happy', ' yes sir i sure did.', ' sunburn', \" wrong....i've just burnt\", \"Paper writing til my heart's content\", ' cute im sorry dont be sad!', ' lost', 'Invasion of the Old Ladies has just ended, still have to clean up not going to be able to make it to the tweetup tonight.', \"$#@! My nose stud fell out and I can't find it  Looks like I'll have to head into Amsterdam today and get a new one\", ' Will do']\n"
          ],
          "name": "stdout"
        }
      ]
    },
    {
      "cell_type": "code",
      "metadata": {
        "id": "xkb6cfvID_O8",
        "colab_type": "code",
        "colab": {}
      },
      "source": [
        "submission = pd.read_csv('/kaggle/input/tweet-sentiment-extraction/sample_submission.csv')"
      ],
      "execution_count": 0,
      "outputs": []
    },
    {
      "cell_type": "code",
      "metadata": {
        "id": "-5sEbwjPFCN7",
        "colab_type": "code",
        "colab": {}
      },
      "source": [
        "submission.selected_text = prediction1"
      ],
      "execution_count": 0,
      "outputs": []
    },
    {
      "cell_type": "code",
      "metadata": {
        "id": "snYBEvjRFESa",
        "colab_type": "code",
        "colab": {}
      },
      "source": [
        "submission.to_csv(\"submission.csv\",index=False)"
      ],
      "execution_count": 0,
      "outputs": []
    },
    {
      "cell_type": "code",
      "metadata": {
        "id": "MazMgVZDM29e",
        "colab_type": "code",
        "outputId": "8f48d320-b644-4160-c9f8-ecff09145d86",
        "colab": {
          "base_uri": "https://localhost:8080/",
          "height": 168
        }
      },
      "source": [
        "tf.tpu.experimental.initialize_tpu_system(resolver)"
      ],
      "execution_count": 0,
      "outputs": [
        {
          "output_type": "stream",
          "text": [
            "WARNING:tensorflow:TPU system grpc://10.49.79.186:8470 has already been initialized. Reinitializing the TPU can cause previously created variables on TPU to be lost.\n"
          ],
          "name": "stdout"
        },
        {
          "output_type": "stream",
          "text": [
            "WARNING:tensorflow:TPU system grpc://10.49.79.186:8470 has already been initialized. Reinitializing the TPU can cause previously created variables on TPU to be lost.\n"
          ],
          "name": "stderr"
        },
        {
          "output_type": "stream",
          "text": [
            "INFO:tensorflow:Initializing the TPU system: grpc://10.49.79.186:8470\n"
          ],
          "name": "stdout"
        },
        {
          "output_type": "stream",
          "text": [
            "INFO:tensorflow:Initializing the TPU system: grpc://10.49.79.186:8470\n"
          ],
          "name": "stderr"
        },
        {
          "output_type": "stream",
          "text": [
            "INFO:tensorflow:Clearing out eager caches\n"
          ],
          "name": "stdout"
        },
        {
          "output_type": "stream",
          "text": [
            "INFO:tensorflow:Clearing out eager caches\n"
          ],
          "name": "stderr"
        },
        {
          "output_type": "stream",
          "text": [
            "INFO:tensorflow:Finished initializing TPU system.\n"
          ],
          "name": "stdout"
        },
        {
          "output_type": "stream",
          "text": [
            "INFO:tensorflow:Finished initializing TPU system.\n"
          ],
          "name": "stderr"
        },
        {
          "output_type": "execute_result",
          "data": {
            "text/plain": [
              "<tensorflow.python.tpu.topology.Topology at 0x7f1006f929e8>"
            ]
          },
          "metadata": {
            "tags": []
          },
          "execution_count": 23
        }
      ]
    },
    {
      "cell_type": "code",
      "metadata": {
        "id": "d1HqnyYUM3os",
        "colab_type": "code",
        "colab": {}
      },
      "source": [
        "# Roberta trained on batch size 180, full training partial predictions CV .701_ saved as V20.\n",
        "# Roberta trained on batch size 180, (128,2,same,relu) and (64,2,same,relu) CV .703 saved as V21.\n",
        "# Roberta trained on batch size 180, (64,32,same,relu) and (64,2,same,relu) CV .702 saved as V21."
      ],
      "execution_count": 0,
      "outputs": []
    }
  ]
}